{
  "cells": [
    {
      "cell_type": "code",
      "execution_count": 1,
      "metadata": {
        "id": "I7S3Cbim_T6P"
      },
      "outputs": [],
      "source": [
        "import pandas as pd\n",
        "import os\n",
        "import numpy as np\n",
        "import librosa\n",
        "import tensorflow as tf\n",
        "import matplotlib.pyplot as plt\n",
        "import librosa.display\n",
        "from sklearn.model_selection import train_test_split\n",
        "import keras\n",
        "from keras import Model, Input\n",
        "from keras.layers import Input, Conv1D, SpatialDropout1D, GlobalAveragePooling1D, Dense, Dropout, Bidirectional, GRU, Attention, Activation, Dot, concatenate\n",
        "from keras.models import Model\n",
        "from keras.layers import Conv1D, Flatten, Dense, Dropout, SpatialDropout1D, GlobalAveragePooling1D\n",
        "from keras.optimizers import Adam\n",
        "from keras.optimizers.schedules import ExponentialDecay\n",
        "from keras.losses import SparseCategoricalCrossentropy\n",
        "from keras.metrics import SparseCategoricalAccuracy\n",
        "from sklearn.metrics import average_precision_score, f1_score, precision_score, recall_score, roc_auc_score\n",
        "from keras.callbacks import TensorBoard, ModelCheckpoint, LearningRateScheduler\n",
        "import seaborn as sns"
      ]
    },
    {
      "cell_type": "code",
      "execution_count": 2,
      "metadata": {
        "colab": {
          "base_uri": "https://localhost:8080/"
        },
        "id": "iCfkaGpaO73D",
        "outputId": "b54c04bc-585e-48f9-bf66-9de80096e41c"
      },
      "outputs": [
        {
          "output_type": "stream",
          "name": "stdout",
          "text": [
            "Mounted at /content/drive\n"
          ]
        }
      ],
      "source": [
        "from google.colab import drive\n",
        "drive.mount('/content/drive')"
      ]
    },
    {
      "cell_type": "code",
      "execution_count": 3,
      "metadata": {
        "colab": {
          "base_uri": "https://localhost:8080/"
        },
        "id": "d27UE85UpfDe",
        "outputId": "ff5e364e-751f-41d2-e5b7-d7e59b5ae7cf"
      },
      "outputs": [
        {
          "output_type": "stream",
          "name": "stdout",
          "text": [
            "Num GPUs Available:  1\n"
          ]
        }
      ],
      "source": [
        "print(\"Num GPUs Available: \", len(tf.config.list_physical_devices('GPU')))\n",
        "#tf.debugging.set_log_device_placement(True)\n"
      ]
    },
    {
      "cell_type": "code",
      "execution_count": 4,
      "metadata": {
        "colab": {
          "base_uri": "https://localhost:8080/",
          "height": 747
        },
        "id": "BFPSpWhmCAeE",
        "outputId": "f0d5b70a-7d85-40d0-f89c-3810bf602e75"
      },
      "outputs": [
        {
          "output_type": "execute_result",
          "data": {
            "text/plain": [
              "       id       genus   species subspecies           name  \\\n",
              "0  557838  Thryomanes  bewickii        NaN  Bewick's Wren   \n",
              "1  557838  Thryomanes  bewickii        NaN  Bewick's Wren   \n",
              "2  557838  Thryomanes  bewickii        NaN  Bewick's Wren   \n",
              "3  557838  Thryomanes  bewickii        NaN  Bewick's Wren   \n",
              "4  557838  Thryomanes  bewickii        NaN  Bewick's Wren   \n",
              "\n",
              "                recordist        country  \\\n",
              "0  Whitney Neufeld-Kaiser  United States   \n",
              "1  Whitney Neufeld-Kaiser  United States   \n",
              "2  Whitney Neufeld-Kaiser  United States   \n",
              "3  Whitney Neufeld-Kaiser  United States   \n",
              "4  Whitney Neufeld-Kaiser  United States   \n",
              "\n",
              "                                  location  latitude  longitude altitude  \\\n",
              "0  Arlington, Snohomish County, Washington   48.0708  -122.1006      100   \n",
              "1  Arlington, Snohomish County, Washington   48.0708  -122.1006      100   \n",
              "2  Arlington, Snohomish County, Washington   48.0708  -122.1006      100   \n",
              "3  Arlington, Snohomish County, Washington   48.0708  -122.1006      100   \n",
              "4  Arlington, Snohomish County, Washington   48.0708  -122.1006      100   \n",
              "\n",
              "                   sound_type                   source_url  \\\n",
              "0  adult, sex uncertain, song  //www.xeno-canto.org/557838   \n",
              "1  adult, sex uncertain, song  //www.xeno-canto.org/557838   \n",
              "2  adult, sex uncertain, song  //www.xeno-canto.org/557838   \n",
              "3  adult, sex uncertain, song  //www.xeno-canto.org/557838   \n",
              "4  adult, sex uncertain, song  //www.xeno-canto.org/557838   \n",
              "\n",
              "                                        license   time        date  \\\n",
              "0  //creativecommons.org/licenses/by-nc-sa/4.0/  11:51  2020-03-14   \n",
              "1  //creativecommons.org/licenses/by-nc-sa/4.0/  11:51  2020-03-14   \n",
              "2  //creativecommons.org/licenses/by-nc-sa/4.0/  11:51  2020-03-14   \n",
              "3  //creativecommons.org/licenses/by-nc-sa/4.0/  11:51  2020-03-14   \n",
              "4  //creativecommons.org/licenses/by-nc-sa/4.0/  11:51  2020-03-14   \n",
              "\n",
              "                                             remarks      filename  \n",
              "0  Recorded with Voice Record Pro on iPhone7, nor...  557838-0.wav  \n",
              "1  Recorded with Voice Record Pro on iPhone7, nor...  557838-1.wav  \n",
              "2  Recorded with Voice Record Pro on iPhone7, nor...  557838-4.wav  \n",
              "3  Recorded with Voice Record Pro on iPhone7, nor...  557838-5.wav  \n",
              "4  Recorded with Voice Record Pro on iPhone7, nor...  557838-6.wav  "
            ],
            "text/html": [
              "\n",
              "  <div id=\"df-3d091a8b-4a2d-4e1d-b96a-933b0f84a7b8\" class=\"colab-df-container\">\n",
              "    <div>\n",
              "<style scoped>\n",
              "    .dataframe tbody tr th:only-of-type {\n",
              "        vertical-align: middle;\n",
              "    }\n",
              "\n",
              "    .dataframe tbody tr th {\n",
              "        vertical-align: top;\n",
              "    }\n",
              "\n",
              "    .dataframe thead th {\n",
              "        text-align: right;\n",
              "    }\n",
              "</style>\n",
              "<table border=\"1\" class=\"dataframe\">\n",
              "  <thead>\n",
              "    <tr style=\"text-align: right;\">\n",
              "      <th></th>\n",
              "      <th>id</th>\n",
              "      <th>genus</th>\n",
              "      <th>species</th>\n",
              "      <th>subspecies</th>\n",
              "      <th>name</th>\n",
              "      <th>recordist</th>\n",
              "      <th>country</th>\n",
              "      <th>location</th>\n",
              "      <th>latitude</th>\n",
              "      <th>longitude</th>\n",
              "      <th>altitude</th>\n",
              "      <th>sound_type</th>\n",
              "      <th>source_url</th>\n",
              "      <th>license</th>\n",
              "      <th>time</th>\n",
              "      <th>date</th>\n",
              "      <th>remarks</th>\n",
              "      <th>filename</th>\n",
              "    </tr>\n",
              "  </thead>\n",
              "  <tbody>\n",
              "    <tr>\n",
              "      <th>0</th>\n",
              "      <td>557838</td>\n",
              "      <td>Thryomanes</td>\n",
              "      <td>bewickii</td>\n",
              "      <td>NaN</td>\n",
              "      <td>Bewick's Wren</td>\n",
              "      <td>Whitney Neufeld-Kaiser</td>\n",
              "      <td>United States</td>\n",
              "      <td>Arlington, Snohomish County, Washington</td>\n",
              "      <td>48.0708</td>\n",
              "      <td>-122.1006</td>\n",
              "      <td>100</td>\n",
              "      <td>adult, sex uncertain, song</td>\n",
              "      <td>//www.xeno-canto.org/557838</td>\n",
              "      <td>//creativecommons.org/licenses/by-nc-sa/4.0/</td>\n",
              "      <td>11:51</td>\n",
              "      <td>2020-03-14</td>\n",
              "      <td>Recorded with Voice Record Pro on iPhone7, nor...</td>\n",
              "      <td>557838-0.wav</td>\n",
              "    </tr>\n",
              "    <tr>\n",
              "      <th>1</th>\n",
              "      <td>557838</td>\n",
              "      <td>Thryomanes</td>\n",
              "      <td>bewickii</td>\n",
              "      <td>NaN</td>\n",
              "      <td>Bewick's Wren</td>\n",
              "      <td>Whitney Neufeld-Kaiser</td>\n",
              "      <td>United States</td>\n",
              "      <td>Arlington, Snohomish County, Washington</td>\n",
              "      <td>48.0708</td>\n",
              "      <td>-122.1006</td>\n",
              "      <td>100</td>\n",
              "      <td>adult, sex uncertain, song</td>\n",
              "      <td>//www.xeno-canto.org/557838</td>\n",
              "      <td>//creativecommons.org/licenses/by-nc-sa/4.0/</td>\n",
              "      <td>11:51</td>\n",
              "      <td>2020-03-14</td>\n",
              "      <td>Recorded with Voice Record Pro on iPhone7, nor...</td>\n",
              "      <td>557838-1.wav</td>\n",
              "    </tr>\n",
              "    <tr>\n",
              "      <th>2</th>\n",
              "      <td>557838</td>\n",
              "      <td>Thryomanes</td>\n",
              "      <td>bewickii</td>\n",
              "      <td>NaN</td>\n",
              "      <td>Bewick's Wren</td>\n",
              "      <td>Whitney Neufeld-Kaiser</td>\n",
              "      <td>United States</td>\n",
              "      <td>Arlington, Snohomish County, Washington</td>\n",
              "      <td>48.0708</td>\n",
              "      <td>-122.1006</td>\n",
              "      <td>100</td>\n",
              "      <td>adult, sex uncertain, song</td>\n",
              "      <td>//www.xeno-canto.org/557838</td>\n",
              "      <td>//creativecommons.org/licenses/by-nc-sa/4.0/</td>\n",
              "      <td>11:51</td>\n",
              "      <td>2020-03-14</td>\n",
              "      <td>Recorded with Voice Record Pro on iPhone7, nor...</td>\n",
              "      <td>557838-4.wav</td>\n",
              "    </tr>\n",
              "    <tr>\n",
              "      <th>3</th>\n",
              "      <td>557838</td>\n",
              "      <td>Thryomanes</td>\n",
              "      <td>bewickii</td>\n",
              "      <td>NaN</td>\n",
              "      <td>Bewick's Wren</td>\n",
              "      <td>Whitney Neufeld-Kaiser</td>\n",
              "      <td>United States</td>\n",
              "      <td>Arlington, Snohomish County, Washington</td>\n",
              "      <td>48.0708</td>\n",
              "      <td>-122.1006</td>\n",
              "      <td>100</td>\n",
              "      <td>adult, sex uncertain, song</td>\n",
              "      <td>//www.xeno-canto.org/557838</td>\n",
              "      <td>//creativecommons.org/licenses/by-nc-sa/4.0/</td>\n",
              "      <td>11:51</td>\n",
              "      <td>2020-03-14</td>\n",
              "      <td>Recorded with Voice Record Pro on iPhone7, nor...</td>\n",
              "      <td>557838-5.wav</td>\n",
              "    </tr>\n",
              "    <tr>\n",
              "      <th>4</th>\n",
              "      <td>557838</td>\n",
              "      <td>Thryomanes</td>\n",
              "      <td>bewickii</td>\n",
              "      <td>NaN</td>\n",
              "      <td>Bewick's Wren</td>\n",
              "      <td>Whitney Neufeld-Kaiser</td>\n",
              "      <td>United States</td>\n",
              "      <td>Arlington, Snohomish County, Washington</td>\n",
              "      <td>48.0708</td>\n",
              "      <td>-122.1006</td>\n",
              "      <td>100</td>\n",
              "      <td>adult, sex uncertain, song</td>\n",
              "      <td>//www.xeno-canto.org/557838</td>\n",
              "      <td>//creativecommons.org/licenses/by-nc-sa/4.0/</td>\n",
              "      <td>11:51</td>\n",
              "      <td>2020-03-14</td>\n",
              "      <td>Recorded with Voice Record Pro on iPhone7, nor...</td>\n",
              "      <td>557838-6.wav</td>\n",
              "    </tr>\n",
              "  </tbody>\n",
              "</table>\n",
              "</div>\n",
              "    <div class=\"colab-df-buttons\">\n",
              "\n",
              "  <div class=\"colab-df-container\">\n",
              "    <button class=\"colab-df-convert\" onclick=\"convertToInteractive('df-3d091a8b-4a2d-4e1d-b96a-933b0f84a7b8')\"\n",
              "            title=\"Convert this dataframe to an interactive table.\"\n",
              "            style=\"display:none;\">\n",
              "\n",
              "  <svg xmlns=\"http://www.w3.org/2000/svg\" height=\"24px\" viewBox=\"0 -960 960 960\">\n",
              "    <path d=\"M120-120v-720h720v720H120Zm60-500h600v-160H180v160Zm220 220h160v-160H400v160Zm0 220h160v-160H400v160ZM180-400h160v-160H180v160Zm440 0h160v-160H620v160ZM180-180h160v-160H180v160Zm440 0h160v-160H620v160Z\"/>\n",
              "  </svg>\n",
              "    </button>\n",
              "\n",
              "  <style>\n",
              "    .colab-df-container {\n",
              "      display:flex;\n",
              "      gap: 12px;\n",
              "    }\n",
              "\n",
              "    .colab-df-convert {\n",
              "      background-color: #E8F0FE;\n",
              "      border: none;\n",
              "      border-radius: 50%;\n",
              "      cursor: pointer;\n",
              "      display: none;\n",
              "      fill: #1967D2;\n",
              "      height: 32px;\n",
              "      padding: 0 0 0 0;\n",
              "      width: 32px;\n",
              "    }\n",
              "\n",
              "    .colab-df-convert:hover {\n",
              "      background-color: #E2EBFA;\n",
              "      box-shadow: 0px 1px 2px rgba(60, 64, 67, 0.3), 0px 1px 3px 1px rgba(60, 64, 67, 0.15);\n",
              "      fill: #174EA6;\n",
              "    }\n",
              "\n",
              "    .colab-df-buttons div {\n",
              "      margin-bottom: 4px;\n",
              "    }\n",
              "\n",
              "    [theme=dark] .colab-df-convert {\n",
              "      background-color: #3B4455;\n",
              "      fill: #D2E3FC;\n",
              "    }\n",
              "\n",
              "    [theme=dark] .colab-df-convert:hover {\n",
              "      background-color: #434B5C;\n",
              "      box-shadow: 0px 1px 3px 1px rgba(0, 0, 0, 0.15);\n",
              "      filter: drop-shadow(0px 1px 2px rgba(0, 0, 0, 0.3));\n",
              "      fill: #FFFFFF;\n",
              "    }\n",
              "  </style>\n",
              "\n",
              "    <script>\n",
              "      const buttonEl =\n",
              "        document.querySelector('#df-3d091a8b-4a2d-4e1d-b96a-933b0f84a7b8 button.colab-df-convert');\n",
              "      buttonEl.style.display =\n",
              "        google.colab.kernel.accessAllowed ? 'block' : 'none';\n",
              "\n",
              "      async function convertToInteractive(key) {\n",
              "        const element = document.querySelector('#df-3d091a8b-4a2d-4e1d-b96a-933b0f84a7b8');\n",
              "        const dataTable =\n",
              "          await google.colab.kernel.invokeFunction('convertToInteractive',\n",
              "                                                    [key], {});\n",
              "        if (!dataTable) return;\n",
              "\n",
              "        const docLinkHtml = 'Like what you see? Visit the ' +\n",
              "          '<a target=\"_blank\" href=https://colab.research.google.com/notebooks/data_table.ipynb>data table notebook</a>'\n",
              "          + ' to learn more about interactive tables.';\n",
              "        element.innerHTML = '';\n",
              "        dataTable['output_type'] = 'display_data';\n",
              "        await google.colab.output.renderOutput(dataTable, element);\n",
              "        const docLink = document.createElement('div');\n",
              "        docLink.innerHTML = docLinkHtml;\n",
              "        element.appendChild(docLink);\n",
              "      }\n",
              "    </script>\n",
              "  </div>\n",
              "\n",
              "\n",
              "<div id=\"df-d28ed5dc-82a4-45ae-9fd9-87b96a58b179\">\n",
              "  <button class=\"colab-df-quickchart\" onclick=\"quickchart('df-d28ed5dc-82a4-45ae-9fd9-87b96a58b179')\"\n",
              "            title=\"Suggest charts\"\n",
              "            style=\"display:none;\">\n",
              "\n",
              "<svg xmlns=\"http://www.w3.org/2000/svg\" height=\"24px\"viewBox=\"0 0 24 24\"\n",
              "     width=\"24px\">\n",
              "    <g>\n",
              "        <path d=\"M19 3H5c-1.1 0-2 .9-2 2v14c0 1.1.9 2 2 2h14c1.1 0 2-.9 2-2V5c0-1.1-.9-2-2-2zM9 17H7v-7h2v7zm4 0h-2V7h2v10zm4 0h-2v-4h2v4z\"/>\n",
              "    </g>\n",
              "</svg>\n",
              "  </button>\n",
              "\n",
              "<style>\n",
              "  .colab-df-quickchart {\n",
              "      --bg-color: #E8F0FE;\n",
              "      --fill-color: #1967D2;\n",
              "      --hover-bg-color: #E2EBFA;\n",
              "      --hover-fill-color: #174EA6;\n",
              "      --disabled-fill-color: #AAA;\n",
              "      --disabled-bg-color: #DDD;\n",
              "  }\n",
              "\n",
              "  [theme=dark] .colab-df-quickchart {\n",
              "      --bg-color: #3B4455;\n",
              "      --fill-color: #D2E3FC;\n",
              "      --hover-bg-color: #434B5C;\n",
              "      --hover-fill-color: #FFFFFF;\n",
              "      --disabled-bg-color: #3B4455;\n",
              "      --disabled-fill-color: #666;\n",
              "  }\n",
              "\n",
              "  .colab-df-quickchart {\n",
              "    background-color: var(--bg-color);\n",
              "    border: none;\n",
              "    border-radius: 50%;\n",
              "    cursor: pointer;\n",
              "    display: none;\n",
              "    fill: var(--fill-color);\n",
              "    height: 32px;\n",
              "    padding: 0;\n",
              "    width: 32px;\n",
              "  }\n",
              "\n",
              "  .colab-df-quickchart:hover {\n",
              "    background-color: var(--hover-bg-color);\n",
              "    box-shadow: 0 1px 2px rgba(60, 64, 67, 0.3), 0 1px 3px 1px rgba(60, 64, 67, 0.15);\n",
              "    fill: var(--button-hover-fill-color);\n",
              "  }\n",
              "\n",
              "  .colab-df-quickchart-complete:disabled,\n",
              "  .colab-df-quickchart-complete:disabled:hover {\n",
              "    background-color: var(--disabled-bg-color);\n",
              "    fill: var(--disabled-fill-color);\n",
              "    box-shadow: none;\n",
              "  }\n",
              "\n",
              "  .colab-df-spinner {\n",
              "    border: 2px solid var(--fill-color);\n",
              "    border-color: transparent;\n",
              "    border-bottom-color: var(--fill-color);\n",
              "    animation:\n",
              "      spin 1s steps(1) infinite;\n",
              "  }\n",
              "\n",
              "  @keyframes spin {\n",
              "    0% {\n",
              "      border-color: transparent;\n",
              "      border-bottom-color: var(--fill-color);\n",
              "      border-left-color: var(--fill-color);\n",
              "    }\n",
              "    20% {\n",
              "      border-color: transparent;\n",
              "      border-left-color: var(--fill-color);\n",
              "      border-top-color: var(--fill-color);\n",
              "    }\n",
              "    30% {\n",
              "      border-color: transparent;\n",
              "      border-left-color: var(--fill-color);\n",
              "      border-top-color: var(--fill-color);\n",
              "      border-right-color: var(--fill-color);\n",
              "    }\n",
              "    40% {\n",
              "      border-color: transparent;\n",
              "      border-right-color: var(--fill-color);\n",
              "      border-top-color: var(--fill-color);\n",
              "    }\n",
              "    60% {\n",
              "      border-color: transparent;\n",
              "      border-right-color: var(--fill-color);\n",
              "    }\n",
              "    80% {\n",
              "      border-color: transparent;\n",
              "      border-right-color: var(--fill-color);\n",
              "      border-bottom-color: var(--fill-color);\n",
              "    }\n",
              "    90% {\n",
              "      border-color: transparent;\n",
              "      border-bottom-color: var(--fill-color);\n",
              "    }\n",
              "  }\n",
              "</style>\n",
              "\n",
              "  <script>\n",
              "    async function quickchart(key) {\n",
              "      const quickchartButtonEl =\n",
              "        document.querySelector('#' + key + ' button');\n",
              "      quickchartButtonEl.disabled = true;  // To prevent multiple clicks.\n",
              "      quickchartButtonEl.classList.add('colab-df-spinner');\n",
              "      try {\n",
              "        const charts = await google.colab.kernel.invokeFunction(\n",
              "            'suggestCharts', [key], {});\n",
              "      } catch (error) {\n",
              "        console.error('Error during call to suggestCharts:', error);\n",
              "      }\n",
              "      quickchartButtonEl.classList.remove('colab-df-spinner');\n",
              "      quickchartButtonEl.classList.add('colab-df-quickchart-complete');\n",
              "    }\n",
              "    (() => {\n",
              "      let quickchartButtonEl =\n",
              "        document.querySelector('#df-d28ed5dc-82a4-45ae-9fd9-87b96a58b179 button');\n",
              "      quickchartButtonEl.style.display =\n",
              "        google.colab.kernel.accessAllowed ? 'block' : 'none';\n",
              "    })();\n",
              "  </script>\n",
              "</div>\n",
              "\n",
              "    </div>\n",
              "  </div>\n"
            ],
            "application/vnd.google.colaboratory.intrinsic+json": {
              "type": "dataframe",
              "variable_name": "metadata",
              "summary": "{\n  \"name\": \"metadata\",\n  \"rows\": 5422,\n  \"fields\": [\n    {\n      \"column\": \"id\",\n      \"properties\": {\n        \"dtype\": \"number\",\n        \"std\": 158950,\n        \"min\": 11713,\n        \"max\": 565242,\n        \"num_unique_values\": 477,\n        \"samples\": [\n          71208,\n          323979,\n          321789\n        ],\n        \"semantic_type\": \"\",\n        \"description\": \"\"\n      }\n    },\n    {\n      \"column\": \"genus\",\n      \"properties\": {\n        \"dtype\": \"category\",\n        \"num_unique_values\": 5,\n        \"samples\": [\n          \"Mimus\",\n          \"Cardinalis\",\n          \"Turdus\"\n        ],\n        \"semantic_type\": \"\",\n        \"description\": \"\"\n      }\n    },\n    {\n      \"column\": \"species\",\n      \"properties\": {\n        \"dtype\": \"category\",\n        \"num_unique_values\": 5,\n        \"samples\": [\n          \"polyglottos\",\n          \"cardinalis\",\n          \"migratorius\"\n        ],\n        \"semantic_type\": \"\",\n        \"description\": \"\"\n      }\n    },\n    {\n      \"column\": \"subspecies\",\n      \"properties\": {\n        \"dtype\": \"category\",\n        \"num_unique_values\": 28,\n        \"samples\": [\n          \"fallax\",\n          \"cardinalis\",\n          \"propinquus\"\n        ],\n        \"semantic_type\": \"\",\n        \"description\": \"\"\n      }\n    },\n    {\n      \"column\": \"name\",\n      \"properties\": {\n        \"dtype\": \"category\",\n        \"num_unique_values\": 5,\n        \"samples\": [\n          \"Northern Mockingbird\",\n          \"Northern Cardinal\",\n          \"American Robin\"\n        ],\n        \"semantic_type\": \"\",\n        \"description\": \"\"\n      }\n    },\n    {\n      \"column\": \"recordist\",\n      \"properties\": {\n        \"dtype\": \"category\",\n        \"num_unique_values\": 98,\n        \"samples\": [\n          \"Davyd Betchkal\",\n          \"Russ Wigh\",\n          \"David Vander Pluym\"\n        ],\n        \"semantic_type\": \"\",\n        \"description\": \"\"\n      }\n    },\n    {\n      \"column\": \"country\",\n      \"properties\": {\n        \"dtype\": \"category\",\n        \"num_unique_values\": 1,\n        \"samples\": [\n          \"United States\"\n        ],\n        \"semantic_type\": \"\",\n        \"description\": \"\"\n      }\n    },\n    {\n      \"column\": \"location\",\n      \"properties\": {\n        \"dtype\": \"category\",\n        \"num_unique_values\": 304,\n        \"samples\": [\n          \"Scotch Plains, Union County, New Jersey\"\n        ],\n        \"semantic_type\": \"\",\n        \"description\": \"\"\n      }\n    },\n    {\n      \"column\": \"latitude\",\n      \"properties\": {\n        \"dtype\": \"number\",\n        \"std\": 5.999919059186263,\n        \"min\": 21.2995,\n        \"max\": 64.5035,\n        \"num_unique_values\": 303,\n        \"samples\": [\n          40.5874\n        ],\n        \"semantic_type\": \"\",\n        \"description\": \"\"\n      }\n    },\n    {\n      \"column\": \"longitude\",\n      \"properties\": {\n        \"dtype\": \"number\",\n        \"std\": 18.099531385998954,\n        \"min\": -165.4053,\n        \"max\": -68.375,\n        \"num_unique_values\": 301,\n        \"samples\": [\n          -70.3351\n        ],\n        \"semantic_type\": \"\",\n        \"description\": \"\"\n      }\n    },\n    {\n      \"column\": \"altitude\",\n      \"properties\": {\n        \"dtype\": \"category\",\n        \"num_unique_values\": 91,\n        \"samples\": [\n          \"360\"\n        ],\n        \"semantic_type\": \"\",\n        \"description\": \"\"\n      }\n    },\n    {\n      \"column\": \"sound_type\",\n      \"properties\": {\n        \"dtype\": \"category\",\n        \"num_unique_values\": 31,\n        \"samples\": [\n          \"Several different song types appear in this recording of part of a single bout.,\"\n        ],\n        \"semantic_type\": \"\",\n        \"description\": \"\"\n      }\n    },\n    {\n      \"column\": \"source_url\",\n      \"properties\": {\n        \"dtype\": \"category\",\n        \"num_unique_values\": 477,\n        \"samples\": [\n          \"//www.xeno-canto.org/71208\"\n        ],\n        \"semantic_type\": \"\",\n        \"description\": \"\"\n      }\n    },\n    {\n      \"column\": \"license\",\n      \"properties\": {\n        \"dtype\": \"category\",\n        \"num_unique_values\": 6,\n        \"samples\": [\n          \"//creativecommons.org/licenses/by-nc-sa/4.0/\"\n        ],\n        \"semantic_type\": \"\",\n        \"description\": \"\"\n      }\n    },\n    {\n      \"column\": \"time\",\n      \"properties\": {\n        \"dtype\": \"category\",\n        \"num_unique_values\": 247,\n        \"samples\": [\n          \"09:02\"\n        ],\n        \"semantic_type\": \"\",\n        \"description\": \"\"\n      }\n    },\n    {\n      \"column\": \"date\",\n      \"properties\": {\n        \"dtype\": \"category\",\n        \"num_unique_values\": 342,\n        \"samples\": [\n          \"2014-06-08\"\n        ],\n        \"semantic_type\": \"\",\n        \"description\": \"\"\n      }\n    },\n    {\n      \"column\": \"remarks\",\n      \"properties\": {\n        \"dtype\": \"category\",\n        \"num_unique_values\": 302,\n        \"samples\": [\n          \"Same individual as XC363141\"\n        ],\n        \"semantic_type\": \"\",\n        \"description\": \"\"\n      }\n    },\n    {\n      \"column\": \"filename\",\n      \"properties\": {\n        \"dtype\": \"string\",\n        \"num_unique_values\": 5422,\n        \"samples\": [\n          \"109034-2.wav\"\n        ],\n        \"semantic_type\": \"\",\n        \"description\": \"\"\n      }\n    }\n  ]\n}"
            }
          },
          "metadata": {},
          "execution_count": 4
        }
      ],
      "source": [
        "metadata = pd.read_csv('/content/drive/MyDrive/archive (17)/bird_songs_metadata.csv')\n",
        "metadata.head()"
      ]
    },
    {
      "cell_type": "code",
      "execution_count": 5,
      "metadata": {
        "colab": {
          "base_uri": "https://localhost:8080/"
        },
        "id": "gMtWJ-J-FKKZ",
        "outputId": "7cef8d36-0c25-48f4-f497-12504ca2adcf"
      },
      "outputs": [
        {
          "output_type": "execute_result",
          "data": {
            "text/plain": [
              "(['/content/drive/MyDrive/archive (17)/wavfiles/557838-0.wav',\n",
              "  '/content/drive/MyDrive/archive (17)/wavfiles/557838-1.wav',\n",
              "  '/content/drive/MyDrive/archive (17)/wavfiles/557838-4.wav',\n",
              "  '/content/drive/MyDrive/archive (17)/wavfiles/557838-5.wav',\n",
              "  '/content/drive/MyDrive/archive (17)/wavfiles/557838-6.wav'],\n",
              " ['bewickii', 'bewickii', 'bewickii', 'bewickii', 'bewickii'])"
            ]
          },
          "metadata": {},
          "execution_count": 5
        }
      ],
      "source": [
        "# Lists for storing the filepaths and labels\n",
        "file_paths = []\n",
        "labels = []\n",
        "\n",
        "audio_dir = '/content/drive/MyDrive/archive (17)/wavfiles/'\n",
        "\n",
        "for index, row in metadata.iterrows():\n",
        "    file_path = os.path.join(audio_dir, row['filename'])\n",
        "    if os.path.exists(file_path):\n",
        "        file_paths.append(file_path)\n",
        "        labels.append(row['species'])\n",
        "\n",
        "file_paths[:5], labels[:5]"
      ]
    },
    {
      "cell_type": "code",
      "execution_count": 6,
      "metadata": {
        "id": "t5DW5kJFZcGC"
      },
      "outputs": [],
      "source": [
        "bird_labels = metadata['species']\n",
        "bird_labels = bird_labels.values\n",
        "bird_labels[bird_labels == ['bewickii']] = 0\n",
        "bird_labels[bird_labels == ['polyglottos']] = 1\n",
        "bird_labels[bird_labels == ['migratorius']] = 2\n",
        "bird_labels[bird_labels == ['melodia']] = 3\n",
        "bird_labels[bird_labels == ['cardinalis']] = 4\n",
        "bird_labels = np.squeeze(bird_labels)"
      ]
    },
    {
      "cell_type": "code",
      "execution_count": 7,
      "metadata": {
        "id": "Of-la5W8FqBH"
      },
      "outputs": [],
      "source": [
        "# Function to read audio file\n",
        "def read_file(path):\n",
        "    y, _ = librosa.load(path, sr=22050)  # Set the sample rate to ensure consistency\n",
        "    return y\n",
        "\n",
        "# Function to convert to dB scale\n",
        "def spec_to_db(y):\n",
        "    y_db = librosa.power_to_db(y, ref=np.max)\n",
        "    #y_db = librosa.amplitude_to_db(y, ref=100)\n",
        "    return y_db\n",
        "\n",
        "# Map function that returns spectrograms\n",
        "def map_function(path_tensor, label):\n",
        "    # Load audio file\n",
        "    y = tf.numpy_function(read_file, inp=[path_tensor], Tout=tf.float32)\n",
        "\n",
        "    # Compute the Short-Time Fourier Transform (STFT)\n",
        "    spectrogram = tf.abs(tf.signal.stft(y, frame_length=512, frame_step=64))\n",
        "\n",
        "    mel_weights = tf.signal.linear_to_mel_weight_matrix(\n",
        "        num_mel_bins=128,\n",
        "        num_spectrogram_bins=tf.shape(spectrogram)[-1],\n",
        "        sample_rate=22050,\n",
        "        lower_edge_hertz=0.0,\n",
        "        upper_edge_hertz=8000.0)\n",
        "    mel_spectrogram = tf.matmul(spectrogram, mel_weights)\n",
        "\n",
        "    # Convert to dB scale\n",
        "    #log_mel_spectrogram = tf.numpy_function(spec_to_db, inp=[mel_spectrogram], Tout=tf.float32)\n",
        "\n",
        "    #spectrogram_db = tf.numpy_function(spec_to_db, inp = [spectrogram], Tout = tf.float32)\n",
        "    #spectrogram_db = spectrogram_db/80+1\n",
        "\n",
        "    return mel_spectrogram, label\n",
        "\n",
        "\n",
        "def make_dataset(bird_labels, file_paths, shuffle):\n",
        "    bird_labels = tf.convert_to_tensor(bird_labels, dtype = tf.int32)\n",
        "    file_paths = tf.convert_to_tensor(file_paths, dtype = tf.string)\n",
        "\n",
        "    bird_labels = tf.data.Dataset.from_tensor_slices(bird_labels)\n",
        "    file_paths = tf.data.Dataset.from_tensor_slices(file_paths)\n",
        "    dataset = tf.data.Dataset.zip( file_paths, bird_labels)\n",
        "\n",
        "    if shuffle:\n",
        "        dataset = dataset.shuffle(buffer_size = dataset.cardinality(), reshuffle_each_iteration=True)\n",
        "    dataset = dataset.map(map_function, num_parallel_calls = tf.data.AUTOTUNE)\n",
        "    dataset = dataset.batch(batch_size = 64, num_parallel_calls = tf.data.AUTOTUNE, drop_remainder = True)\n",
        "\n",
        "    return dataset"
      ]
    },
    {
      "cell_type": "code",
      "execution_count": 8,
      "metadata": {
        "colab": {
          "base_uri": "https://localhost:8080/"
        },
        "id": "XFkV-HIoN-u0",
        "outputId": "fa256840-f4ea-416c-c93b-b02b2c62c980"
      },
      "outputs": [
        {
          "output_type": "stream",
          "name": "stdout",
          "text": [
            "Shape of input data in training dataset: (64, 1026, 128)\n"
          ]
        }
      ],
      "source": [
        "file_paths_train, file_paths_test, y_train, y_test = train_test_split(\n",
        "    file_paths, bird_labels, test_size=0.20, random_state=42)\n",
        "\n",
        "dataset_train = make_dataset(y_train, file_paths_train, shuffle=True)\n",
        "dataset_test = make_dataset(y_test, file_paths_test, shuffle=False)\n",
        "\n",
        "for batch in dataset_train.take(1):\n",
        "    input_data_shape = batch[0].shape\n",
        "print(\"Shape of input data in training dataset:\", input_data_shape)"
      ]
    },
    {
      "cell_type": "code",
      "execution_count": 9,
      "metadata": {
        "id": "kRNCJEmsZ1w2"
      },
      "outputs": [],
      "source": [
        "def create_model():\n",
        "    inputs = Input(shape=(1026, 128), name='0_Input_shape')\n",
        "\n",
        "    x = Conv1D(64, 8, 2, activation='relu', padding='same', name='1_Conv1D')(inputs)\n",
        "    x = SpatialDropout1D(0.17, name='2_SpatialDropout1D')(x)\n",
        "\n",
        "    x = Conv1D(64, 8, 2, activation='relu', padding='same', name='3_Conv1d')(x)\n",
        "    x = SpatialDropout1D(0.17, name='4_SpatialDropout1D')(x)\n",
        "\n",
        "    x = Conv1D(64, 8, 2, activation='relu', padding='same', name='5_Conv1d')(x)\n",
        "    x = SpatialDropout1D(0.17, name='6_SpatialDropout1D')(x)\n",
        "\n",
        "    x = Bidirectional(GRU(64, return_sequences=True, name='GRU_1'), merge_mode='concat')(x)\n",
        "    x = Attention()([x, x])\n",
        "\n",
        "    x = GlobalAveragePooling1D(name='9_Global_avg_pooling')(x)\n",
        "    x = Dense(512, activation='relu', name='10_Dense')(x)\n",
        "    x = Dropout(0.5, name='11_Dropout')(x)\n",
        "\n",
        "    outputs = Dense(5, name='12_Dense')(x)\n",
        "    model = Model(inputs=inputs, outputs=outputs, name='Bird_audio_classification_model')\n",
        "\n",
        "    return model"
      ]
    },
    {
      "cell_type": "code",
      "execution_count": 10,
      "metadata": {
        "colab": {
          "base_uri": "https://localhost:8080/"
        },
        "id": "zVbv5ob-Z44_",
        "outputId": "5e8a5c9e-362c-4913-83ea-00b2e962a4a9"
      },
      "outputs": [
        {
          "output_type": "stream",
          "name": "stdout",
          "text": [
            "Model: \"Bird_audio_classification_model\"\n",
            "__________________________________________________________________________________________________\n",
            " Layer (type)                Output Shape                 Param #   Connected to                  \n",
            "==================================================================================================\n",
            " 0_Input_shape (InputLayer)  [(None, 1026, 128)]          0         []                            \n",
            "                                                                                                  \n",
            " 1_Conv1D (Conv1D)           (None, 513, 64)              65600     ['0_Input_shape[0][0]']       \n",
            "                                                                                                  \n",
            " 2_SpatialDropout1D (Spatia  (None, 513, 64)              0         ['1_Conv1D[0][0]']            \n",
            " lDropout1D)                                                                                      \n",
            "                                                                                                  \n",
            " 3_Conv1d (Conv1D)           (None, 257, 64)              32832     ['2_SpatialDropout1D[0][0]']  \n",
            "                                                                                                  \n",
            " 4_SpatialDropout1D (Spatia  (None, 257, 64)              0         ['3_Conv1d[0][0]']            \n",
            " lDropout1D)                                                                                      \n",
            "                                                                                                  \n",
            " 5_Conv1d (Conv1D)           (None, 129, 64)              32832     ['4_SpatialDropout1D[0][0]']  \n",
            "                                                                                                  \n",
            " 6_SpatialDropout1D (Spatia  (None, 129, 64)              0         ['5_Conv1d[0][0]']            \n",
            " lDropout1D)                                                                                      \n",
            "                                                                                                  \n",
            " bidirectional (Bidirection  (None, 129, 128)             49920     ['6_SpatialDropout1D[0][0]']  \n",
            " al)                                                                                              \n",
            "                                                                                                  \n",
            " attention (Attention)       (None, 129, 128)             0         ['bidirectional[0][0]',       \n",
            "                                                                     'bidirectional[0][0]']       \n",
            "                                                                                                  \n",
            " 9_Global_avg_pooling (Glob  (None, 128)                  0         ['attention[0][0]']           \n",
            " alAveragePooling1D)                                                                              \n",
            "                                                                                                  \n",
            " 10_Dense (Dense)            (None, 512)                  66048     ['9_Global_avg_pooling[0][0]']\n",
            "                                                                                                  \n",
            " 11_Dropout (Dropout)        (None, 512)                  0         ['10_Dense[0][0]']            \n",
            "                                                                                                  \n",
            " 12_Dense (Dense)            (None, 5)                    2565      ['11_Dropout[0][0]']          \n",
            "                                                                                                  \n",
            "==================================================================================================\n",
            "Total params: 249797 (975.77 KB)\n",
            "Trainable params: 249797 (975.77 KB)\n",
            "Non-trainable params: 0 (0.00 Byte)\n",
            "__________________________________________________________________________________________________\n"
          ]
        }
      ],
      "source": [
        "model = create_model()\n",
        "model.summary()"
      ]
    },
    {
      "cell_type": "code",
      "execution_count": 11,
      "metadata": {
        "id": "J72MU2akZ75E"
      },
      "outputs": [],
      "source": [
        "lr_schedule = ExponentialDecay(initial_learning_rate=1e-3,\n",
        "                               decay_steps= 4000, decay_rate = 0.5, staircase=False, name=None)\n",
        "\n",
        "model.compile(optimizer = Adam(lr_schedule),\n",
        "              loss = SparseCategoricalCrossentropy(from_logits = True),\n",
        "              metrics = [ SparseCategoricalAccuracy()])"
      ]
    },
    {
      "cell_type": "code",
      "execution_count": 12,
      "metadata": {
        "id": "_oKesMdkaBWn"
      },
      "outputs": [],
      "source": [
        "# Creating callbacks\n",
        "logdir = 'tb_logs/model'\n",
        "tensorboard_callback = TensorBoard(log_dir=logdir)\n",
        "\n",
        "checkpoint_filepath = 'model_checkpoint/model'\n",
        "model_checkpoint_callback = ModelCheckpoint(\n",
        "    filepath=checkpoint_filepath,\n",
        "    save_weights_only=False,\n",
        "    monitor='val_sparse_categorical_accuracy',\n",
        "    mode='max',\n",
        "    save_best_only=True)"
      ]
    },
    {
      "cell_type": "code",
      "execution_count": 13,
      "metadata": {
        "colab": {
          "base_uri": "https://localhost:8080/"
        },
        "id": "4aRTTwLgaEM7",
        "outputId": "ffa7baf5-5558-446e-8070-d2ca784f99c0"
      },
      "outputs": [
        {
          "metadata": {
            "tags": null
          },
          "name": "stdout",
          "output_type": "stream",
          "text": [
            "Epoch 1/120\n",
            "67/67 [==============================] - ETA: 0s - loss: 1.1601 - sparse_categorical_accuracy: 0.4820 "
          ]
        },
        {
          "metadata": {
            "tags": null
          },
          "name": "stderr",
          "output_type": "stream",
          "text": [
            "WARNING:absl:`0_Input_shape` is not a valid tf.function parameter name. Sanitizing to `arg_0_Input_shape`.\n",
            "WARNING:absl:`0_Input_shape` is not a valid tf.function parameter name. Sanitizing to `arg_0_Input_shape`.\n",
            "WARNING:absl:`0_Input_shape` is not a valid tf.function parameter name. Sanitizing to `arg_0_Input_shape`.\n"
          ]
        },
        {
          "metadata": {
            "tags": null
          },
          "name": "stdout",
          "output_type": "stream",
          "text": [
            "67/67 [==============================] - 893s 13s/step - loss: 1.1601 - sparse_categorical_accuracy: 0.4820 - val_loss: 0.8602 - val_sparse_categorical_accuracy: 0.6680\n",
            "Epoch 2/120\n",
            "67/67 [==============================] - ETA: 0s - loss: 0.8530 - sparse_categorical_accuracy: 0.6600"
          ]
        },
        {
          "metadata": {
            "tags": null
          },
          "name": "stderr",
          "output_type": "stream",
          "text": [
            "WARNING:absl:`0_Input_shape` is not a valid tf.function parameter name. Sanitizing to `arg_0_Input_shape`.\n",
            "WARNING:absl:`0_Input_shape` is not a valid tf.function parameter name. Sanitizing to `arg_0_Input_shape`.\n"
          ]
        },
        {
          "output_type": "stream",
          "name": "stdout",
          "text": [
            "67/67 [==============================] - 50s 745ms/step - loss: 0.8530 - sparse_categorical_accuracy: 0.6600 - val_loss: 0.6628 - val_sparse_categorical_accuracy: 0.7539\n",
            "Epoch 3/120\n",
            "67/67 [==============================] - 51s 763ms/step - loss: 0.6712 - sparse_categorical_accuracy: 0.7533 - val_loss: 0.5996 - val_sparse_categorical_accuracy: 0.7734\n",
            "Epoch 4/120\n",
            "67/67 [==============================] - 49s 730ms/step - loss: 0.5756 - sparse_categorical_accuracy: 0.7950 - val_loss: 0.4633 - val_sparse_categorical_accuracy: 0.8301\n",
            "Epoch 5/120\n",
            "67/67 [==============================] - 51s 771ms/step - loss: 0.4758 - sparse_categorical_accuracy: 0.8347 - val_loss: 0.4137 - val_sparse_categorical_accuracy: 0.8457\n",
            "Epoch 6/120\n",
            "67/67 [==============================] - 52s 776ms/step - loss: 0.4159 - sparse_categorical_accuracy: 0.8582 - val_loss: 0.3683 - val_sparse_categorical_accuracy: 0.8750\n",
            "Epoch 7/120\n",
            "67/67 [==============================] - 52s 775ms/step - loss: 0.3900 - sparse_categorical_accuracy: 0.8652 - val_loss: 0.3464 - val_sparse_categorical_accuracy: 0.8809\n",
            "Epoch 8/120\n",
            "67/67 [==============================] - 50s 749ms/step - loss: 0.3377 - sparse_categorical_accuracy: 0.8797 - val_loss: 0.2750 - val_sparse_categorical_accuracy: 0.9043\n",
            "Epoch 9/120\n",
            "67/67 [==============================] - 52s 781ms/step - loss: 0.3041 - sparse_categorical_accuracy: 0.8911 - val_loss: 0.2718 - val_sparse_categorical_accuracy: 0.9121\n",
            "Epoch 10/120\n",
            "67/67 [==============================] - 41s 613ms/step - loss: 0.2879 - sparse_categorical_accuracy: 0.9007 - val_loss: 0.2455 - val_sparse_categorical_accuracy: 0.9092\n",
            "Epoch 11/120\n",
            "67/67 [==============================] - 49s 742ms/step - loss: 0.2771 - sparse_categorical_accuracy: 0.9056 - val_loss: 0.2193 - val_sparse_categorical_accuracy: 0.9297\n",
            "Epoch 12/120\n",
            "67/67 [==============================] - 42s 626ms/step - loss: 0.2454 - sparse_categorical_accuracy: 0.9163 - val_loss: 0.2327 - val_sparse_categorical_accuracy: 0.9131\n",
            "Epoch 13/120\n",
            "67/67 [==============================] - 55s 820ms/step - loss: 0.2252 - sparse_categorical_accuracy: 0.9207 - val_loss: 0.2195 - val_sparse_categorical_accuracy: 0.9307\n",
            "Epoch 14/120\n",
            "67/67 [==============================] - 42s 635ms/step - loss: 0.2052 - sparse_categorical_accuracy: 0.9282 - val_loss: 0.2145 - val_sparse_categorical_accuracy: 0.9307\n",
            "Epoch 15/120\n",
            "67/67 [==============================] - 40s 593ms/step - loss: 0.2093 - sparse_categorical_accuracy: 0.9270 - val_loss: 0.2082 - val_sparse_categorical_accuracy: 0.9287\n",
            "Epoch 16/120\n",
            "67/67 [==============================] - 54s 807ms/step - loss: 0.2010 - sparse_categorical_accuracy: 0.9289 - val_loss: 0.2074 - val_sparse_categorical_accuracy: 0.9316\n",
            "Epoch 17/120\n",
            "67/67 [==============================] - 50s 750ms/step - loss: 0.1920 - sparse_categorical_accuracy: 0.9328 - val_loss: 0.1932 - val_sparse_categorical_accuracy: 0.9375\n",
            "Epoch 18/120\n",
            "67/67 [==============================] - 40s 596ms/step - loss: 0.1816 - sparse_categorical_accuracy: 0.9356 - val_loss: 0.2047 - val_sparse_categorical_accuracy: 0.9346\n",
            "Epoch 19/120\n",
            "67/67 [==============================] - 52s 785ms/step - loss: 0.1748 - sparse_categorical_accuracy: 0.9422 - val_loss: 0.1815 - val_sparse_categorical_accuracy: 0.9473\n",
            "Epoch 20/120\n",
            "67/67 [==============================] - 39s 590ms/step - loss: 0.1557 - sparse_categorical_accuracy: 0.9443 - val_loss: 0.1661 - val_sparse_categorical_accuracy: 0.9473\n",
            "Epoch 21/120\n",
            "67/67 [==============================] - 45s 673ms/step - loss: 0.1453 - sparse_categorical_accuracy: 0.9522 - val_loss: 0.1968 - val_sparse_categorical_accuracy: 0.9434\n",
            "Epoch 22/120\n",
            "67/67 [==============================] - 38s 570ms/step - loss: 0.1467 - sparse_categorical_accuracy: 0.9473 - val_loss: 0.1971 - val_sparse_categorical_accuracy: 0.9434\n",
            "Epoch 23/120\n",
            "67/67 [==============================] - 42s 626ms/step - loss: 0.1476 - sparse_categorical_accuracy: 0.9454 - val_loss: 0.1957 - val_sparse_categorical_accuracy: 0.9355\n",
            "Epoch 24/120\n",
            "67/67 [==============================] - 51s 770ms/step - loss: 0.1405 - sparse_categorical_accuracy: 0.9489 - val_loss: 0.1665 - val_sparse_categorical_accuracy: 0.9492\n",
            "Epoch 25/120\n",
            "67/67 [==============================] - 42s 621ms/step - loss: 0.1458 - sparse_categorical_accuracy: 0.9487 - val_loss: 0.1674 - val_sparse_categorical_accuracy: 0.9473\n",
            "Epoch 26/120\n",
            "67/67 [==============================] - 52s 776ms/step - loss: 0.1195 - sparse_categorical_accuracy: 0.9573 - val_loss: 0.1609 - val_sparse_categorical_accuracy: 0.9541\n",
            "Epoch 27/120\n",
            "67/67 [==============================] - 41s 611ms/step - loss: 0.1194 - sparse_categorical_accuracy: 0.9592 - val_loss: 0.1862 - val_sparse_categorical_accuracy: 0.9502\n",
            "Epoch 28/120\n",
            "67/67 [==============================] - 41s 621ms/step - loss: 0.1066 - sparse_categorical_accuracy: 0.9662 - val_loss: 0.1996 - val_sparse_categorical_accuracy: 0.9482\n",
            "Epoch 29/120\n",
            "67/67 [==============================] - 40s 604ms/step - loss: 0.1135 - sparse_categorical_accuracy: 0.9620 - val_loss: 0.2230 - val_sparse_categorical_accuracy: 0.9336\n",
            "Epoch 30/120\n",
            "67/67 [==============================] - 42s 625ms/step - loss: 0.1167 - sparse_categorical_accuracy: 0.9611 - val_loss: 0.1916 - val_sparse_categorical_accuracy: 0.9502\n",
            "Epoch 31/120\n",
            "67/67 [==============================] - 39s 574ms/step - loss: 0.1184 - sparse_categorical_accuracy: 0.9583 - val_loss: 0.1825 - val_sparse_categorical_accuracy: 0.9502\n",
            "Epoch 32/120\n",
            "67/67 [==============================] - 48s 726ms/step - loss: 0.1078 - sparse_categorical_accuracy: 0.9629 - val_loss: 0.1532 - val_sparse_categorical_accuracy: 0.9570\n",
            "Epoch 33/120\n",
            "67/67 [==============================] - 43s 641ms/step - loss: 0.0953 - sparse_categorical_accuracy: 0.9674 - val_loss: 0.1818 - val_sparse_categorical_accuracy: 0.9473\n",
            "Epoch 34/120\n",
            "67/67 [==============================] - 43s 639ms/step - loss: 0.1113 - sparse_categorical_accuracy: 0.9615 - val_loss: 0.1814 - val_sparse_categorical_accuracy: 0.9502\n",
            "Epoch 35/120\n",
            "67/67 [==============================] - 41s 619ms/step - loss: 0.0867 - sparse_categorical_accuracy: 0.9697 - val_loss: 0.1604 - val_sparse_categorical_accuracy: 0.9551\n",
            "Epoch 36/120\n",
            "67/67 [==============================] - 42s 627ms/step - loss: 0.0949 - sparse_categorical_accuracy: 0.9713 - val_loss: 0.1881 - val_sparse_categorical_accuracy: 0.9365\n",
            "Epoch 37/120\n",
            "67/67 [==============================] - 42s 623ms/step - loss: 0.1028 - sparse_categorical_accuracy: 0.9662 - val_loss: 0.1584 - val_sparse_categorical_accuracy: 0.9541\n",
            "Epoch 38/120\n",
            "67/67 [==============================] - 44s 665ms/step - loss: 0.0836 - sparse_categorical_accuracy: 0.9711 - val_loss: 0.1732 - val_sparse_categorical_accuracy: 0.9463\n",
            "Epoch 39/120\n",
            "67/67 [==============================] - 41s 622ms/step - loss: 0.0876 - sparse_categorical_accuracy: 0.9694 - val_loss: 0.1707 - val_sparse_categorical_accuracy: 0.9551\n",
            "Epoch 40/120\n",
            "67/67 [==============================] - 41s 620ms/step - loss: 0.0804 - sparse_categorical_accuracy: 0.9753 - val_loss: 0.1591 - val_sparse_categorical_accuracy: 0.9570\n",
            "Epoch 41/120\n",
            "67/67 [==============================] - 42s 623ms/step - loss: 0.0802 - sparse_categorical_accuracy: 0.9727 - val_loss: 0.1673 - val_sparse_categorical_accuracy: 0.9492\n",
            "Epoch 42/120\n",
            "67/67 [==============================] - 42s 624ms/step - loss: 0.0831 - sparse_categorical_accuracy: 0.9746 - val_loss: 0.1648 - val_sparse_categorical_accuracy: 0.9512\n",
            "Epoch 43/120\n",
            "67/67 [==============================] - 39s 587ms/step - loss: 0.0845 - sparse_categorical_accuracy: 0.9722 - val_loss: 0.1589 - val_sparse_categorical_accuracy: 0.9561\n",
            "Epoch 44/120\n",
            "67/67 [==============================] - 51s 763ms/step - loss: 0.0710 - sparse_categorical_accuracy: 0.9732 - val_loss: 0.1625 - val_sparse_categorical_accuracy: 0.9590\n",
            "Epoch 45/120\n",
            "67/67 [==============================] - 43s 639ms/step - loss: 0.0629 - sparse_categorical_accuracy: 0.9799 - val_loss: 0.1791 - val_sparse_categorical_accuracy: 0.9541\n",
            "Epoch 46/120\n",
            "67/67 [==============================] - 40s 591ms/step - loss: 0.0737 - sparse_categorical_accuracy: 0.9739 - val_loss: 0.1902 - val_sparse_categorical_accuracy: 0.9502\n",
            "Epoch 47/120\n",
            "67/67 [==============================] - 42s 625ms/step - loss: 0.0795 - sparse_categorical_accuracy: 0.9743 - val_loss: 0.1669 - val_sparse_categorical_accuracy: 0.9570\n",
            "Epoch 48/120\n",
            "67/67 [==============================] - 39s 589ms/step - loss: 0.0629 - sparse_categorical_accuracy: 0.9774 - val_loss: 0.1777 - val_sparse_categorical_accuracy: 0.9590\n",
            "Epoch 49/120\n",
            "67/67 [==============================] - 41s 609ms/step - loss: 0.0649 - sparse_categorical_accuracy: 0.9790 - val_loss: 0.1951 - val_sparse_categorical_accuracy: 0.9492\n",
            "Epoch 50/120\n",
            "67/67 [==============================] - 40s 591ms/step - loss: 0.0631 - sparse_categorical_accuracy: 0.9755 - val_loss: 0.1814 - val_sparse_categorical_accuracy: 0.9561\n",
            "Epoch 51/120\n",
            "67/67 [==============================] - 41s 620ms/step - loss: 0.0694 - sparse_categorical_accuracy: 0.9760 - val_loss: 0.1702 - val_sparse_categorical_accuracy: 0.9541\n",
            "Epoch 52/120\n",
            "67/67 [==============================] - 40s 591ms/step - loss: 0.0584 - sparse_categorical_accuracy: 0.9802 - val_loss: 0.1585 - val_sparse_categorical_accuracy: 0.9551\n",
            "Epoch 53/120\n",
            "67/67 [==============================] - 44s 651ms/step - loss: 0.0515 - sparse_categorical_accuracy: 0.9823 - val_loss: 0.1806 - val_sparse_categorical_accuracy: 0.9531\n",
            "Epoch 54/120\n",
            "67/67 [==============================] - 42s 630ms/step - loss: 0.0521 - sparse_categorical_accuracy: 0.9834 - val_loss: 0.1791 - val_sparse_categorical_accuracy: 0.9561\n",
            "Epoch 55/120\n",
            "67/67 [==============================] - 53s 791ms/step - loss: 0.0532 - sparse_categorical_accuracy: 0.9825 - val_loss: 0.1859 - val_sparse_categorical_accuracy: 0.9600\n",
            "Epoch 56/120\n",
            "67/67 [==============================] - 39s 588ms/step - loss: 0.0477 - sparse_categorical_accuracy: 0.9827 - val_loss: 0.1668 - val_sparse_categorical_accuracy: 0.9590\n",
            "Epoch 57/120\n",
            "67/67 [==============================] - 43s 647ms/step - loss: 0.0573 - sparse_categorical_accuracy: 0.9804 - val_loss: 0.1702 - val_sparse_categorical_accuracy: 0.9590\n",
            "Epoch 58/120\n",
            "67/67 [==============================] - 42s 624ms/step - loss: 0.0508 - sparse_categorical_accuracy: 0.9823 - val_loss: 0.1709 - val_sparse_categorical_accuracy: 0.9541\n",
            "Epoch 59/120\n",
            "67/67 [==============================] - 39s 571ms/step - loss: 0.0572 - sparse_categorical_accuracy: 0.9802 - val_loss: 0.1792 - val_sparse_categorical_accuracy: 0.9531\n",
            "Epoch 60/120\n",
            "67/67 [==============================] - 42s 624ms/step - loss: 0.0588 - sparse_categorical_accuracy: 0.9799 - val_loss: 0.1813 - val_sparse_categorical_accuracy: 0.9521\n",
            "Epoch 61/120\n",
            "67/67 [==============================] - 39s 579ms/step - loss: 0.0569 - sparse_categorical_accuracy: 0.9809 - val_loss: 0.1662 - val_sparse_categorical_accuracy: 0.9570\n",
            "Epoch 62/120\n",
            "67/67 [==============================] - 42s 624ms/step - loss: 0.0429 - sparse_categorical_accuracy: 0.9858 - val_loss: 0.1928 - val_sparse_categorical_accuracy: 0.9551\n",
            "Epoch 63/120\n",
            "67/67 [==============================] - 39s 586ms/step - loss: 0.0579 - sparse_categorical_accuracy: 0.9778 - val_loss: 0.1571 - val_sparse_categorical_accuracy: 0.9580\n",
            "Epoch 64/120\n",
            "67/67 [==============================] - 43s 642ms/step - loss: 0.0538 - sparse_categorical_accuracy: 0.9809 - val_loss: 0.1563 - val_sparse_categorical_accuracy: 0.9570\n",
            "Epoch 65/120\n",
            "67/67 [==============================] - 48s 726ms/step - loss: 0.0505 - sparse_categorical_accuracy: 0.9841 - val_loss: 0.1450 - val_sparse_categorical_accuracy: 0.9639\n",
            "Epoch 66/120\n",
            "67/67 [==============================] - 52s 775ms/step - loss: 0.0388 - sparse_categorical_accuracy: 0.9869 - val_loss: 0.1534 - val_sparse_categorical_accuracy: 0.9658\n",
            "Epoch 67/120\n",
            "67/67 [==============================] - 44s 656ms/step - loss: 0.0375 - sparse_categorical_accuracy: 0.9853 - val_loss: 0.1521 - val_sparse_categorical_accuracy: 0.9629\n",
            "Epoch 68/120\n",
            "67/67 [==============================] - 48s 715ms/step - loss: 0.0435 - sparse_categorical_accuracy: 0.9860 - val_loss: 0.1616 - val_sparse_categorical_accuracy: 0.9609\n",
            "Epoch 69/120\n",
            "67/67 [==============================] - 41s 621ms/step - loss: 0.0402 - sparse_categorical_accuracy: 0.9867 - val_loss: 0.1587 - val_sparse_categorical_accuracy: 0.9609\n",
            "Epoch 70/120\n",
            "67/67 [==============================] - 41s 621ms/step - loss: 0.0390 - sparse_categorical_accuracy: 0.9874 - val_loss: 0.1503 - val_sparse_categorical_accuracy: 0.9639\n",
            "Epoch 71/120\n",
            "67/67 [==============================] - 43s 639ms/step - loss: 0.0475 - sparse_categorical_accuracy: 0.9872 - val_loss: 0.1682 - val_sparse_categorical_accuracy: 0.9609\n",
            "Epoch 72/120\n",
            "67/67 [==============================] - 42s 624ms/step - loss: 0.0330 - sparse_categorical_accuracy: 0.9893 - val_loss: 0.1609 - val_sparse_categorical_accuracy: 0.9629\n",
            "Epoch 73/120\n",
            "67/67 [==============================] - 55s 819ms/step - loss: 0.0406 - sparse_categorical_accuracy: 0.9886 - val_loss: 0.1468 - val_sparse_categorical_accuracy: 0.9668\n",
            "Epoch 74/120\n",
            "67/67 [==============================] - 42s 630ms/step - loss: 0.0486 - sparse_categorical_accuracy: 0.9844 - val_loss: 0.1487 - val_sparse_categorical_accuracy: 0.9619\n",
            "Epoch 75/120\n",
            "67/67 [==============================] - 42s 627ms/step - loss: 0.0416 - sparse_categorical_accuracy: 0.9846 - val_loss: 0.1703 - val_sparse_categorical_accuracy: 0.9590\n",
            "Epoch 76/120\n",
            "67/67 [==============================] - 39s 591ms/step - loss: 0.0514 - sparse_categorical_accuracy: 0.9834 - val_loss: 0.1581 - val_sparse_categorical_accuracy: 0.9648\n",
            "Epoch 77/120\n",
            "67/67 [==============================] - 45s 672ms/step - loss: 0.0367 - sparse_categorical_accuracy: 0.9893 - val_loss: 0.1614 - val_sparse_categorical_accuracy: 0.9609\n",
            "Epoch 78/120\n",
            "67/67 [==============================] - 43s 648ms/step - loss: 0.0369 - sparse_categorical_accuracy: 0.9860 - val_loss: 0.1513 - val_sparse_categorical_accuracy: 0.9600\n",
            "Epoch 79/120\n",
            "67/67 [==============================] - 40s 593ms/step - loss: 0.0303 - sparse_categorical_accuracy: 0.9888 - val_loss: 0.1647 - val_sparse_categorical_accuracy: 0.9658\n",
            "Epoch 80/120\n",
            "67/67 [==============================] - 42s 631ms/step - loss: 0.0354 - sparse_categorical_accuracy: 0.9879 - val_loss: 0.1737 - val_sparse_categorical_accuracy: 0.9629\n",
            "Epoch 81/120\n",
            "67/67 [==============================] - 39s 578ms/step - loss: 0.0426 - sparse_categorical_accuracy: 0.9855 - val_loss: 0.1603 - val_sparse_categorical_accuracy: 0.9619\n",
            "Epoch 82/120\n",
            "67/67 [==============================] - 41s 607ms/step - loss: 0.0355 - sparse_categorical_accuracy: 0.9865 - val_loss: 0.1571 - val_sparse_categorical_accuracy: 0.9590\n",
            "Epoch 83/120\n",
            "67/67 [==============================] - 38s 573ms/step - loss: 0.0318 - sparse_categorical_accuracy: 0.9890 - val_loss: 0.1527 - val_sparse_categorical_accuracy: 0.9639\n",
            "Epoch 84/120\n",
            "67/67 [==============================] - 40s 595ms/step - loss: 0.0311 - sparse_categorical_accuracy: 0.9895 - val_loss: 0.1533 - val_sparse_categorical_accuracy: 0.9629\n",
            "Epoch 85/120\n",
            "67/67 [==============================] - 39s 583ms/step - loss: 0.0269 - sparse_categorical_accuracy: 0.9918 - val_loss: 0.1653 - val_sparse_categorical_accuracy: 0.9609\n",
            "Epoch 86/120\n",
            "67/67 [==============================] - 39s 587ms/step - loss: 0.0267 - sparse_categorical_accuracy: 0.9907 - val_loss: 0.1669 - val_sparse_categorical_accuracy: 0.9561\n",
            "Epoch 87/120\n",
            "67/67 [==============================] - 40s 595ms/step - loss: 0.0341 - sparse_categorical_accuracy: 0.9867 - val_loss: 0.1698 - val_sparse_categorical_accuracy: 0.9668\n",
            "Epoch 88/120\n",
            "67/67 [==============================] - 39s 590ms/step - loss: 0.0254 - sparse_categorical_accuracy: 0.9921 - val_loss: 0.1700 - val_sparse_categorical_accuracy: 0.9668\n",
            "Epoch 89/120\n",
            "67/67 [==============================] - 39s 586ms/step - loss: 0.0266 - sparse_categorical_accuracy: 0.9902 - val_loss: 0.1453 - val_sparse_categorical_accuracy: 0.9648\n",
            "Epoch 90/120\n",
            "67/67 [==============================] - 39s 582ms/step - loss: 0.0366 - sparse_categorical_accuracy: 0.9865 - val_loss: 0.1646 - val_sparse_categorical_accuracy: 0.9609\n",
            "Epoch 91/120\n",
            "67/67 [==============================] - 41s 607ms/step - loss: 0.0310 - sparse_categorical_accuracy: 0.9895 - val_loss: 0.1877 - val_sparse_categorical_accuracy: 0.9590\n",
            "Epoch 92/120\n",
            "67/67 [==============================] - 43s 643ms/step - loss: 0.0384 - sparse_categorical_accuracy: 0.9886 - val_loss: 0.1767 - val_sparse_categorical_accuracy: 0.9648\n",
            "Epoch 93/120\n",
            "67/67 [==============================] - 39s 583ms/step - loss: 0.0224 - sparse_categorical_accuracy: 0.9930 - val_loss: 0.1842 - val_sparse_categorical_accuracy: 0.9609\n",
            "Epoch 94/120\n",
            "67/67 [==============================] - 39s 586ms/step - loss: 0.0274 - sparse_categorical_accuracy: 0.9921 - val_loss: 0.1832 - val_sparse_categorical_accuracy: 0.9590\n",
            "Epoch 95/120\n",
            "67/67 [==============================] - 43s 634ms/step - loss: 0.0250 - sparse_categorical_accuracy: 0.9914 - val_loss: 0.1859 - val_sparse_categorical_accuracy: 0.9600\n",
            "Epoch 96/120\n",
            "67/67 [==============================] - 42s 632ms/step - loss: 0.0193 - sparse_categorical_accuracy: 0.9923 - val_loss: 0.1750 - val_sparse_categorical_accuracy: 0.9609\n",
            "Epoch 97/120\n",
            "67/67 [==============================] - 43s 652ms/step - loss: 0.0281 - sparse_categorical_accuracy: 0.9911 - val_loss: 0.1878 - val_sparse_categorical_accuracy: 0.9570\n",
            "Epoch 98/120\n",
            "67/67 [==============================] - 43s 637ms/step - loss: 0.0263 - sparse_categorical_accuracy: 0.9918 - val_loss: 0.1893 - val_sparse_categorical_accuracy: 0.9619\n",
            "Epoch 99/120\n",
            "67/67 [==============================] - 41s 606ms/step - loss: 0.0267 - sparse_categorical_accuracy: 0.9925 - val_loss: 0.1807 - val_sparse_categorical_accuracy: 0.9629\n",
            "Epoch 100/120\n",
            "67/67 [==============================] - 39s 588ms/step - loss: 0.0213 - sparse_categorical_accuracy: 0.9930 - val_loss: 0.1779 - val_sparse_categorical_accuracy: 0.9648\n",
            "Epoch 101/120\n",
            "67/67 [==============================] - 39s 589ms/step - loss: 0.0219 - sparse_categorical_accuracy: 0.9935 - val_loss: 0.1938 - val_sparse_categorical_accuracy: 0.9629\n",
            "Epoch 102/120\n",
            "67/67 [==============================] - 40s 594ms/step - loss: 0.0188 - sparse_categorical_accuracy: 0.9930 - val_loss: 0.1880 - val_sparse_categorical_accuracy: 0.9648\n",
            "Epoch 103/120\n",
            "67/67 [==============================] - 41s 613ms/step - loss: 0.0325 - sparse_categorical_accuracy: 0.9909 - val_loss: 0.1847 - val_sparse_categorical_accuracy: 0.9658\n",
            "Epoch 104/120\n",
            "67/67 [==============================] - 41s 617ms/step - loss: 0.0275 - sparse_categorical_accuracy: 0.9907 - val_loss: 0.2051 - val_sparse_categorical_accuracy: 0.9561\n",
            "Epoch 105/120\n",
            "67/67 [==============================] - 39s 573ms/step - loss: 0.0244 - sparse_categorical_accuracy: 0.9932 - val_loss: 0.2142 - val_sparse_categorical_accuracy: 0.9561\n",
            "Epoch 106/120\n",
            "67/67 [==============================] - 44s 652ms/step - loss: 0.0228 - sparse_categorical_accuracy: 0.9928 - val_loss: 0.1883 - val_sparse_categorical_accuracy: 0.9609\n",
            "Epoch 107/120\n",
            "67/67 [==============================] - 42s 629ms/step - loss: 0.0230 - sparse_categorical_accuracy: 0.9937 - val_loss: 0.1636 - val_sparse_categorical_accuracy: 0.9668\n",
            "Epoch 108/120\n",
            "67/67 [==============================] - 43s 640ms/step - loss: 0.0235 - sparse_categorical_accuracy: 0.9907 - val_loss: 0.1574 - val_sparse_categorical_accuracy: 0.9609\n",
            "Epoch 109/120\n",
            "67/67 [==============================] - 43s 643ms/step - loss: 0.0224 - sparse_categorical_accuracy: 0.9928 - val_loss: 0.1923 - val_sparse_categorical_accuracy: 0.9619\n",
            "Epoch 110/120\n",
            "67/67 [==============================] - 39s 589ms/step - loss: 0.0270 - sparse_categorical_accuracy: 0.9914 - val_loss: 0.2066 - val_sparse_categorical_accuracy: 0.9600\n",
            "Epoch 111/120\n",
            "67/67 [==============================] - 39s 588ms/step - loss: 0.0244 - sparse_categorical_accuracy: 0.9930 - val_loss: 0.1846 - val_sparse_categorical_accuracy: 0.9600\n",
            "Epoch 112/120\n",
            "67/67 [==============================] - 43s 644ms/step - loss: 0.0255 - sparse_categorical_accuracy: 0.9916 - val_loss: 0.1670 - val_sparse_categorical_accuracy: 0.9648\n",
            "Epoch 113/120\n",
            "67/67 [==============================] - 39s 589ms/step - loss: 0.0212 - sparse_categorical_accuracy: 0.9939 - val_loss: 0.1786 - val_sparse_categorical_accuracy: 0.9629\n",
            "Epoch 114/120\n",
            "67/67 [==============================] - 42s 625ms/step - loss: 0.0221 - sparse_categorical_accuracy: 0.9935 - val_loss: 0.1829 - val_sparse_categorical_accuracy: 0.9600\n",
            "Epoch 115/120\n",
            "67/67 [==============================] - 39s 584ms/step - loss: 0.0215 - sparse_categorical_accuracy: 0.9928 - val_loss: 0.1812 - val_sparse_categorical_accuracy: 0.9639\n",
            "Epoch 116/120\n",
            "67/67 [==============================] - 42s 626ms/step - loss: 0.0174 - sparse_categorical_accuracy: 0.9942 - val_loss: 0.1839 - val_sparse_categorical_accuracy: 0.9609\n",
            "Epoch 117/120\n",
            "67/67 [==============================] - 41s 617ms/step - loss: 0.0173 - sparse_categorical_accuracy: 0.9946 - val_loss: 0.1838 - val_sparse_categorical_accuracy: 0.9629\n",
            "Epoch 118/120\n",
            "67/67 [==============================] - 39s 575ms/step - loss: 0.0215 - sparse_categorical_accuracy: 0.9918 - val_loss: 0.1956 - val_sparse_categorical_accuracy: 0.9619\n",
            "Epoch 119/120\n",
            "67/67 [==============================] - 38s 573ms/step - loss: 0.0201 - sparse_categorical_accuracy: 0.9935 - val_loss: 0.2031 - val_sparse_categorical_accuracy: 0.9619\n",
            "Epoch 120/120\n",
            "67/67 [==============================] - 43s 646ms/step - loss: 0.0181 - sparse_categorical_accuracy: 0.9937 - val_loss: 0.2002 - val_sparse_categorical_accuracy: 0.9600\n"
          ]
        }
      ],
      "source": [
        "training = model.fit(dataset_train, validation_data = dataset_test, epochs=120,\n",
        "                    callbacks=[tensorboard_callback,model_checkpoint_callback])\n"
      ]
    },
    {
      "cell_type": "markdown",
      "source": [
        "# Test Loss Curve"
      ],
      "metadata": {
        "id": "TzPyp2M_APt_"
      }
    },
    {
      "cell_type": "markdown",
      "source": [
        "![validation_loss curve.jpg](data:image/jpeg;base64,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)"
      ],
      "metadata": {
        "id": "eUUjb6scAGI1"
      }
    },
    {
      "cell_type": "code",
      "source": [
        "import shutil\n",
        "\n",
        "def zip_folder(folder_path, zip_file):\n",
        "    shutil.make_archive(zip_file, 'zip', folder_path)\n",
        "\n",
        "\n",
        "folder_path = '/content/tb_logs'\n",
        "zip_file = '/3CNN_1RNN_tb_logs'\n",
        "\n",
        "zip_folder(folder_path, zip_file)"
      ],
      "metadata": {
        "id": "qt49FDo6NmLY"
      },
      "execution_count": 24,
      "outputs": []
    },
    {
      "cell_type": "code",
      "source": [
        "model_eval = tf.keras.models.load_model('/content/model_checkpoint/model')\n",
        "model_eval.evaluate(dataset_test, return_dict=True)\n"
      ],
      "metadata": {
        "colab": {
          "base_uri": "https://localhost:8080/"
        },
        "id": "LScpnq4ZDOTP",
        "outputId": "78989df2-d316-4232-bbee-f487a2007b77"
      },
      "execution_count": 16,
      "outputs": [
        {
          "output_type": "stream",
          "name": "stdout",
          "text": [
            "16/16 [==============================] - 8s 475ms/step - loss: 0.1468 - sparse_categorical_accuracy: 0.9668\n"
          ]
        },
        {
          "output_type": "execute_result",
          "data": {
            "text/plain": [
              "{'loss': 0.14682161808013916, 'sparse_categorical_accuracy': 0.966796875}"
            ]
          },
          "metadata": {},
          "execution_count": 16
        }
      ]
    },
    {
      "cell_type": "code",
      "execution_count": 17,
      "metadata": {
        "colab": {
          "base_uri": "https://localhost:8080/"
        },
        "id": "aR72G-I-Cmzy",
        "outputId": "564f7b47-f965-4e11-9bd4-74fd5f0f52b0"
      },
      "outputs": [
        {
          "output_type": "stream",
          "name": "stdout",
          "text": [
            "16/16 [==============================] - 8s 475ms/step\n"
          ]
        }
      ],
      "source": [
        "y_logits = model.predict(dataset_test)\n",
        "y_prob = tf.nn.softmax(y_logits, axis=1)\n",
        "y_pred = tf.argmax(y_logits, axis=1)\n",
        "y_true = tf.concat(list(dataset_test.map(lambda s,lab: lab)), axis=0)"
      ]
    },
    {
      "cell_type": "code",
      "source": [
        "f1 = f1_score(y_true, y_pred, average='macro')\n",
        "precision = precision_score(y_true, y_pred, average='macro')\n",
        "recall = recall_score(y_true, y_pred, average='macro')\n",
        "auc = roc_auc_score(y_true, y_prob, average='macro', multi_class='ovo')\n",
        "print(f\"F1: {f1} | Precision: {precision} | Recall: {recall} | AUC: {auc}\")"
      ],
      "metadata": {
        "colab": {
          "base_uri": "https://localhost:8080/"
        },
        "id": "LkTcanSuVaWn",
        "outputId": "a2aada31-85f4-4727-e35c-5e383aec795a"
      },
      "execution_count": 18,
      "outputs": [
        {
          "output_type": "stream",
          "name": "stdout",
          "text": [
            "F1: 0.9604650490728567 | Precision: 0.9606765640524797 | Recall: 0.9603845945137739 | AUC: 0.9975549328647961\n"
          ]
        }
      ]
    },
    {
      "cell_type": "code",
      "source": [
        "confusion_mtx = tf.math.confusion_matrix(y_true, y_pred)\n",
        "plt.figure(figsize=(10, 8))\n",
        "sns.heatmap(confusion_mtx,\n",
        "            xticklabels=['bewickii','polyglottos','migratorius','melodia','cardinalis'],\n",
        "            yticklabels=['bewickii','polyglottos','migratorius','melodia','cardinalis'],\n",
        "            annot=True, fmt='g', cmap = 'Blues')\n",
        "plt.xlabel('Prediction')\n",
        "plt.ylabel('Label')\n",
        "plt.show()"
      ],
      "metadata": {
        "colab": {
          "base_uri": "https://localhost:8080/",
          "height": 696
        },
        "id": "uRI9jUfaVdgL",
        "outputId": "d2e8d187-8315-4bff-ce4d-879db0bae9c6"
      },
      "execution_count": 19,
      "outputs": [
        {
          "output_type": "display_data",
          "data": {
            "text/plain": [
              "<Figure size 1000x800 with 2 Axes>"
            ],
            "image/png": "[encoded data removed]"
          },
          "metadata": {}
        }
      ]
    }
  ],
  "metadata": {
    "accelerator": "GPU",
    "colab": {
      "gpuType": "V100",
      "machine_shape": "hm",
      "provenance": []
    },
    "kernelspec": {
      "display_name": "Python 3",
      "name": "python3"
    },
    "language_info": {
      "codemirror_mode": {
        "name": "ipython",
        "version": 3
      },
      "file_extension": ".py",
      "mimetype": "text/x-python",
      "name": "python",
      "nbconvert_exporter": "python",
      "pygments_lexer": "ipython3",
      "version": "3.11.4"
    }
  },
  "nbformat": 4,
  "nbformat_minor": 0
}