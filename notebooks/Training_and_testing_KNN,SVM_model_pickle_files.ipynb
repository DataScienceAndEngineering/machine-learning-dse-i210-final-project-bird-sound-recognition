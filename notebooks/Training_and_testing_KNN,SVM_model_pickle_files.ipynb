{
  "nbformat": 4,
  "nbformat_minor": 0,
  "metadata": {
    "colab": {
      "provenance": []
    },
    "kernelspec": {
      "name": "python3",
      "display_name": "Python 3"
    },
    "language_info": {
      "name": "python"
    }
  },
  "cells": [
    {
      "cell_type": "code",
      "source": [
        "from google.colab import drive\n",
        "drive.mount('/content/drive')"
      ],
      "metadata": {
        "colab": {
          "base_uri": "https://localhost:8080/"
        },
        "id": "nbPoW9Hp3z15",
        "outputId": "5bc43ae1-8189-4115-d21f-d37cfca294ca"
      },
      "execution_count": 8,
      "outputs": [
        {
          "output_type": "stream",
          "name": "stdout",
          "text": [
            "Drive already mounted at /content/drive; to attempt to forcibly remount, call drive.mount(\"/content/drive\", force_remount=True).\n"
          ]
        }
      ]
    },
    {
      "cell_type": "code",
      "execution_count": 2,
      "metadata": {
        "id": "gnntPhL_3qQG"
      },
      "outputs": [],
      "source": [
        "import pandas as pd\n",
        "import numpy as np\n",
        "import librosa\n",
        "import zipfile\n",
        "import os\n",
        "from sklearn.model_selection import train_test_split\n",
        "from sklearn.preprocessing import LabelEncoder\n",
        "import pickle\n",
        "from sklearn.neighbors import KNeighborsClassifier\n",
        "\n",
        "# Load metadata\n",
        "metadata_path = '/content/drive/MyDrive/Bird sound classification data/bird_songs_metadata.csv'\n",
        "zip_path = '/content/drive/MyDrive/Bird sound classification data/archive (1).zip'\n",
        "metadata = pd.read_csv(metadata_path)\n",
        "\n",
        "# Extract features from audio files\n",
        "def extract_features(file_path, zip_ref):\n",
        "    with zip_ref.open(file_path) as file:\n",
        "        y, sr = librosa.load(file, sr=None)\n",
        "        S = librosa.feature.melspectrogram(y=y, sr=sr, n_mels=128)\n",
        "        S_DB = librosa.power_to_db(S, ref=np.max)\n",
        "        return np.mean(S_DB, axis=1)  # Using mean as a simple feature\n",
        "\n",
        "# Prepare dataset for Log Mel features\n",
        "features = []\n",
        "labels = []\n",
        "\n",
        "with zipfile.ZipFile(zip_path, 'r') as z:\n",
        "    for index, row in metadata.iterrows():\n",
        "        file_path = os.path.join('wavfiles', row['filename'])\n",
        "        if file_path in z.namelist():\n",
        "            features.append(extract_features(file_path, z))\n",
        "            labels.append(row['species'])\n",
        "\n",
        "features = np.array(features)\n",
        "label_encoder = LabelEncoder()\n",
        "labels_encoded = label_encoder.fit_transform(labels)\n",
        "\n",
        "# Split the dataset for Log Mel features\n",
        "X_train, X_test, y_train, y_test = train_test_split(features, labels_encoded, test_size=0.2, random_state=42)\n",
        "\n",
        "# Extract MFCC features\n",
        "def extract_mfcc_features(file_path, zip_ref):\n",
        "    with zip_ref.open(file_path) as file:\n",
        "        y, sr = librosa.load(file, sr=None)\n",
        "        mfcc = librosa.feature.mfcc(y=y, sr=sr, n_mfcc=13)\n",
        "        return np.mean(mfcc, axis=1)\n",
        "\n",
        "# Prepare dataset for MFCC features\n",
        "mfcc_features = []\n",
        "labels_mfcc = []\n",
        "\n",
        "with zipfile.ZipFile(zip_path, 'r') as z:\n",
        "    for index, row in metadata.iterrows():\n",
        "        file_path = os.path.join('wavfiles', row['filename'])\n",
        "        if file_path in z.namelist():\n",
        "            mfcc_features.append(extract_mfcc_features(file_path, z))\n",
        "            labels_mfcc.append(row['species'])\n",
        "\n",
        "mfcc_features = np.array(mfcc_features)\n",
        "label_encoder_mfcc = LabelEncoder()\n",
        "labels_encoded_mfcc = label_encoder_mfcc.fit_transform(labels_mfcc)\n",
        "\n",
        "# Split the dataset for MFCC features\n",
        "X_train_mfcc, X_test_mfcc, y_train_mfcc, y_test_mfcc = train_test_split(mfcc_features, labels_encoded_mfcc, test_size=0.2, random_state=42)\n",
        "\n",
        "# Combine Log Mel and MFCC features\n",
        "combined_features = np.hstack((features, mfcc_features))\n",
        "labels_combined = labels_encoded  # Assuming the same labels\n",
        "\n",
        "# Split the dataset for combined features\n",
        "X_train_combined, X_test_combined, y_train_combined, y_test_combined = train_test_split(combined_features, labels_combined, test_size=0.2, random_state=42)\n"
      ]
    },
    {
      "cell_type": "code",
      "source": [
        "# Train and save KNN model for Log Mel features\n",
        "def train_save_knn_log_mel(X_train, y_train, model_path='knn_log_mel.pkl'):\n",
        "    knn_log_mel = KNeighborsClassifier(n_neighbors=5)\n",
        "    knn_log_mel.fit(X_train, y_train)\n",
        "    with open(model_path, 'wb') as f:\n",
        "        pickle.dump(knn_log_mel, f)\n",
        "    return knn_log_mel\n",
        "\n",
        "# Train and save KNN model for MFCC features\n",
        "def train_save_knn_mfcc(X_train_mfcc, y_train_mfcc, model_path='knn_mfcc.pkl'):\n",
        "    knn_mfcc = KNeighborsClassifier(n_neighbors=5)\n",
        "    knn_mfcc.fit(X_train_mfcc, y_train_mfcc)\n",
        "    with open(model_path, 'wb') as f:\n",
        "        pickle.dump(knn_mfcc, f)\n",
        "    return knn_mfcc\n",
        "\n",
        "# Train and save KNN model for combined Log Mel and MFCC features\n",
        "def train_save_knn_combined(X_train_combined, y_train_combined, model_path='knn_combined.pkl'):\n",
        "    knn_combined = KNeighborsClassifier(n_neighbors=5)\n",
        "    knn_combined.fit(X_train_combined, y_train_combined)\n",
        "    with open(model_path, 'wb') as f:\n",
        "        pickle.dump(knn_combined, f)\n",
        "    return knn_combined\n",
        "\n",
        "# Example usage\n",
        "knn_log_mel = train_save_knn_log_mel(X_train, y_train, 'knn_log_mel.pkl')\n",
        "knn_mfcc = train_save_knn_mfcc(X_train_mfcc, y_train_mfcc, 'knn_mfcc.pkl')\n",
        "knn_combined = train_save_knn_combined(X_train_combined, y_train_combined, 'knn_combined.pkl')\n"
      ],
      "metadata": {
        "id": "cj_PvvBl36kY"
      },
      "execution_count": 3,
      "outputs": []
    },
    {
      "cell_type": "code",
      "source": [
        "from sklearn.svm import SVC\n",
        "\n",
        "# Train and save SVM model for Log Mel features\n",
        "def train_save_svm_log_mel(X_train, y_train, model_path='svm_log_mel.pkl'):\n",
        "    svm_log_mel = SVC(probability=True, random_state=42)\n",
        "    svm_log_mel.fit(X_train, y_train)\n",
        "    with open(model_path, 'wb') as f:\n",
        "        pickle.dump(svm_log_mel, f)\n",
        "    return svm_log_mel\n",
        "\n",
        "# Train and save SVM model for MFCC features\n",
        "def train_save_svm_mfcc(X_train_mfcc, y_train_mfcc, model_path='svm_mfcc.pkl'):\n",
        "    svm_mfcc = SVC(probability=True, random_state=42)\n",
        "    svm_mfcc.fit(X_train_mfcc, y_train_mfcc)\n",
        "    with open(model_path, 'wb') as f:\n",
        "        pickle.dump(svm_mfcc, f)\n",
        "    return svm_mfcc\n",
        "\n",
        "# Train and save SVM model for combined Log Mel and MFCC features\n",
        "def train_save_svm_combined(X_train_combined, y_train_combined, model_path='svm_combined.pkl'):\n",
        "    svm_combined = SVC(probability=True, random_state=42)\n",
        "    svm_combined.fit(X_train_combined, y_train_combined)\n",
        "    with open(model_path, 'wb') as f:\n",
        "        pickle.dump(svm_combined, f)\n",
        "    return svm_combined\n",
        "\n",
        "# Example usage\n",
        "svm_log_mel = train_save_svm_log_mel(X_train, y_train, 'svm_log_mel.pkl')\n",
        "svm_mfcc = train_save_svm_mfcc(X_train_mfcc, y_train_mfcc, 'svm_mfcc.pkl')\n",
        "svm_combined = train_save_svm_combined(X_train_combined, y_train_combined, 'svm_combined.pkl')\n"
      ],
      "metadata": {
        "id": "f1gf10uh4B_K"
      },
      "execution_count": 4,
      "outputs": []
    },
    {
      "cell_type": "code",
      "source": [
        "def load_model(model_path):\n",
        "    with open(model_path, 'rb') as f:\n",
        "        model = pickle.load(f)\n",
        "    return model\n",
        "\n",
        "# Example usage\n",
        "knn_log_mel_loaded = load_model('knn_log_mel.pkl')\n",
        "knn_mfcc_loaded = load_model('knn_mfcc.pkl')\n",
        "knn_combined_loaded = load_model('knn_combined.pkl')\n",
        "svm_log_mel_loaded = load_model('svm_log_mel.pkl')\n",
        "svm_mfcc_loaded = load_model('svm_mfcc.pkl')\n",
        "svm_combined_loaded = load_model('svm_combined.pkl')\n"
      ],
      "metadata": {
        "id": "3qvmzzXr4El9"
      },
      "execution_count": 5,
      "outputs": []
    },
    {
      "cell_type": "code",
      "source": [],
      "metadata": {
        "id": "ScnmC7ei6RUb"
      },
      "execution_count": null,
      "outputs": []
    },
    {
      "cell_type": "code",
      "source": [
        "import pickle\n",
        "\n",
        "# Define the path to your model files\n",
        "model_path_knn_log_mel = '/content/knn_log_mel.pkl'\n",
        "model_path_knn_mfcc = '/content/knn_mfcc.pkl'\n",
        "model_path_knn_combined = '/content/knn_combined.pkl'\n",
        "\n",
        "model_path_svm_log_mel = '/content/svm_log_mel.pkl'\n",
        "model_path_svm_mfcc = '/content/svm_mfcc.pkl'\n",
        "model_path_svm_combined = '/content/svm_combined.pkl'\n",
        "\n",
        "# Function to load a model\n",
        "def load_model(model_path):\n",
        "    with open(model_path, 'rb') as f:\n",
        "        model = pickle.load(f)\n",
        "    return model\n",
        "\n",
        "# Load the models\n",
        "knn_log_mel_loaded = load_model(model_path_knn_log_mel)\n",
        "knn_mfcc_loaded = load_model(model_path_knn_mfcc)\n",
        "knn_combined_loaded = load_model(model_path_knn_combined)\n",
        "\n",
        "svm_log_mel_loaded = load_model(model_path_svm_log_mel)\n",
        "svm_mfcc_loaded = load_model(model_path_svm_mfcc)\n",
        "svm_combined_loaded = load_model(model_path_svm_combined)\n"
      ],
      "metadata": {
        "id": "CzJmw-ng6Rt3"
      },
      "execution_count": 6,
      "outputs": []
    },
    {
      "cell_type": "code",
      "source": [
        "# Example prediction using the loaded KNN Log Mel model\n",
        "# X_test should be your test data\n",
        "y_pred_knn_log_mel = knn_log_mel_loaded.predict(X_test)\n",
        "\n",
        "# Example prediction using the loaded SVM MFCC model\n",
        "# X_test_mfcc should be your test data for MFCC features\n",
        "y_pred_svm_mfcc = svm_mfcc_loaded.predict(X_test_mfcc)\n",
        "\n",
        "print(y_pred_knn_log_mel)\n",
        "print(y_pred_svm_mfcc)\n"
      ],
      "metadata": {
        "colab": {
          "base_uri": "https://localhost:8080/"
        },
        "id": "b8tWzYL06sXN",
        "outputId": "4dcc998f-b824-48f0-d3e9-21e5fcb6b5be"
      },
      "execution_count": 7,
      "outputs": [
        {
          "output_type": "stream",
          "name": "stdout",
          "text": [
            "[1 1 2 ... 4 2 1]\n",
            "[1 1 2 ... 4 0 1]\n"
          ]
        }
      ]
    },
    {
      "cell_type": "code",
      "source": [],
      "metadata": {
        "id": "ldZgFlc49dSS"
      },
      "execution_count": null,
      "outputs": []
    },
    {
      "cell_type": "code",
      "source": [
        "from google.colab import drive\n",
        "import zipfile\n",
        "import pickle\n",
        "import os\n",
        "\n",
        "# Step 1: Mount Google Drive\n",
        "drive.mount('/content/drive')\n",
        "\n",
        "# Step 2: Extract the contents of the zip file\n",
        "#zip_path = '/content/drive/MyDrive/Bird sound classification data/3CNN_1RNN_regularized_model.zip'\n",
        "zip_path=\"/content/drive/MyDrive/Bird sound classification data/ZIP_KNN_and_SVM models.zip\"\n",
        "extract_path = '/content/ZIP_KNN_and_SVM models/'\n",
        "\n",
        "with zipfile.ZipFile(zip_path, 'r') as zip_ref:\n",
        "    zip_ref.extractall(extract_path)\n",
        "\n",
        "# Step 3: List all files in the extracted directory\n",
        "extracted_files = os.listdir(extract_path)\n",
        "print(\"Extracted files:\", extracted_files)\n",
        "\n",
        "# Step 4: Function to load a pickle file\n",
        "def load_pickle_file(file_path):\n",
        "    with open(file_path, 'rb') as f:\n",
        "        data = pickle.load(f)\n",
        "    return data\n",
        "\n",
        "# Step 5: Load and inspect the pickle files\n",
        "for file_name in extracted_files:\n",
        "    if file_name.endswith('.pkl'):\n",
        "        file_path = os.path.join(extract_path, file_name)\n",
        "        loaded_data = load_pickle_file(file_path)\n",
        "        print(f\"Contents of {file_name}:\")\n",
        "        print(loaded_data)\n",
        "        print(\"\\n\")\n"
      ],
      "metadata": {
        "colab": {
          "base_uri": "https://localhost:8080/"
        },
        "id": "KkGhd6gE9dxg",
        "outputId": "f3f6fd8f-a959-4ec0-e129-796d8ed5ff84"
      },
      "execution_count": 15,
      "outputs": [
        {
          "output_type": "stream",
          "name": "stdout",
          "text": [
            "Drive already mounted at /content/drive; to attempt to forcibly remount, call drive.mount(\"/content/drive\", force_remount=True).\n",
            "Extracted files: ['knn_mfcc.pkl', 'svm_combined.pkl', 'knn_log_mel.pkl', 'svm_log_mel.pkl', 'knn_combined.pkl', 'svm_mfcc.pkl', 'KNN and SVM models']\n",
            "Contents of knn_mfcc.pkl:\n",
            "KNeighborsClassifier()\n",
            "\n",
            "\n",
            "Contents of svm_combined.pkl:\n",
            "SVC(probability=True, random_state=42)\n",
            "\n",
            "\n",
            "Contents of knn_log_mel.pkl:\n",
            "KNeighborsClassifier()\n",
            "\n",
            "\n",
            "Contents of svm_log_mel.pkl:\n",
            "SVC(probability=True, random_state=42)\n",
            "\n",
            "\n",
            "Contents of knn_combined.pkl:\n",
            "KNeighborsClassifier()\n",
            "\n",
            "\n",
            "Contents of svm_mfcc.pkl:\n",
            "SVC(probability=True, random_state=42)\n",
            "\n",
            "\n"
          ]
        }
      ]
    }
  ]
}