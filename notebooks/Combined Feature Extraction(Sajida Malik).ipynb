{
 "cells": [
  {
   "cell_type": "code",
   "execution_count": 2,
   "id": "8ae660f7",
   "metadata": {},
   "outputs": [
    {
     "name": "stderr",
     "output_type": "stream",
     "text": [
      "C:\\Users\\19147\\anaconda3\\Lib\\site-packages\\paramiko\\transport.py:219: CryptographyDeprecationWarning: Blowfish has been deprecated\n",
      "  \"class\": algorithms.Blowfish,\n"
     ]
    }
   ],
   "source": [
    "#Importing necessary libraries\n",
    "import pandas as pd\n",
    "import numpy as np \n",
    "from matplotlib import pyplot as plt\n",
    "import seaborn as sns\n",
    "import tensorflow as tf\n",
    "from sklearn.model_selection import train_test_split\n",
    "import librosa\n",
    "import os\n",
    "import librosa.display\n",
    "from skimage.io import imread\n",
    "from sklearn.ensemble import RandomForestClassifier\n",
    "from sklearn.preprocessing import LabelEncoder\n",
    "from sklearn.preprocessing import StandardScaler\n",
    "from sklearn.metrics import classification_report, accuracy_score\n",
    "from sklearn.metrics import confusion_matrix\n",
    "from sklearn.tree import export_text\n",
    "from sklearn.inspection import permutation_importance\n"
   ]
  },
  {
   "cell_type": "code",
   "execution_count": 3,
   "id": "0b42efe6",
   "metadata": {},
   "outputs": [
    {
     "data": {
      "text/html": [
       "<div>\n",
       "<style scoped>\n",
       "    .dataframe tbody tr th:only-of-type {\n",
       "        vertical-align: middle;\n",
       "    }\n",
       "\n",
       "    .dataframe tbody tr th {\n",
       "        vertical-align: top;\n",
       "    }\n",
       "\n",
       "    .dataframe thead th {\n",
       "        text-align: right;\n",
       "    }\n",
       "</style>\n",
       "<table border=\"1\" class=\"dataframe\">\n",
       "  <thead>\n",
       "    <tr style=\"text-align: right;\">\n",
       "      <th></th>\n",
       "      <th>id</th>\n",
       "      <th>genus</th>\n",
       "      <th>species</th>\n",
       "      <th>subspecies</th>\n",
       "      <th>name</th>\n",
       "      <th>recordist</th>\n",
       "      <th>country</th>\n",
       "      <th>location</th>\n",
       "      <th>latitude</th>\n",
       "      <th>longitude</th>\n",
       "      <th>altitude</th>\n",
       "      <th>sound_type</th>\n",
       "      <th>source_url</th>\n",
       "      <th>license</th>\n",
       "      <th>time</th>\n",
       "      <th>date</th>\n",
       "      <th>remarks</th>\n",
       "      <th>filename</th>\n",
       "    </tr>\n",
       "  </thead>\n",
       "  <tbody>\n",
       "    <tr>\n",
       "      <th>0</th>\n",
       "      <td>557838</td>\n",
       "      <td>Thryomanes</td>\n",
       "      <td>bewickii</td>\n",
       "      <td>NaN</td>\n",
       "      <td>Bewick's Wren</td>\n",
       "      <td>Whitney Neufeld-Kaiser</td>\n",
       "      <td>United States</td>\n",
       "      <td>Arlington, Snohomish County, Washington</td>\n",
       "      <td>48.0708</td>\n",
       "      <td>-122.1006</td>\n",
       "      <td>100</td>\n",
       "      <td>adult, sex uncertain, song</td>\n",
       "      <td>//www.xeno-canto.org/557838</td>\n",
       "      <td>//creativecommons.org/licenses/by-nc-sa/4.0/</td>\n",
       "      <td>11:51</td>\n",
       "      <td>2020-03-14</td>\n",
       "      <td>Recorded with Voice Record Pro on iPhone7, nor...</td>\n",
       "      <td>557838-0.wav</td>\n",
       "    </tr>\n",
       "    <tr>\n",
       "      <th>1</th>\n",
       "      <td>557838</td>\n",
       "      <td>Thryomanes</td>\n",
       "      <td>bewickii</td>\n",
       "      <td>NaN</td>\n",
       "      <td>Bewick's Wren</td>\n",
       "      <td>Whitney Neufeld-Kaiser</td>\n",
       "      <td>United States</td>\n",
       "      <td>Arlington, Snohomish County, Washington</td>\n",
       "      <td>48.0708</td>\n",
       "      <td>-122.1006</td>\n",
       "      <td>100</td>\n",
       "      <td>adult, sex uncertain, song</td>\n",
       "      <td>//www.xeno-canto.org/557838</td>\n",
       "      <td>//creativecommons.org/licenses/by-nc-sa/4.0/</td>\n",
       "      <td>11:51</td>\n",
       "      <td>2020-03-14</td>\n",
       "      <td>Recorded with Voice Record Pro on iPhone7, nor...</td>\n",
       "      <td>557838-1.wav</td>\n",
       "    </tr>\n",
       "    <tr>\n",
       "      <th>2</th>\n",
       "      <td>557838</td>\n",
       "      <td>Thryomanes</td>\n",
       "      <td>bewickii</td>\n",
       "      <td>NaN</td>\n",
       "      <td>Bewick's Wren</td>\n",
       "      <td>Whitney Neufeld-Kaiser</td>\n",
       "      <td>United States</td>\n",
       "      <td>Arlington, Snohomish County, Washington</td>\n",
       "      <td>48.0708</td>\n",
       "      <td>-122.1006</td>\n",
       "      <td>100</td>\n",
       "      <td>adult, sex uncertain, song</td>\n",
       "      <td>//www.xeno-canto.org/557838</td>\n",
       "      <td>//creativecommons.org/licenses/by-nc-sa/4.0/</td>\n",
       "      <td>11:51</td>\n",
       "      <td>2020-03-14</td>\n",
       "      <td>Recorded with Voice Record Pro on iPhone7, nor...</td>\n",
       "      <td>557838-4.wav</td>\n",
       "    </tr>\n",
       "    <tr>\n",
       "      <th>3</th>\n",
       "      <td>557838</td>\n",
       "      <td>Thryomanes</td>\n",
       "      <td>bewickii</td>\n",
       "      <td>NaN</td>\n",
       "      <td>Bewick's Wren</td>\n",
       "      <td>Whitney Neufeld-Kaiser</td>\n",
       "      <td>United States</td>\n",
       "      <td>Arlington, Snohomish County, Washington</td>\n",
       "      <td>48.0708</td>\n",
       "      <td>-122.1006</td>\n",
       "      <td>100</td>\n",
       "      <td>adult, sex uncertain, song</td>\n",
       "      <td>//www.xeno-canto.org/557838</td>\n",
       "      <td>//creativecommons.org/licenses/by-nc-sa/4.0/</td>\n",
       "      <td>11:51</td>\n",
       "      <td>2020-03-14</td>\n",
       "      <td>Recorded with Voice Record Pro on iPhone7, nor...</td>\n",
       "      <td>557838-5.wav</td>\n",
       "    </tr>\n",
       "    <tr>\n",
       "      <th>4</th>\n",
       "      <td>557838</td>\n",
       "      <td>Thryomanes</td>\n",
       "      <td>bewickii</td>\n",
       "      <td>NaN</td>\n",
       "      <td>Bewick's Wren</td>\n",
       "      <td>Whitney Neufeld-Kaiser</td>\n",
       "      <td>United States</td>\n",
       "      <td>Arlington, Snohomish County, Washington</td>\n",
       "      <td>48.0708</td>\n",
       "      <td>-122.1006</td>\n",
       "      <td>100</td>\n",
       "      <td>adult, sex uncertain, song</td>\n",
       "      <td>//www.xeno-canto.org/557838</td>\n",
       "      <td>//creativecommons.org/licenses/by-nc-sa/4.0/</td>\n",
       "      <td>11:51</td>\n",
       "      <td>2020-03-14</td>\n",
       "      <td>Recorded with Voice Record Pro on iPhone7, nor...</td>\n",
       "      <td>557838-6.wav</td>\n",
       "    </tr>\n",
       "  </tbody>\n",
       "</table>\n",
       "</div>"
      ],
      "text/plain": [
       "       id       genus   species subspecies           name  \\\n",
       "0  557838  Thryomanes  bewickii        NaN  Bewick's Wren   \n",
       "1  557838  Thryomanes  bewickii        NaN  Bewick's Wren   \n",
       "2  557838  Thryomanes  bewickii        NaN  Bewick's Wren   \n",
       "3  557838  Thryomanes  bewickii        NaN  Bewick's Wren   \n",
       "4  557838  Thryomanes  bewickii        NaN  Bewick's Wren   \n",
       "\n",
       "                recordist        country  \\\n",
       "0  Whitney Neufeld-Kaiser  United States   \n",
       "1  Whitney Neufeld-Kaiser  United States   \n",
       "2  Whitney Neufeld-Kaiser  United States   \n",
       "3  Whitney Neufeld-Kaiser  United States   \n",
       "4  Whitney Neufeld-Kaiser  United States   \n",
       "\n",
       "                                  location  latitude  longitude altitude  \\\n",
       "0  Arlington, Snohomish County, Washington   48.0708  -122.1006      100   \n",
       "1  Arlington, Snohomish County, Washington   48.0708  -122.1006      100   \n",
       "2  Arlington, Snohomish County, Washington   48.0708  -122.1006      100   \n",
       "3  Arlington, Snohomish County, Washington   48.0708  -122.1006      100   \n",
       "4  Arlington, Snohomish County, Washington   48.0708  -122.1006      100   \n",
       "\n",
       "                   sound_type                   source_url  \\\n",
       "0  adult, sex uncertain, song  //www.xeno-canto.org/557838   \n",
       "1  adult, sex uncertain, song  //www.xeno-canto.org/557838   \n",
       "2  adult, sex uncertain, song  //www.xeno-canto.org/557838   \n",
       "3  adult, sex uncertain, song  //www.xeno-canto.org/557838   \n",
       "4  adult, sex uncertain, song  //www.xeno-canto.org/557838   \n",
       "\n",
       "                                        license   time        date  \\\n",
       "0  //creativecommons.org/licenses/by-nc-sa/4.0/  11:51  2020-03-14   \n",
       "1  //creativecommons.org/licenses/by-nc-sa/4.0/  11:51  2020-03-14   \n",
       "2  //creativecommons.org/licenses/by-nc-sa/4.0/  11:51  2020-03-14   \n",
       "3  //creativecommons.org/licenses/by-nc-sa/4.0/  11:51  2020-03-14   \n",
       "4  //creativecommons.org/licenses/by-nc-sa/4.0/  11:51  2020-03-14   \n",
       "\n",
       "                                             remarks      filename  \n",
       "0  Recorded with Voice Record Pro on iPhone7, nor...  557838-0.wav  \n",
       "1  Recorded with Voice Record Pro on iPhone7, nor...  557838-1.wav  \n",
       "2  Recorded with Voice Record Pro on iPhone7, nor...  557838-4.wav  \n",
       "3  Recorded with Voice Record Pro on iPhone7, nor...  557838-5.wav  \n",
       "4  Recorded with Voice Record Pro on iPhone7, nor...  557838-6.wav  "
      ]
     },
     "execution_count": 3,
     "metadata": {},
     "output_type": "execute_result"
    }
   ],
   "source": [
    "import pandas as pd\n",
    "\n",
    "# Load the CSV file\n",
    "metadata_path = \"C:/Users/19147/Downloads/archive (12)/bird_songs_metadata.csv\"\n",
    "df = pd.read_csv(metadata_path)\n",
    "\n",
    "# Display the first few rows of the dataframe \n",
    "df.head()\n"
   ]
  },
  {
   "cell_type": "code",
   "execution_count": 4,
   "id": "f53295f2",
   "metadata": {},
   "outputs": [
    {
     "name": "stdout",
     "output_type": "stream",
     "text": [
      "species\n",
      "melodia        1256\n",
      "polyglottos    1182\n",
      "cardinalis     1074\n",
      "migratorius    1017\n",
      "bewickii        893\n",
      "Name: count, dtype: int64\n"
     ]
    }
   ],
   "source": [
    "#distribution of species\n",
    "species_dist = df['species'].value_counts()\n",
    "print(species_dist)"
   ]
  },
  {
   "cell_type": "code",
   "execution_count": 5,
   "id": "73fbd690",
   "metadata": {},
   "outputs": [
    {
     "name": "stdout",
     "output_type": "stream",
     "text": [
      "id               0\n",
      "genus            0\n",
      "species          0\n",
      "subspecies    3876\n",
      "name             0\n",
      "recordist        0\n",
      "country          0\n",
      "location         0\n",
      "latitude        90\n",
      "longitude       90\n",
      "altitude        42\n",
      "sound_type       0\n",
      "source_url       0\n",
      "license          0\n",
      "time             0\n",
      "date             0\n",
      "remarks       1859\n",
      "filename         0\n",
      "dtype: int64\n"
     ]
    }
   ],
   "source": [
    "# Checking for missing values in each column\n",
    "missing_values = df.isnull().sum()\n",
    "print(missing_values)"
   ]
  },
  {
   "cell_type": "markdown",
   "id": "2ff487de",
   "metadata": {},
   "source": [
    "The primary input for generating spectrograms is the audio file itself. Missing values in metadata (like subspecies, latitude, longitude, altitude, and remarks) won't affect the generation of spectrograms, as long as the audio files (filename) are intact and not missing. "
   ]
  },
  {
   "cell_type": "code",
   "execution_count": 6,
   "id": "4f0232ec",
   "metadata": {},
   "outputs": [
    {
     "name": "stdout",
     "output_type": "stream",
     "text": [
      "<class 'pandas.core.frame.DataFrame'>\n",
      "RangeIndex: 5422 entries, 0 to 5421\n",
      "Data columns (total 18 columns):\n",
      " #   Column      Non-Null Count  Dtype  \n",
      "---  ------      --------------  -----  \n",
      " 0   id          5422 non-null   int64  \n",
      " 1   genus       5422 non-null   object \n",
      " 2   species     5422 non-null   object \n",
      " 3   subspecies  1546 non-null   object \n",
      " 4   name        5422 non-null   object \n",
      " 5   recordist   5422 non-null   object \n",
      " 6   country     5422 non-null   object \n",
      " 7   location    5422 non-null   object \n",
      " 8   latitude    5332 non-null   float64\n",
      " 9   longitude   5332 non-null   float64\n",
      " 10  altitude    5380 non-null   object \n",
      " 11  sound_type  5422 non-null   object \n",
      " 12  source_url  5422 non-null   object \n",
      " 13  license     5422 non-null   object \n",
      " 14  time        5422 non-null   object \n",
      " 15  date        5422 non-null   object \n",
      " 16  remarks     3563 non-null   object \n",
      " 17  filename    5422 non-null   object \n",
      "dtypes: float64(2), int64(1), object(15)\n",
      "memory usage: 762.6+ KB\n",
      "None\n"
     ]
    }
   ],
   "source": [
    "print(df.info())"
   ]
  },
  {
   "cell_type": "markdown",
   "id": "053bf3ce",
   "metadata": {},
   "source": [
    "**Feature Extraction**"
   ]
  },
  {
   "cell_type": "code",
   "execution_count": 7,
   "id": "f12dc0ed",
   "metadata": {},
   "outputs": [
    {
     "name": "stdout",
     "output_type": "stream",
     "text": [
      "['C:/Users/19147/Downloads/archive (12)/wavfiles\\\\557838-0.wav', 'C:/Users/19147/Downloads/archive (12)/wavfiles\\\\557838-1.wav', 'C:/Users/19147/Downloads/archive (12)/wavfiles\\\\557838-4.wav', 'C:/Users/19147/Downloads/archive (12)/wavfiles\\\\557838-5.wav', 'C:/Users/19147/Downloads/archive (12)/wavfiles\\\\557838-6.wav'] ['bewickii', 'bewickii', 'bewickii', 'bewickii', 'bewickii']\n"
     ]
    }
   ],
   "source": [
    "\n",
    "def load_bird_sound_paths_from_csv(metadata_path, audio_files_path):\n",
    "    df = pd.read_csv(metadata_path)\n",
    "    file_paths = []\n",
    "    labels = []\n",
    "\n",
    "    for index, row in df.iterrows():\n",
    "        file_path = os.path.join(audio_files_path, row['filename'])\n",
    "        if os.path.exists(file_path):\n",
    "            file_paths.append(file_path)\n",
    "            labels.append(row['species'])  # 'species' holds the label\n",
    "        else:\n",
    "            print(f\"File not found: {file_path}\")\n",
    "\n",
    "    return file_paths, labels\n",
    "\n",
    "# Usage\n",
    "metadata_path = \"C:/Users/19147/Downloads/archive (12)/bird_songs_metadata.csv\"\n",
    "audio_files_path =  \"C:/Users/19147/Downloads/archive (12)/wavfiles\"\n",
    "\n",
    "file_paths, labels = load_bird_sound_paths_from_csv(metadata_path, audio_files_path)\n",
    "print(file_paths[:5], labels[:5])\n"
   ]
  },
  {
   "cell_type": "code",
   "execution_count": 20,
   "id": "46fab841",
   "metadata": {},
   "outputs": [],
   "source": [
    "# New function to load and process audio files from paths\n",
    "def load_and_process_audio(file_paths, sr, fixed_length):\n",
    "    processed_audio = []\n",
    "    for file_path in file_paths:\n",
    "        sound, _ = librosa.load(file_path, sr=sr)\n",
    "        if len(sound) > fixed_length:\n",
    "            sound = sound[:fixed_length]\n",
    "        else:\n",
    "            padding = fixed_length - len(sound)\n",
    "            sound = np.pad(sound, (0, padding), 'constant')\n",
    "        processed_audio.append(sound)\n",
    "    return processed_audio"
   ]
  },
  {
   "cell_type": "code",
   "execution_count": 24,
   "id": "1d1e8f5a",
   "metadata": {},
   "outputs": [],
   "source": [
    "def extract_combined_features(file_path, sr):\n",
    "    # Load the audio file first\n",
    "    audio, sr = librosa.load(file_path, sr=sr)\n",
    "    \n",
    "    # Extract MFCC features\n",
    "    mfcc = librosa.feature.mfcc(y=audio, sr=sr, n_mfcc=13)\n",
    "    mfcc_mean = np.mean(mfcc, axis=1)\n",
    "\n",
    "    # Extract Log Mel Spectrogram features\n",
    "    mel_spec = librosa.feature.melspectrogram(y=audio, sr=sr, n_mels=128)\n",
    "    log_mel_spec = librosa.power_to_db(mel_spec)\n",
    "    log_mel_spec_mean = np.mean(log_mel_spec, axis=1)\n",
    "\n",
    "    # Extract waveform features: RMS and ZCR\n",
    "    rms = librosa.feature.rms(y=audio).flatten()\n",
    "    zcr = librosa.feature.zero_crossing_rate(y=audio).flatten()\n",
    "\n",
    "    # Combine all features\n",
    "    combined_features = np.concatenate((mfcc_mean, log_mel_spec_mean, rms, zcr))\n",
    "    return combined_features\n"
   ]
  },
  {
   "cell_type": "code",
   "execution_count": 27,
   "id": "6ba8db88",
   "metadata": {},
   "outputs": [],
   "source": [
    "sr = 22050  \n",
    "features_list = [extract_combined_features(fp, sr) for fp in file_paths]\n",
    "label_encoder = LabelEncoder()\n",
    "encoded_labels = label_encoder.fit_transform(labels)\n",
    "\n",
    "# Split the dataset into training and testing sets\n",
    "X3_train, X3_test, y3_train, y3_test, files_train, files_test = train_test_split(\n",
    "    features_list, encoded_labels, file_paths, test_size=0.2, random_state=42\n",
    ")"
   ]
  },
  {
   "cell_type": "code",
   "execution_count": 28,
   "id": "17dbeedf",
   "metadata": {},
   "outputs": [
    {
     "name": "stdout",
     "output_type": "stream",
     "text": [
      "Accuracy: 0.8294930875576036\n",
      "Classification Report:\n",
      "              precision    recall  f1-score   support\n",
      "\n",
      "    bewickii       0.79      0.75      0.77       193\n",
      "  cardinalis       0.82      0.84      0.83       204\n",
      "     melodia       0.74      0.86      0.80       243\n",
      " migratorius       0.92      0.88      0.90       207\n",
      " polyglottos       0.91      0.80      0.85       238\n",
      "\n",
      "    accuracy                           0.83      1085\n",
      "   macro avg       0.84      0.83      0.83      1085\n",
      "weighted avg       0.84      0.83      0.83      1085\n",
      "\n"
     ]
    },
    {
     "data": {
      "image/png": "[encoded data removed]",
      "text/plain": [
       "<Figure size 1000x700 with 2 Axes>"
      ]
     },
     "metadata": {},
     "output_type": "display_data"
    }
   ],
   "source": [
    "clf_combined = RandomForestClassifier(random_state=42)\n",
    "clf_combined.fit(X3_train, y3_train)\n",
    "\n",
    "\n",
    "Combined_predictions = clf_combined.predict(X3_test)\n",
    "\n",
    "# Print accuracy and classification report\n",
    "print(\"Accuracy:\", accuracy_score(y3_test, Combined_predictions))\n",
    "print(\"Classification Report:\")\n",
    "print(classification_report(y3_test, Combined_predictions, target_names=label_encoder.classes_))\n",
    "\n",
    "# Confusion Matrix\n",
    "conf_matrix = confusion_matrix(y_test, Combined_predictions)\n",
    "plt.figure(figsize=(10, 7))\n",
    "sns.heatmap(conf_matrix, annot=True, fmt='g', cmap='coolwarm', xticklabels=label_encoder.classes_, yticklabels=label_encoder.classes_)\n",
    "plt.xlabel('Predicted Labels')\n",
    "plt.ylabel('True Labels')\n",
    "plt.title('Confusion Matrix')\n",
    "plt.show()\n"
   ]
  },
  {
   "cell_type": "code",
   "execution_count": 39,
   "id": "fb2c4ace",
   "metadata": {},
   "outputs": [
    {
     "name": "stdout",
     "output_type": "stream",
     "text": [
      "top 10 indices: [409 328 714  14 861  85 492 854  24 278]\n",
      "bottom_10_indices: [ 974  486  361  710 1015  674  184 1003 1067  603]\n",
      "incorrect indices: [   5    8   27   34   35   49   56   57   61   67   68   78   79   82\n",
      "  100  102  106  109  110  122  129  132  135  136  141  145  151  156\n",
      "  158  162  166  173  176  179  182  184  188  190  191  192  198  201\n",
      "  204  205  206  221  231  236  246  270  271  277  282  287  290  295\n",
      "  299  307  324  330  331  333  334  336  342  346  361  370  383  388\n",
      "  391  398  404  406  410  412  413  418  437  442  448  452  454  455\n",
      "  467  472  476  486  493  500  507  513  515  522  532  543  558  570\n",
      "  572  575  576  579  586  587  588  590  603  606  609  611  622  624\n",
      "  638  641  650  658  659  660  662  665  674  677  680  683  685  705\n",
      "  707  710  713  724  727  729  747  750  753  754  762  769  778  779\n",
      "  787  788  795  804  813  819  824  825  833  851  862  864  878  888\n",
      "  889  890  893  911  923  927  932  946  948  954  958  962  969  974\n",
      "  976  977  984  987  993 1003 1005 1015 1018 1022 1049 1055 1060 1065\n",
      " 1066 1068 1079]\n"
     ]
    }
   ],
   "source": [
    "\n",
    "# Calculate probabilities and find maximum confidence predictions\n",
    "probs = clf_combined.predict_proba(X3_test)\n",
    "max_probs = np.max(probs, axis=1)\n",
    "\n",
    "# Top 10, bottom 10, and incorrect indices\n",
    "top_10_indices = np.argsort(-max_probs)[:10]\n",
    "print(\"top 10 indices:\",top_10_indices)\n",
    "bottom_10_indices = np.argsort(max_probs)[:10]\n",
    "print(\"bottom_10_indices:\", bottom_10_indices)\n",
    "incorrect_indices = np.where(Combined_predictions != y3_test)[0]\n",
    "print(\"incorrect indices:\",incorrect_indices)"
   ]
  },
  {
   "cell_type": "code",
   "execution_count": 50,
   "id": "71245c22",
   "metadata": {},
   "outputs": [
    {
     "data": {
      "image/png": "[encoded data removed]",
      "text/plain": [
       "<Figure size 1000x800 with 1 Axes>"
      ]
     },
     "metadata": {},
     "output_type": "display_data"
    }
   ],
   "source": [
    "\n",
    "feature_names = ['MFCC_{}'.format(i) for i in range(13)] + \\\n",
    "                ['Log Mel_{}'.format(i) for i in range(128)] + \\\n",
    "                ['RMS', 'ZCR']\n",
    "\n",
    "importances = clf_combined.feature_importances_\n",
    "indices = np.argsort(importances)[::-1]  \n",
    "\n",
    "# Plotting top N features\n",
    "N = 10\n",
    "plt.figure(figsize=(10, 8))\n",
    "plt.bar(range(N), importances[indices[:N]], align='center')\n",
    "plt.xticks(range(N), [feature_names[i] for i in indices[:N]], rotation=90)\n",
    "plt.title('Top 10 Feature Importances')\n",
    "plt.ylabel('Importance')\n",
    "plt.show()\n"
   ]
  }
 ],
 "metadata": {
  "kernelspec": {
   "display_name": "Python 3 (ipykernel)",
   "language": "python",
   "name": "python3"
  },
  "language_info": {
   "codemirror_mode": {
    "name": "ipython",
    "version": 3
   },
   "file_extension": ".py",
   "mimetype": "text/x-python",
   "name": "python",
   "nbconvert_exporter": "python",
   "pygments_lexer": "ipython3",
   "version": "3.11.5"
  }
 },
 "nbformat": 4,
 "nbformat_minor": 5
}
