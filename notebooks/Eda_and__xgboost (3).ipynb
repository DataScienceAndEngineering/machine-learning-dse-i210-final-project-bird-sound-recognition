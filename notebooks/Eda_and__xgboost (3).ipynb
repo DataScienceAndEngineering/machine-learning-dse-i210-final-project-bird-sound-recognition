{
  "nbformat": 4,
  "nbformat_minor": 0,
  "metadata": {
    "colab": {
      "provenance": []
    },
    "kernelspec": {
      "name": "python3",
      "display_name": "Python 3"
    },
    "language_info": {
      "name": "python"
    }
  },
  "cells": [
    {
      "cell_type": "code",
      "execution_count": 27,
      "metadata": {
        "id": "I-WGweqezCOg"
      },
      "outputs": [],
      "source": [
        "import numpy as np\n",
        "import pandas as pd\n",
        "import matplotlib.pyplot as plt\n",
        "import seaborn as sns\n",
        "import librosa\n",
        "import os\n",
        "from pathlib import Path\n",
        "from sklearn.model_selection import train_test_split\n",
        "from google.colab import drive\n",
        "import plotly.graph_objs as go\n",
        "from plotly.subplots import make_subplots\n",
        "from xgboost import XGBClassifier\n",
        "from sklearn.metrics import accuracy_score, confusion_matrix, classification_report\n",
        "from sklearn.preprocessing import LabelEncoder\n",
        "from concurrent.futures import ProcessPoolExecutor\n",
        "\n",
        "\n",
        "\n"
      ]
    },
    {
      "cell_type": "code",
      "source": [
        "drive.mount('/content/drive')"
      ],
      "metadata": {
        "colab": {
          "base_uri": "https://localhost:8080/"
        },
        "id": "GcCBjsBZzFce",
        "outputId": "f17d85c8-a9da-40ec-95e9-53f7a11efa4b"
      },
      "execution_count": 4,
      "outputs": [
        {
          "output_type": "stream",
          "name": "stdout",
          "text": [
            "Mounted at /content/drive\n"
          ]
        }
      ]
    },
    {
      "cell_type": "code",
      "source": [
        "df=pd.read_csv('/content/drive/My Drive/archive/bird_songs_metadata.csv')\n",
        "df.head()\n"
      ],
      "metadata": {
        "colab": {
          "base_uri": "https://localhost:8080/",
          "height": 746
        },
        "id": "BiKOVX-2855T",
        "outputId": "9964fecd-56cc-4e79-ee15-a35fb3c2929e"
      },
      "execution_count": 5,
      "outputs": [
        {
          "output_type": "execute_result",
          "data": {
            "text/plain": [
              "       id       genus   species subspecies           name  \\\n",
              "0  557838  Thryomanes  bewickii        NaN  Bewick's Wren   \n",
              "1  557838  Thryomanes  bewickii        NaN  Bewick's Wren   \n",
              "2  557838  Thryomanes  bewickii        NaN  Bewick's Wren   \n",
              "3  557838  Thryomanes  bewickii        NaN  Bewick's Wren   \n",
              "4  557838  Thryomanes  bewickii        NaN  Bewick's Wren   \n",
              "\n",
              "                recordist        country  \\\n",
              "0  Whitney Neufeld-Kaiser  United States   \n",
              "1  Whitney Neufeld-Kaiser  United States   \n",
              "2  Whitney Neufeld-Kaiser  United States   \n",
              "3  Whitney Neufeld-Kaiser  United States   \n",
              "4  Whitney Neufeld-Kaiser  United States   \n",
              "\n",
              "                                  location  latitude  longitude altitude  \\\n",
              "0  Arlington, Snohomish County, Washington   48.0708  -122.1006      100   \n",
              "1  Arlington, Snohomish County, Washington   48.0708  -122.1006      100   \n",
              "2  Arlington, Snohomish County, Washington   48.0708  -122.1006      100   \n",
              "3  Arlington, Snohomish County, Washington   48.0708  -122.1006      100   \n",
              "4  Arlington, Snohomish County, Washington   48.0708  -122.1006      100   \n",
              "\n",
              "                   sound_type                   source_url  \\\n",
              "0  adult, sex uncertain, song  //www.xeno-canto.org/557838   \n",
              "1  adult, sex uncertain, song  //www.xeno-canto.org/557838   \n",
              "2  adult, sex uncertain, song  //www.xeno-canto.org/557838   \n",
              "3  adult, sex uncertain, song  //www.xeno-canto.org/557838   \n",
              "4  adult, sex uncertain, song  //www.xeno-canto.org/557838   \n",
              "\n",
              "                                        license   time        date  \\\n",
              "0  //creativecommons.org/licenses/by-nc-sa/4.0/  11:51  2020-03-14   \n",
              "1  //creativecommons.org/licenses/by-nc-sa/4.0/  11:51  2020-03-14   \n",
              "2  //creativecommons.org/licenses/by-nc-sa/4.0/  11:51  2020-03-14   \n",
              "3  //creativecommons.org/licenses/by-nc-sa/4.0/  11:51  2020-03-14   \n",
              "4  //creativecommons.org/licenses/by-nc-sa/4.0/  11:51  2020-03-14   \n",
              "\n",
              "                                             remarks      filename  \n",
              "0  Recorded with Voice Record Pro on iPhone7, nor...  557838-0.wav  \n",
              "1  Recorded with Voice Record Pro on iPhone7, nor...  557838-1.wav  \n",
              "2  Recorded with Voice Record Pro on iPhone7, nor...  557838-4.wav  \n",
              "3  Recorded with Voice Record Pro on iPhone7, nor...  557838-5.wav  \n",
              "4  Recorded with Voice Record Pro on iPhone7, nor...  557838-6.wav  "
            ],
            "text/html": [
              "\n",
              "  <div id=\"df-86c031a4-10aa-4184-a9e4-4d09c60fc1dd\" class=\"colab-df-container\">\n",
              "    <div>\n",
              "<style scoped>\n",
              "    .dataframe tbody tr th:only-of-type {\n",
              "        vertical-align: middle;\n",
              "    }\n",
              "\n",
              "    .dataframe tbody tr th {\n",
              "        vertical-align: top;\n",
              "    }\n",
              "\n",
              "    .dataframe thead th {\n",
              "        text-align: right;\n",
              "    }\n",
              "</style>\n",
              "<table border=\"1\" class=\"dataframe\">\n",
              "  <thead>\n",
              "    <tr style=\"text-align: right;\">\n",
              "      <th></th>\n",
              "      <th>id</th>\n",
              "      <th>genus</th>\n",
              "      <th>species</th>\n",
              "      <th>subspecies</th>\n",
              "      <th>name</th>\n",
              "      <th>recordist</th>\n",
              "      <th>country</th>\n",
              "      <th>location</th>\n",
              "      <th>latitude</th>\n",
              "      <th>longitude</th>\n",
              "      <th>altitude</th>\n",
              "      <th>sound_type</th>\n",
              "      <th>source_url</th>\n",
              "      <th>license</th>\n",
              "      <th>time</th>\n",
              "      <th>date</th>\n",
              "      <th>remarks</th>\n",
              "      <th>filename</th>\n",
              "    </tr>\n",
              "  </thead>\n",
              "  <tbody>\n",
              "    <tr>\n",
              "      <th>0</th>\n",
              "      <td>557838</td>\n",
              "      <td>Thryomanes</td>\n",
              "      <td>bewickii</td>\n",
              "      <td>NaN</td>\n",
              "      <td>Bewick's Wren</td>\n",
              "      <td>Whitney Neufeld-Kaiser</td>\n",
              "      <td>United States</td>\n",
              "      <td>Arlington, Snohomish County, Washington</td>\n",
              "      <td>48.0708</td>\n",
              "      <td>-122.1006</td>\n",
              "      <td>100</td>\n",
              "      <td>adult, sex uncertain, song</td>\n",
              "      <td>//www.xeno-canto.org/557838</td>\n",
              "      <td>//creativecommons.org/licenses/by-nc-sa/4.0/</td>\n",
              "      <td>11:51</td>\n",
              "      <td>2020-03-14</td>\n",
              "      <td>Recorded with Voice Record Pro on iPhone7, nor...</td>\n",
              "      <td>557838-0.wav</td>\n",
              "    </tr>\n",
              "    <tr>\n",
              "      <th>1</th>\n",
              "      <td>557838</td>\n",
              "      <td>Thryomanes</td>\n",
              "      <td>bewickii</td>\n",
              "      <td>NaN</td>\n",
              "      <td>Bewick's Wren</td>\n",
              "      <td>Whitney Neufeld-Kaiser</td>\n",
              "      <td>United States</td>\n",
              "      <td>Arlington, Snohomish County, Washington</td>\n",
              "      <td>48.0708</td>\n",
              "      <td>-122.1006</td>\n",
              "      <td>100</td>\n",
              "      <td>adult, sex uncertain, song</td>\n",
              "      <td>//www.xeno-canto.org/557838</td>\n",
              "      <td>//creativecommons.org/licenses/by-nc-sa/4.0/</td>\n",
              "      <td>11:51</td>\n",
              "      <td>2020-03-14</td>\n",
              "      <td>Recorded with Voice Record Pro on iPhone7, nor...</td>\n",
              "      <td>557838-1.wav</td>\n",
              "    </tr>\n",
              "    <tr>\n",
              "      <th>2</th>\n",
              "      <td>557838</td>\n",
              "      <td>Thryomanes</td>\n",
              "      <td>bewickii</td>\n",
              "      <td>NaN</td>\n",
              "      <td>Bewick's Wren</td>\n",
              "      <td>Whitney Neufeld-Kaiser</td>\n",
              "      <td>United States</td>\n",
              "      <td>Arlington, Snohomish County, Washington</td>\n",
              "      <td>48.0708</td>\n",
              "      <td>-122.1006</td>\n",
              "      <td>100</td>\n",
              "      <td>adult, sex uncertain, song</td>\n",
              "      <td>//www.xeno-canto.org/557838</td>\n",
              "      <td>//creativecommons.org/licenses/by-nc-sa/4.0/</td>\n",
              "      <td>11:51</td>\n",
              "      <td>2020-03-14</td>\n",
              "      <td>Recorded with Voice Record Pro on iPhone7, nor...</td>\n",
              "      <td>557838-4.wav</td>\n",
              "    </tr>\n",
              "    <tr>\n",
              "      <th>3</th>\n",
              "      <td>557838</td>\n",
              "      <td>Thryomanes</td>\n",
              "      <td>bewickii</td>\n",
              "      <td>NaN</td>\n",
              "      <td>Bewick's Wren</td>\n",
              "      <td>Whitney Neufeld-Kaiser</td>\n",
              "      <td>United States</td>\n",
              "      <td>Arlington, Snohomish County, Washington</td>\n",
              "      <td>48.0708</td>\n",
              "      <td>-122.1006</td>\n",
              "      <td>100</td>\n",
              "      <td>adult, sex uncertain, song</td>\n",
              "      <td>//www.xeno-canto.org/557838</td>\n",
              "      <td>//creativecommons.org/licenses/by-nc-sa/4.0/</td>\n",
              "      <td>11:51</td>\n",
              "      <td>2020-03-14</td>\n",
              "      <td>Recorded with Voice Record Pro on iPhone7, nor...</td>\n",
              "      <td>557838-5.wav</td>\n",
              "    </tr>\n",
              "    <tr>\n",
              "      <th>4</th>\n",
              "      <td>557838</td>\n",
              "      <td>Thryomanes</td>\n",
              "      <td>bewickii</td>\n",
              "      <td>NaN</td>\n",
              "      <td>Bewick's Wren</td>\n",
              "      <td>Whitney Neufeld-Kaiser</td>\n",
              "      <td>United States</td>\n",
              "      <td>Arlington, Snohomish County, Washington</td>\n",
              "      <td>48.0708</td>\n",
              "      <td>-122.1006</td>\n",
              "      <td>100</td>\n",
              "      <td>adult, sex uncertain, song</td>\n",
              "      <td>//www.xeno-canto.org/557838</td>\n",
              "      <td>//creativecommons.org/licenses/by-nc-sa/4.0/</td>\n",
              "      <td>11:51</td>\n",
              "      <td>2020-03-14</td>\n",
              "      <td>Recorded with Voice Record Pro on iPhone7, nor...</td>\n",
              "      <td>557838-6.wav</td>\n",
              "    </tr>\n",
              "  </tbody>\n",
              "</table>\n",
              "</div>\n",
              "    <div class=\"colab-df-buttons\">\n",
              "\n",
              "  <div class=\"colab-df-container\">\n",
              "    <button class=\"colab-df-convert\" onclick=\"convertToInteractive('df-86c031a4-10aa-4184-a9e4-4d09c60fc1dd')\"\n",
              "            title=\"Convert this dataframe to an interactive table.\"\n",
              "            style=\"display:none;\">\n",
              "\n",
              "  <svg xmlns=\"http://www.w3.org/2000/svg\" height=\"24px\" viewBox=\"0 -960 960 960\">\n",
              "    <path d=\"M120-120v-720h720v720H120Zm60-500h600v-160H180v160Zm220 220h160v-160H400v160Zm0 220h160v-160H400v160ZM180-400h160v-160H180v160Zm440 0h160v-160H620v160ZM180-180h160v-160H180v160Zm440 0h160v-160H620v160Z\"/>\n",
              "  </svg>\n",
              "    </button>\n",
              "\n",
              "  <style>\n",
              "    .colab-df-container {\n",
              "      display:flex;\n",
              "      gap: 12px;\n",
              "    }\n",
              "\n",
              "    .colab-df-convert {\n",
              "      background-color: #E8F0FE;\n",
              "      border: none;\n",
              "      border-radius: 50%;\n",
              "      cursor: pointer;\n",
              "      display: none;\n",
              "      fill: #1967D2;\n",
              "      height: 32px;\n",
              "      padding: 0 0 0 0;\n",
              "      width: 32px;\n",
              "    }\n",
              "\n",
              "    .colab-df-convert:hover {\n",
              "      background-color: #E2EBFA;\n",
              "      box-shadow: 0px 1px 2px rgba(60, 64, 67, 0.3), 0px 1px 3px 1px rgba(60, 64, 67, 0.15);\n",
              "      fill: #174EA6;\n",
              "    }\n",
              "\n",
              "    .colab-df-buttons div {\n",
              "      margin-bottom: 4px;\n",
              "    }\n",
              "\n",
              "    [theme=dark] .colab-df-convert {\n",
              "      background-color: #3B4455;\n",
              "      fill: #D2E3FC;\n",
              "    }\n",
              "\n",
              "    [theme=dark] .colab-df-convert:hover {\n",
              "      background-color: #434B5C;\n",
              "      box-shadow: 0px 1px 3px 1px rgba(0, 0, 0, 0.15);\n",
              "      filter: drop-shadow(0px 1px 2px rgba(0, 0, 0, 0.3));\n",
              "      fill: #FFFFFF;\n",
              "    }\n",
              "  </style>\n",
              "\n",
              "    <script>\n",
              "      const buttonEl =\n",
              "        document.querySelector('#df-86c031a4-10aa-4184-a9e4-4d09c60fc1dd button.colab-df-convert');\n",
              "      buttonEl.style.display =\n",
              "        google.colab.kernel.accessAllowed ? 'block' : 'none';\n",
              "\n",
              "      async function convertToInteractive(key) {\n",
              "        const element = document.querySelector('#df-86c031a4-10aa-4184-a9e4-4d09c60fc1dd');\n",
              "        const dataTable =\n",
              "          await google.colab.kernel.invokeFunction('convertToInteractive',\n",
              "                                                    [key], {});\n",
              "        if (!dataTable) return;\n",
              "\n",
              "        const docLinkHtml = 'Like what you see? Visit the ' +\n",
              "          '<a target=\"_blank\" href=https://colab.research.google.com/notebooks/data_table.ipynb>data table notebook</a>'\n",
              "          + ' to learn more about interactive tables.';\n",
              "        element.innerHTML = '';\n",
              "        dataTable['output_type'] = 'display_data';\n",
              "        await google.colab.output.renderOutput(dataTable, element);\n",
              "        const docLink = document.createElement('div');\n",
              "        docLink.innerHTML = docLinkHtml;\n",
              "        element.appendChild(docLink);\n",
              "      }\n",
              "    </script>\n",
              "  </div>\n",
              "\n",
              "\n",
              "<div id=\"df-203c885f-c7d1-4aa1-8399-7fc3675528e1\">\n",
              "  <button class=\"colab-df-quickchart\" onclick=\"quickchart('df-203c885f-c7d1-4aa1-8399-7fc3675528e1')\"\n",
              "            title=\"Suggest charts\"\n",
              "            style=\"display:none;\">\n",
              "\n",
              "<svg xmlns=\"http://www.w3.org/2000/svg\" height=\"24px\"viewBox=\"0 0 24 24\"\n",
              "     width=\"24px\">\n",
              "    <g>\n",
              "        <path d=\"M19 3H5c-1.1 0-2 .9-2 2v14c0 1.1.9 2 2 2h14c1.1 0 2-.9 2-2V5c0-1.1-.9-2-2-2zM9 17H7v-7h2v7zm4 0h-2V7h2v10zm4 0h-2v-4h2v4z\"/>\n",
              "    </g>\n",
              "</svg>\n",
              "  </button>\n",
              "\n",
              "<style>\n",
              "  .colab-df-quickchart {\n",
              "      --bg-color: #E8F0FE;\n",
              "      --fill-color: #1967D2;\n",
              "      --hover-bg-color: #E2EBFA;\n",
              "      --hover-fill-color: #174EA6;\n",
              "      --disabled-fill-color: #AAA;\n",
              "      --disabled-bg-color: #DDD;\n",
              "  }\n",
              "\n",
              "  [theme=dark] .colab-df-quickchart {\n",
              "      --bg-color: #3B4455;\n",
              "      --fill-color: #D2E3FC;\n",
              "      --hover-bg-color: #434B5C;\n",
              "      --hover-fill-color: #FFFFFF;\n",
              "      --disabled-bg-color: #3B4455;\n",
              "      --disabled-fill-color: #666;\n",
              "  }\n",
              "\n",
              "  .colab-df-quickchart {\n",
              "    background-color: var(--bg-color);\n",
              "    border: none;\n",
              "    border-radius: 50%;\n",
              "    cursor: pointer;\n",
              "    display: none;\n",
              "    fill: var(--fill-color);\n",
              "    height: 32px;\n",
              "    padding: 0;\n",
              "    width: 32px;\n",
              "  }\n",
              "\n",
              "  .colab-df-quickchart:hover {\n",
              "    background-color: var(--hover-bg-color);\n",
              "    box-shadow: 0 1px 2px rgba(60, 64, 67, 0.3), 0 1px 3px 1px rgba(60, 64, 67, 0.15);\n",
              "    fill: var(--button-hover-fill-color);\n",
              "  }\n",
              "\n",
              "  .colab-df-quickchart-complete:disabled,\n",
              "  .colab-df-quickchart-complete:disabled:hover {\n",
              "    background-color: var(--disabled-bg-color);\n",
              "    fill: var(--disabled-fill-color);\n",
              "    box-shadow: none;\n",
              "  }\n",
              "\n",
              "  .colab-df-spinner {\n",
              "    border: 2px solid var(--fill-color);\n",
              "    border-color: transparent;\n",
              "    border-bottom-color: var(--fill-color);\n",
              "    animation:\n",
              "      spin 1s steps(1) infinite;\n",
              "  }\n",
              "\n",
              "  @keyframes spin {\n",
              "    0% {\n",
              "      border-color: transparent;\n",
              "      border-bottom-color: var(--fill-color);\n",
              "      border-left-color: var(--fill-color);\n",
              "    }\n",
              "    20% {\n",
              "      border-color: transparent;\n",
              "      border-left-color: var(--fill-color);\n",
              "      border-top-color: var(--fill-color);\n",
              "    }\n",
              "    30% {\n",
              "      border-color: transparent;\n",
              "      border-left-color: var(--fill-color);\n",
              "      border-top-color: var(--fill-color);\n",
              "      border-right-color: var(--fill-color);\n",
              "    }\n",
              "    40% {\n",
              "      border-color: transparent;\n",
              "      border-right-color: var(--fill-color);\n",
              "      border-top-color: var(--fill-color);\n",
              "    }\n",
              "    60% {\n",
              "      border-color: transparent;\n",
              "      border-right-color: var(--fill-color);\n",
              "    }\n",
              "    80% {\n",
              "      border-color: transparent;\n",
              "      border-right-color: var(--fill-color);\n",
              "      border-bottom-color: var(--fill-color);\n",
              "    }\n",
              "    90% {\n",
              "      border-color: transparent;\n",
              "      border-bottom-color: var(--fill-color);\n",
              "    }\n",
              "  }\n",
              "</style>\n",
              "\n",
              "  <script>\n",
              "    async function quickchart(key) {\n",
              "      const quickchartButtonEl =\n",
              "        document.querySelector('#' + key + ' button');\n",
              "      quickchartButtonEl.disabled = true;  // To prevent multiple clicks.\n",
              "      quickchartButtonEl.classList.add('colab-df-spinner');\n",
              "      try {\n",
              "        const charts = await google.colab.kernel.invokeFunction(\n",
              "            'suggestCharts', [key], {});\n",
              "      } catch (error) {\n",
              "        console.error('Error during call to suggestCharts:', error);\n",
              "      }\n",
              "      quickchartButtonEl.classList.remove('colab-df-spinner');\n",
              "      quickchartButtonEl.classList.add('colab-df-quickchart-complete');\n",
              "    }\n",
              "    (() => {\n",
              "      let quickchartButtonEl =\n",
              "        document.querySelector('#df-203c885f-c7d1-4aa1-8399-7fc3675528e1 button');\n",
              "      quickchartButtonEl.style.display =\n",
              "        google.colab.kernel.accessAllowed ? 'block' : 'none';\n",
              "    })();\n",
              "  </script>\n",
              "</div>\n",
              "    </div>\n",
              "  </div>\n"
            ],
            "application/vnd.google.colaboratory.intrinsic+json": {
              "type": "dataframe",
              "variable_name": "df",
              "summary": "{\n  \"name\": \"df\",\n  \"rows\": 5422,\n  \"fields\": [\n    {\n      \"column\": \"id\",\n      \"properties\": {\n        \"dtype\": \"number\",\n        \"std\": 158950,\n        \"min\": 11713,\n        \"max\": 565242,\n        \"num_unique_values\": 477,\n        \"samples\": [\n          71208,\n          323979,\n          321789\n        ],\n        \"semantic_type\": \"\",\n        \"description\": \"\"\n      }\n    },\n    {\n      \"column\": \"genus\",\n      \"properties\": {\n        \"dtype\": \"category\",\n        \"num_unique_values\": 5,\n        \"samples\": [\n          \"Mimus\",\n          \"Cardinalis\",\n          \"Turdus\"\n        ],\n        \"semantic_type\": \"\",\n        \"description\": \"\"\n      }\n    },\n    {\n      \"column\": \"species\",\n      \"properties\": {\n        \"dtype\": \"category\",\n        \"num_unique_values\": 5,\n        \"samples\": [\n          \"polyglottos\",\n          \"cardinalis\",\n          \"migratorius\"\n        ],\n        \"semantic_type\": \"\",\n        \"description\": \"\"\n      }\n    },\n    {\n      \"column\": \"subspecies\",\n      \"properties\": {\n        \"dtype\": \"category\",\n        \"num_unique_values\": 28,\n        \"samples\": [\n          \"fallax\",\n          \"cardinalis\",\n          \"propinquus\"\n        ],\n        \"semantic_type\": \"\",\n        \"description\": \"\"\n      }\n    },\n    {\n      \"column\": \"name\",\n      \"properties\": {\n        \"dtype\": \"category\",\n        \"num_unique_values\": 5,\n        \"samples\": [\n          \"Northern Mockingbird\",\n          \"Northern Cardinal\",\n          \"American Robin\"\n        ],\n        \"semantic_type\": \"\",\n        \"description\": \"\"\n      }\n    },\n    {\n      \"column\": \"recordist\",\n      \"properties\": {\n        \"dtype\": \"category\",\n        \"num_unique_values\": 98,\n        \"samples\": [\n          \"Davyd Betchkal\",\n          \"Russ Wigh\",\n          \"David Vander Pluym\"\n        ],\n        \"semantic_type\": \"\",\n        \"description\": \"\"\n      }\n    },\n    {\n      \"column\": \"country\",\n      \"properties\": {\n        \"dtype\": \"category\",\n        \"num_unique_values\": 1,\n        \"samples\": [\n          \"United States\"\n        ],\n        \"semantic_type\": \"\",\n        \"description\": \"\"\n      }\n    },\n    {\n      \"column\": \"location\",\n      \"properties\": {\n        \"dtype\": \"category\",\n        \"num_unique_values\": 304,\n        \"samples\": [\n          \"Scotch Plains, Union County, New Jersey\"\n        ],\n        \"semantic_type\": \"\",\n        \"description\": \"\"\n      }\n    },\n    {\n      \"column\": \"latitude\",\n      \"properties\": {\n        \"dtype\": \"number\",\n        \"std\": 5.999919059186263,\n        \"min\": 21.2995,\n        \"max\": 64.5035,\n        \"num_unique_values\": 303,\n        \"samples\": [\n          40.5874\n        ],\n        \"semantic_type\": \"\",\n        \"description\": \"\"\n      }\n    },\n    {\n      \"column\": \"longitude\",\n      \"properties\": {\n        \"dtype\": \"number\",\n        \"std\": 18.099531385998954,\n        \"min\": -165.4053,\n        \"max\": -68.375,\n        \"num_unique_values\": 301,\n        \"samples\": [\n          -70.3351\n        ],\n        \"semantic_type\": \"\",\n        \"description\": \"\"\n      }\n    },\n    {\n      \"column\": \"altitude\",\n      \"properties\": {\n        \"dtype\": \"category\",\n        \"num_unique_values\": 91,\n        \"samples\": [\n          \"360\"\n        ],\n        \"semantic_type\": \"\",\n        \"description\": \"\"\n      }\n    },\n    {\n      \"column\": \"sound_type\",\n      \"properties\": {\n        \"dtype\": \"category\",\n        \"num_unique_values\": 31,\n        \"samples\": [\n          \"Several different song types appear in this recording of part of a single bout.,\"\n        ],\n        \"semantic_type\": \"\",\n        \"description\": \"\"\n      }\n    },\n    {\n      \"column\": \"source_url\",\n      \"properties\": {\n        \"dtype\": \"category\",\n        \"num_unique_values\": 477,\n        \"samples\": [\n          \"//www.xeno-canto.org/71208\"\n        ],\n        \"semantic_type\": \"\",\n        \"description\": \"\"\n      }\n    },\n    {\n      \"column\": \"license\",\n      \"properties\": {\n        \"dtype\": \"category\",\n        \"num_unique_values\": 6,\n        \"samples\": [\n          \"//creativecommons.org/licenses/by-nc-sa/4.0/\"\n        ],\n        \"semantic_type\": \"\",\n        \"description\": \"\"\n      }\n    },\n    {\n      \"column\": \"time\",\n      \"properties\": {\n        \"dtype\": \"category\",\n        \"num_unique_values\": 247,\n        \"samples\": [\n          \"09:02\"\n        ],\n        \"semantic_type\": \"\",\n        \"description\": \"\"\n      }\n    },\n    {\n      \"column\": \"date\",\n      \"properties\": {\n        \"dtype\": \"category\",\n        \"num_unique_values\": 342,\n        \"samples\": [\n          \"2014-06-08\"\n        ],\n        \"semantic_type\": \"\",\n        \"description\": \"\"\n      }\n    },\n    {\n      \"column\": \"remarks\",\n      \"properties\": {\n        \"dtype\": \"category\",\n        \"num_unique_values\": 302,\n        \"samples\": [\n          \"Same individual as XC363141\"\n        ],\n        \"semantic_type\": \"\",\n        \"description\": \"\"\n      }\n    },\n    {\n      \"column\": \"filename\",\n      \"properties\": {\n        \"dtype\": \"string\",\n        \"num_unique_values\": 5422,\n        \"samples\": [\n          \"109034-2.wav\"\n        ],\n        \"semantic_type\": \"\",\n        \"description\": \"\"\n      }\n    }\n  ]\n}"
            }
          },
          "metadata": {},
          "execution_count": 5
        }
      ]
    },
    {
      "cell_type": "code",
      "source": [
        "df.info()"
      ],
      "metadata": {
        "colab": {
          "base_uri": "https://localhost:8080/"
        },
        "id": "mgOnRxIsUkHf",
        "outputId": "0cf3cfde-e842-40c1-a2c6-c10753f63035"
      },
      "execution_count": 6,
      "outputs": [
        {
          "output_type": "stream",
          "name": "stdout",
          "text": [
            "<class 'pandas.core.frame.DataFrame'>\n",
            "RangeIndex: 5422 entries, 0 to 5421\n",
            "Data columns (total 18 columns):\n",
            " #   Column      Non-Null Count  Dtype  \n",
            "---  ------      --------------  -----  \n",
            " 0   id          5422 non-null   int64  \n",
            " 1   genus       5422 non-null   object \n",
            " 2   species     5422 non-null   object \n",
            " 3   subspecies  1546 non-null   object \n",
            " 4   name        5422 non-null   object \n",
            " 5   recordist   5422 non-null   object \n",
            " 6   country     5422 non-null   object \n",
            " 7   location    5422 non-null   object \n",
            " 8   latitude    5332 non-null   float64\n",
            " 9   longitude   5332 non-null   float64\n",
            " 10  altitude    5380 non-null   object \n",
            " 11  sound_type  5422 non-null   object \n",
            " 12  source_url  5422 non-null   object \n",
            " 13  license     5422 non-null   object \n",
            " 14  time        5422 non-null   object \n",
            " 15  date        5422 non-null   object \n",
            " 16  remarks     3563 non-null   object \n",
            " 17  filename    5422 non-null   object \n",
            "dtypes: float64(2), int64(1), object(15)\n",
            "memory usage: 762.6+ KB\n"
          ]
        }
      ]
    },
    {
      "cell_type": "code",
      "source": [
        "df.describe()"
      ],
      "metadata": {
        "colab": {
          "base_uri": "https://localhost:8080/",
          "height": 300
        },
        "id": "wvFJH1DT4EpT",
        "outputId": "f16cbe91-a8c4-4799-d0a5-3dccf6257434"
      },
      "execution_count": 7,
      "outputs": [
        {
          "output_type": "execute_result",
          "data": {
            "text/plain": [
              "                  id     latitude    longitude\n",
              "count    5422.000000  5332.000000  5332.000000\n",
              "mean   292957.202139    36.938532  -101.548349\n",
              "std    158950.516002     5.999919    18.099531\n",
              "min     11713.000000    21.299500  -165.405300\n",
              "25%    165291.000000    32.545800  -116.461000\n",
              "50%    321905.000000    35.987000  -106.245900\n",
              "75%    412669.000000    40.570000   -84.505200\n",
              "max    565242.000000    64.503500   -68.375000"
            ],
            "text/html": [
              "\n",
              "  <div id=\"df-96ad6c8a-a539-4744-b0ea-4fa17602867c\" class=\"colab-df-container\">\n",
              "    <div>\n",
              "<style scoped>\n",
              "    .dataframe tbody tr th:only-of-type {\n",
              "        vertical-align: middle;\n",
              "    }\n",
              "\n",
              "    .dataframe tbody tr th {\n",
              "        vertical-align: top;\n",
              "    }\n",
              "\n",
              "    .dataframe thead th {\n",
              "        text-align: right;\n",
              "    }\n",
              "</style>\n",
              "<table border=\"1\" class=\"dataframe\">\n",
              "  <thead>\n",
              "    <tr style=\"text-align: right;\">\n",
              "      <th></th>\n",
              "      <th>id</th>\n",
              "      <th>latitude</th>\n",
              "      <th>longitude</th>\n",
              "    </tr>\n",
              "  </thead>\n",
              "  <tbody>\n",
              "    <tr>\n",
              "      <th>count</th>\n",
              "      <td>5422.000000</td>\n",
              "      <td>5332.000000</td>\n",
              "      <td>5332.000000</td>\n",
              "    </tr>\n",
              "    <tr>\n",
              "      <th>mean</th>\n",
              "      <td>292957.202139</td>\n",
              "      <td>36.938532</td>\n",
              "      <td>-101.548349</td>\n",
              "    </tr>\n",
              "    <tr>\n",
              "      <th>std</th>\n",
              "      <td>158950.516002</td>\n",
              "      <td>5.999919</td>\n",
              "      <td>18.099531</td>\n",
              "    </tr>\n",
              "    <tr>\n",
              "      <th>min</th>\n",
              "      <td>11713.000000</td>\n",
              "      <td>21.299500</td>\n",
              "      <td>-165.405300</td>\n",
              "    </tr>\n",
              "    <tr>\n",
              "      <th>25%</th>\n",
              "      <td>165291.000000</td>\n",
              "      <td>32.545800</td>\n",
              "      <td>-116.461000</td>\n",
              "    </tr>\n",
              "    <tr>\n",
              "      <th>50%</th>\n",
              "      <td>321905.000000</td>\n",
              "      <td>35.987000</td>\n",
              "      <td>-106.245900</td>\n",
              "    </tr>\n",
              "    <tr>\n",
              "      <th>75%</th>\n",
              "      <td>412669.000000</td>\n",
              "      <td>40.570000</td>\n",
              "      <td>-84.505200</td>\n",
              "    </tr>\n",
              "    <tr>\n",
              "      <th>max</th>\n",
              "      <td>565242.000000</td>\n",
              "      <td>64.503500</td>\n",
              "      <td>-68.375000</td>\n",
              "    </tr>\n",
              "  </tbody>\n",
              "</table>\n",
              "</div>\n",
              "    <div class=\"colab-df-buttons\">\n",
              "\n",
              "  <div class=\"colab-df-container\">\n",
              "    <button class=\"colab-df-convert\" onclick=\"convertToInteractive('df-96ad6c8a-a539-4744-b0ea-4fa17602867c')\"\n",
              "            title=\"Convert this dataframe to an interactive table.\"\n",
              "            style=\"display:none;\">\n",
              "\n",
              "  <svg xmlns=\"http://www.w3.org/2000/svg\" height=\"24px\" viewBox=\"0 -960 960 960\">\n",
              "    <path d=\"M120-120v-720h720v720H120Zm60-500h600v-160H180v160Zm220 220h160v-160H400v160Zm0 220h160v-160H400v160ZM180-400h160v-160H180v160Zm440 0h160v-160H620v160ZM180-180h160v-160H180v160Zm440 0h160v-160H620v160Z\"/>\n",
              "  </svg>\n",
              "    </button>\n",
              "\n",
              "  <style>\n",
              "    .colab-df-container {\n",
              "      display:flex;\n",
              "      gap: 12px;\n",
              "    }\n",
              "\n",
              "    .colab-df-convert {\n",
              "      background-color: #E8F0FE;\n",
              "      border: none;\n",
              "      border-radius: 50%;\n",
              "      cursor: pointer;\n",
              "      display: none;\n",
              "      fill: #1967D2;\n",
              "      height: 32px;\n",
              "      padding: 0 0 0 0;\n",
              "      width: 32px;\n",
              "    }\n",
              "\n",
              "    .colab-df-convert:hover {\n",
              "      background-color: #E2EBFA;\n",
              "      box-shadow: 0px 1px 2px rgba(60, 64, 67, 0.3), 0px 1px 3px 1px rgba(60, 64, 67, 0.15);\n",
              "      fill: #174EA6;\n",
              "    }\n",
              "\n",
              "    .colab-df-buttons div {\n",
              "      margin-bottom: 4px;\n",
              "    }\n",
              "\n",
              "    [theme=dark] .colab-df-convert {\n",
              "      background-color: #3B4455;\n",
              "      fill: #D2E3FC;\n",
              "    }\n",
              "\n",
              "    [theme=dark] .colab-df-convert:hover {\n",
              "      background-color: #434B5C;\n",
              "      box-shadow: 0px 1px 3px 1px rgba(0, 0, 0, 0.15);\n",
              "      filter: drop-shadow(0px 1px 2px rgba(0, 0, 0, 0.3));\n",
              "      fill: #FFFFFF;\n",
              "    }\n",
              "  </style>\n",
              "\n",
              "    <script>\n",
              "      const buttonEl =\n",
              "        document.querySelector('#df-96ad6c8a-a539-4744-b0ea-4fa17602867c button.colab-df-convert');\n",
              "      buttonEl.style.display =\n",
              "        google.colab.kernel.accessAllowed ? 'block' : 'none';\n",
              "\n",
              "      async function convertToInteractive(key) {\n",
              "        const element = document.querySelector('#df-96ad6c8a-a539-4744-b0ea-4fa17602867c');\n",
              "        const dataTable =\n",
              "          await google.colab.kernel.invokeFunction('convertToInteractive',\n",
              "                                                    [key], {});\n",
              "        if (!dataTable) return;\n",
              "\n",
              "        const docLinkHtml = 'Like what you see? Visit the ' +\n",
              "          '<a target=\"_blank\" href=https://colab.research.google.com/notebooks/data_table.ipynb>data table notebook</a>'\n",
              "          + ' to learn more about interactive tables.';\n",
              "        element.innerHTML = '';\n",
              "        dataTable['output_type'] = 'display_data';\n",
              "        await google.colab.output.renderOutput(dataTable, element);\n",
              "        const docLink = document.createElement('div');\n",
              "        docLink.innerHTML = docLinkHtml;\n",
              "        element.appendChild(docLink);\n",
              "      }\n",
              "    </script>\n",
              "  </div>\n",
              "\n",
              "\n",
              "<div id=\"df-5415ace3-6e64-4ab3-985f-6d5d50446042\">\n",
              "  <button class=\"colab-df-quickchart\" onclick=\"quickchart('df-5415ace3-6e64-4ab3-985f-6d5d50446042')\"\n",
              "            title=\"Suggest charts\"\n",
              "            style=\"display:none;\">\n",
              "\n",
              "<svg xmlns=\"http://www.w3.org/2000/svg\" height=\"24px\"viewBox=\"0 0 24 24\"\n",
              "     width=\"24px\">\n",
              "    <g>\n",
              "        <path d=\"M19 3H5c-1.1 0-2 .9-2 2v14c0 1.1.9 2 2 2h14c1.1 0 2-.9 2-2V5c0-1.1-.9-2-2-2zM9 17H7v-7h2v7zm4 0h-2V7h2v10zm4 0h-2v-4h2v4z\"/>\n",
              "    </g>\n",
              "</svg>\n",
              "  </button>\n",
              "\n",
              "<style>\n",
              "  .colab-df-quickchart {\n",
              "      --bg-color: #E8F0FE;\n",
              "      --fill-color: #1967D2;\n",
              "      --hover-bg-color: #E2EBFA;\n",
              "      --hover-fill-color: #174EA6;\n",
              "      --disabled-fill-color: #AAA;\n",
              "      --disabled-bg-color: #DDD;\n",
              "  }\n",
              "\n",
              "  [theme=dark] .colab-df-quickchart {\n",
              "      --bg-color: #3B4455;\n",
              "      --fill-color: #D2E3FC;\n",
              "      --hover-bg-color: #434B5C;\n",
              "      --hover-fill-color: #FFFFFF;\n",
              "      --disabled-bg-color: #3B4455;\n",
              "      --disabled-fill-color: #666;\n",
              "  }\n",
              "\n",
              "  .colab-df-quickchart {\n",
              "    background-color: var(--bg-color);\n",
              "    border: none;\n",
              "    border-radius: 50%;\n",
              "    cursor: pointer;\n",
              "    display: none;\n",
              "    fill: var(--fill-color);\n",
              "    height: 32px;\n",
              "    padding: 0;\n",
              "    width: 32px;\n",
              "  }\n",
              "\n",
              "  .colab-df-quickchart:hover {\n",
              "    background-color: var(--hover-bg-color);\n",
              "    box-shadow: 0 1px 2px rgba(60, 64, 67, 0.3), 0 1px 3px 1px rgba(60, 64, 67, 0.15);\n",
              "    fill: var(--button-hover-fill-color);\n",
              "  }\n",
              "\n",
              "  .colab-df-quickchart-complete:disabled,\n",
              "  .colab-df-quickchart-complete:disabled:hover {\n",
              "    background-color: var(--disabled-bg-color);\n",
              "    fill: var(--disabled-fill-color);\n",
              "    box-shadow: none;\n",
              "  }\n",
              "\n",
              "  .colab-df-spinner {\n",
              "    border: 2px solid var(--fill-color);\n",
              "    border-color: transparent;\n",
              "    border-bottom-color: var(--fill-color);\n",
              "    animation:\n",
              "      spin 1s steps(1) infinite;\n",
              "  }\n",
              "\n",
              "  @keyframes spin {\n",
              "    0% {\n",
              "      border-color: transparent;\n",
              "      border-bottom-color: var(--fill-color);\n",
              "      border-left-color: var(--fill-color);\n",
              "    }\n",
              "    20% {\n",
              "      border-color: transparent;\n",
              "      border-left-color: var(--fill-color);\n",
              "      border-top-color: var(--fill-color);\n",
              "    }\n",
              "    30% {\n",
              "      border-color: transparent;\n",
              "      border-left-color: var(--fill-color);\n",
              "      border-top-color: var(--fill-color);\n",
              "      border-right-color: var(--fill-color);\n",
              "    }\n",
              "    40% {\n",
              "      border-color: transparent;\n",
              "      border-right-color: var(--fill-color);\n",
              "      border-top-color: var(--fill-color);\n",
              "    }\n",
              "    60% {\n",
              "      border-color: transparent;\n",
              "      border-right-color: var(--fill-color);\n",
              "    }\n",
              "    80% {\n",
              "      border-color: transparent;\n",
              "      border-right-color: var(--fill-color);\n",
              "      border-bottom-color: var(--fill-color);\n",
              "    }\n",
              "    90% {\n",
              "      border-color: transparent;\n",
              "      border-bottom-color: var(--fill-color);\n",
              "    }\n",
              "  }\n",
              "</style>\n",
              "\n",
              "  <script>\n",
              "    async function quickchart(key) {\n",
              "      const quickchartButtonEl =\n",
              "        document.querySelector('#' + key + ' button');\n",
              "      quickchartButtonEl.disabled = true;  // To prevent multiple clicks.\n",
              "      quickchartButtonEl.classList.add('colab-df-spinner');\n",
              "      try {\n",
              "        const charts = await google.colab.kernel.invokeFunction(\n",
              "            'suggestCharts', [key], {});\n",
              "      } catch (error) {\n",
              "        console.error('Error during call to suggestCharts:', error);\n",
              "      }\n",
              "      quickchartButtonEl.classList.remove('colab-df-spinner');\n",
              "      quickchartButtonEl.classList.add('colab-df-quickchart-complete');\n",
              "    }\n",
              "    (() => {\n",
              "      let quickchartButtonEl =\n",
              "        document.querySelector('#df-5415ace3-6e64-4ab3-985f-6d5d50446042 button');\n",
              "      quickchartButtonEl.style.display =\n",
              "        google.colab.kernel.accessAllowed ? 'block' : 'none';\n",
              "    })();\n",
              "  </script>\n",
              "</div>\n",
              "    </div>\n",
              "  </div>\n"
            ],
            "application/vnd.google.colaboratory.intrinsic+json": {
              "type": "dataframe",
              "summary": "{\n  \"name\": \"df\",\n  \"rows\": 8,\n  \"fields\": [\n    {\n      \"column\": \"id\",\n      \"properties\": {\n        \"dtype\": \"number\",\n        \"std\": 194340.2963814117,\n        \"min\": 5422.0,\n        \"max\": 565242.0,\n        \"num_unique_values\": 8,\n        \"samples\": [\n          292957.20213943196,\n          321905.0,\n          5422.0\n        ],\n        \"semantic_type\": \"\",\n        \"description\": \"\"\n      }\n    },\n    {\n      \"column\": \"latitude\",\n      \"properties\": {\n        \"dtype\": \"number\",\n        \"std\": 1873.2074638952113,\n        \"min\": 5.999919059186263,\n        \"max\": 5332.0,\n        \"num_unique_values\": 8,\n        \"samples\": [\n          36.9385322828297,\n          35.98699999999999,\n          5332.0\n        ],\n        \"semantic_type\": \"\",\n        \"description\": \"\"\n      }\n    },\n    {\n      \"column\": \"longitude\",\n      \"properties\": {\n        \"dtype\": \"number\",\n        \"std\": 1917.3922576309144,\n        \"min\": -165.4053,\n        \"max\": 5332.0,\n        \"num_unique_values\": 8,\n        \"samples\": [\n          -101.54834887993066,\n          -106.2459,\n          5332.0\n        ],\n        \"semantic_type\": \"\",\n        \"description\": \"\"\n      }\n    }\n  ]\n}"
            }
          },
          "metadata": {},
          "execution_count": 7
        }
      ]
    },
    {
      "cell_type": "code",
      "source": [
        "df['species'].unique()"
      ],
      "metadata": {
        "colab": {
          "base_uri": "https://localhost:8080/"
        },
        "id": "xlexFBNJVJaA",
        "outputId": "075ec663-201f-499d-be62-7b5925e35513"
      },
      "execution_count": 8,
      "outputs": [
        {
          "output_type": "execute_result",
          "data": {
            "text/plain": [
              "array(['bewickii', 'polyglottos', 'migratorius', 'melodia', 'cardinalis'],\n",
              "      dtype=object)"
            ]
          },
          "metadata": {},
          "execution_count": 8
        }
      ]
    },
    {
      "cell_type": "code",
      "source": [
        "df['location'].nunique()"
      ],
      "metadata": {
        "colab": {
          "base_uri": "https://localhost:8080/"
        },
        "id": "6o02SKnlfZ2P",
        "outputId": "e053eada-7ba8-4d05-e18f-95fc04602130"
      },
      "execution_count": 9,
      "outputs": [
        {
          "output_type": "execute_result",
          "data": {
            "text/plain": [
              "304"
            ]
          },
          "metadata": {},
          "execution_count": 9
        }
      ]
    },
    {
      "cell_type": "code",
      "source": [
        "df['recordist'].unique()"
      ],
      "metadata": {
        "colab": {
          "base_uri": "https://localhost:8080/"
        },
        "id": "OGIpMGitfnZ-",
        "outputId": "b309b435-a8cc-4ece-ab24-bda8ea4f1529"
      },
      "execution_count": 10,
      "outputs": [
        {
          "output_type": "execute_result",
          "data": {
            "text/plain": [
              "array(['Whitney Neufeld-Kaiser', 'Bobby Wilcox', 'Steve Hampton',\n",
              "       'Paul Marvin', 'Thomas G. Graves', 'bowtyler', 'Ed Pandolfino',\n",
              "       'Frank Lambert', 'Richard E. Webster', 'Aidan Place', 'Sue Riffe',\n",
              "       'Joshua Jaeger', 'Lance A. M. Benner', \"Ryan P. O'Donnell\",\n",
              "       'Mouser Williams', 'Jim Holmes', 'Eric DeFonso', 'Tim Marquardt',\n",
              "       'Jonathon Jongsma', 'Andrew Spencer', 'Tayler Brooks',\n",
              "       'Chris Parrish', 'Michael S. Taylor', 'Phoenix Birder',\n",
              "       'Brian Hendrix', 'David Robinson', 'ARUN PRABHU',\n",
              "       'Matthew L. Brady', 'Pat Goltz', 'Rolf A. de By',\n",
              "       'Barry Edmonston', 'Phil Brown', 'Matthew Vee',\n",
              "       'Dominic Garcia-Hall', 'Brian Murphy', 'machyjakub', 'Diana Doyle',\n",
              "       'Peter Boesman', 'Richard Dunn', 'Joshua Stevenson', 'Russ Wigh',\n",
              "       'Mike Nelson', 'Matthias Feuersenger', 'Stuart Fisher',\n",
              "       'Eric Zawatski', 'Jacob Saucier', 'Meena Haribal',\n",
              "       'Nicholas Comparato', 'Gary Harbour', 'Jim Berry', 'Patrik Åberg',\n",
              "       'Nick Komar', 'Antonio Xeira', 'Kent Livezey', 'Susan Hochgraf',\n",
              "       'Scott Gravette', 'Jorge de Leon Cardozo', 'Bruce Lagerquist',\n",
              "       'John Leszczynski', 'Matt Wistrand', 'Daniel Parker', 'J.R. Rigby',\n",
              "       'Davyd Betchkal', 'Krzysztof Deoniziak',\n",
              "       'Jorge de Leon Cardozo and Susan Hochgraf', 'Paul Driver',\n",
              "       'Daniel Lane', 'William Whitehead', 'Eric Hough', 'Will Sweet',\n",
              "       'Brian Henderson', 'Greg Irving', 'Scott Crabtree', 'Skip Russell',\n",
              "       'Jeremy Minns', 'John E Abrams', 'Kenny Frisch', 'Jerald R',\n",
              "       'Hal Mitchell', 'Rachel Hudson', 'Derek Buchner', 'Lauren Harter',\n",
              "       'Dan Lane', 'Richard E Webster', 'Paul J hurtado', 'Grant Fisher',\n",
              "       'Joss Price', 'Frank-Udo Tielmann', 'David Sarkozi',\n",
              "       'Matt Baumann', 'Vicki Dern', 'Albert Lastukhin & Max Lastukhin ',\n",
              "       'Steve Pelikan', 'Danny Zapata-Henao', 'David Vander Pluym',\n",
              "       'Ross Gallardy', 'Todd Wilson', 'Allen T. Chartier'], dtype=object)"
            ]
          },
          "metadata": {},
          "execution_count": 10
        }
      ]
    },
    {
      "cell_type": "code",
      "source": [
        "df['genus'].unique()"
      ],
      "metadata": {
        "colab": {
          "base_uri": "https://localhost:8080/"
        },
        "id": "VYlR5E5GfyN1",
        "outputId": "4b75c9d4-eeda-4583-b404-add235997988"
      },
      "execution_count": 11,
      "outputs": [
        {
          "output_type": "execute_result",
          "data": {
            "text/plain": [
              "array(['Thryomanes', 'Mimus', 'Turdus', 'Melospiza', 'Cardinalis'],\n",
              "      dtype=object)"
            ]
          },
          "metadata": {},
          "execution_count": 11
        }
      ]
    },
    {
      "cell_type": "code",
      "source": [],
      "metadata": {
        "id": "15x8LdmifqSj"
      },
      "execution_count": 11,
      "outputs": []
    },
    {
      "cell_type": "code",
      "source": [
        "# Create a horizontal bar plot using Plotly\n",
        "fig = go.Figure(go.Bar(\n",
        "    x=df['species'].value_counts().sort_values(),\n",
        "    y=df['species'].value_counts().sort_values().index,\n",
        "    orientation='h',\n",
        "    marker=dict(color='#3780BF')\n",
        "))\n",
        "\n",
        "fig.update_layout(title='Species Distribution', xaxis_title='Count', yaxis_title='Species')\n",
        "\n",
        "fig.show()\n"
      ],
      "metadata": {
        "colab": {
          "base_uri": "https://localhost:8080/",
          "height": 542
        },
        "id": "alyiM76vP3xJ",
        "outputId": "7ac67c91-8a14-478b-fab9-90cfdd7c3827"
      },
      "execution_count": 12,
      "outputs": [
        {
          "output_type": "display_data",
          "data": {
            "text/html": [
              "<html>\n",
              "<head><meta charset=\"utf-8\" /></head>\n",
              "<body>\n",
              "    <div>            <script src=\"https://cdnjs.cloudflare.com/ajax/libs/mathjax/2.7.5/MathJax.js?config=TeX-AMS-MML_SVG\"></script><script type=\"text/javascript\">if (window.MathJax && window.MathJax.Hub && window.MathJax.Hub.Config) {window.MathJax.Hub.Config({SVG: {font: \"STIX-Web\"}});}</script>                <script type=\"text/javascript\">window.PlotlyConfig = {MathJaxConfig: 'local'};</script>\n",
              "        <script charset=\"utf-8\" src=\"https://cdn.plot.ly/plotly-2.24.1.min.js\"></script>                <div id=\"cb213f20-85bb-4827-be64-9978944da2a9\" class=\"plotly-graph-div\" style=\"height:525px; width:100%;\"></div>            <script type=\"text/javascript\">                                    window.PLOTLYENV=window.PLOTLYENV || {};                                    if (document.getElementById(\"cb213f20-85bb-4827-be64-9978944da2a9\")) {                    Plotly.newPlot(                        \"cb213f20-85bb-4827-be64-9978944da2a9\",                        [{\"marker\":{\"color\":\"#3780BF\"},\"orientation\":\"h\",\"x\":[893,1017,1074,1182,1256],\"y\":[\"bewickii\",\"migratorius\",\"cardinalis\",\"polyglottos\",\"melodia\"],\"type\":\"bar\"}],                        {\"template\":{\"data\":{\"histogram2dcontour\":[{\"type\":\"histogram2dcontour\",\"colorbar\":{\"outlinewidth\":0,\"ticks\":\"\"},\"colorscale\":[[0.0,\"#0d0887\"],[0.1111111111111111,\"#46039f\"],[0.2222222222222222,\"#7201a8\"],[0.3333333333333333,\"#9c179e\"],[0.4444444444444444,\"#bd3786\"],[0.5555555555555556,\"#d8576b\"],[0.6666666666666666,\"#ed7953\"],[0.7777777777777778,\"#fb9f3a\"],[0.8888888888888888,\"#fdca26\"],[1.0,\"#f0f921\"]]}],\"choropleth\":[{\"type\":\"choropleth\",\"colorbar\":{\"outlinewidth\":0,\"ticks\":\"\"}}],\"histogram2d\":[{\"type\":\"histogram2d\",\"colorbar\":{\"outlinewidth\":0,\"ticks\":\"\"},\"colorscale\":[[0.0,\"#0d0887\"],[0.1111111111111111,\"#46039f\"],[0.2222222222222222,\"#7201a8\"],[0.3333333333333333,\"#9c179e\"],[0.4444444444444444,\"#bd3786\"],[0.5555555555555556,\"#d8576b\"],[0.6666666666666666,\"#ed7953\"],[0.7777777777777778,\"#fb9f3a\"],[0.8888888888888888,\"#fdca26\"],[1.0,\"#f0f921\"]]}],\"heatmap\":[{\"type\":\"heatmap\",\"colorbar\":{\"outlinewidth\":0,\"ticks\":\"\"},\"colorscale\":[[0.0,\"#0d0887\"],[0.1111111111111111,\"#46039f\"],[0.2222222222222222,\"#7201a8\"],[0.3333333333333333,\"#9c179e\"],[0.4444444444444444,\"#bd3786\"],[0.5555555555555556,\"#d8576b\"],[0.6666666666666666,\"#ed7953\"],[0.7777777777777778,\"#fb9f3a\"],[0.8888888888888888,\"#fdca26\"],[1.0,\"#f0f921\"]]}],\"heatmapgl\":[{\"type\":\"heatmapgl\",\"colorbar\":{\"outlinewidth\":0,\"ticks\":\"\"},\"colorscale\":[[0.0,\"#0d0887\"],[0.1111111111111111,\"#46039f\"],[0.2222222222222222,\"#7201a8\"],[0.3333333333333333,\"#9c179e\"],[0.4444444444444444,\"#bd3786\"],[0.5555555555555556,\"#d8576b\"],[0.6666666666666666,\"#ed7953\"],[0.7777777777777778,\"#fb9f3a\"],[0.8888888888888888,\"#fdca26\"],[1.0,\"#f0f921\"]]}],\"contourcarpet\":[{\"type\":\"contourcarpet\",\"colorbar\":{\"outlinewidth\":0,\"ticks\":\"\"}}],\"contour\":[{\"type\":\"contour\",\"colorbar\":{\"outlinewidth\":0,\"ticks\":\"\"},\"colorscale\":[[0.0,\"#0d0887\"],[0.1111111111111111,\"#46039f\"],[0.2222222222222222,\"#7201a8\"],[0.3333333333333333,\"#9c179e\"],[0.4444444444444444,\"#bd3786\"],[0.5555555555555556,\"#d8576b\"],[0.6666666666666666,\"#ed7953\"],[0.7777777777777778,\"#fb9f3a\"],[0.8888888888888888,\"#fdca26\"],[1.0,\"#f0f921\"]]}],\"surface\":[{\"type\":\"surface\",\"colorbar\":{\"outlinewidth\":0,\"ticks\":\"\"},\"colorscale\":[[0.0,\"#0d0887\"],[0.1111111111111111,\"#46039f\"],[0.2222222222222222,\"#7201a8\"],[0.3333333333333333,\"#9c179e\"],[0.4444444444444444,\"#bd3786\"],[0.5555555555555556,\"#d8576b\"],[0.6666666666666666,\"#ed7953\"],[0.7777777777777778,\"#fb9f3a\"],[0.8888888888888888,\"#fdca26\"],[1.0,\"#f0f921\"]]}],\"mesh3d\":[{\"type\":\"mesh3d\",\"colorbar\":{\"outlinewidth\":0,\"ticks\":\"\"}}],\"scatter\":[{\"fillpattern\":{\"fillmode\":\"overlay\",\"size\":10,\"solidity\":0.2},\"type\":\"scatter\"}],\"parcoords\":[{\"type\":\"parcoords\",\"line\":{\"colorbar\":{\"outlinewidth\":0,\"ticks\":\"\"}}}],\"scatterpolargl\":[{\"type\":\"scatterpolargl\",\"marker\":{\"colorbar\":{\"outlinewidth\":0,\"ticks\":\"\"}}}],\"bar\":[{\"error_x\":{\"color\":\"#2a3f5f\"},\"error_y\":{\"color\":\"#2a3f5f\"},\"marker\":{\"line\":{\"color\":\"#E5ECF6\",\"width\":0.5},\"pattern\":{\"fillmode\":\"overlay\",\"size\":10,\"solidity\":0.2}},\"type\":\"bar\"}],\"scattergeo\":[{\"type\":\"scattergeo\",\"marker\":{\"colorbar\":{\"outlinewidth\":0,\"ticks\":\"\"}}}],\"scatterpolar\":[{\"type\":\"scatterpolar\",\"marker\":{\"colorbar\":{\"outlinewidth\":0,\"ticks\":\"\"}}}],\"histogram\":[{\"marker\":{\"pattern\":{\"fillmode\":\"overlay\",\"size\":10,\"solidity\":0.2}},\"type\":\"histogram\"}],\"scattergl\":[{\"type\":\"scattergl\",\"marker\":{\"colorbar\":{\"outlinewidth\":0,\"ticks\":\"\"}}}],\"scatter3d\":[{\"type\":\"scatter3d\",\"line\":{\"colorbar\":{\"outlinewidth\":0,\"ticks\":\"\"}},\"marker\":{\"colorbar\":{\"outlinewidth\":0,\"ticks\":\"\"}}}],\"scattermapbox\":[{\"type\":\"scattermapbox\",\"marker\":{\"colorbar\":{\"outlinewidth\":0,\"ticks\":\"\"}}}],\"scatterternary\":[{\"type\":\"scatterternary\",\"marker\":{\"colorbar\":{\"outlinewidth\":0,\"ticks\":\"\"}}}],\"scattercarpet\":[{\"type\":\"scattercarpet\",\"marker\":{\"colorbar\":{\"outlinewidth\":0,\"ticks\":\"\"}}}],\"carpet\":[{\"aaxis\":{\"endlinecolor\":\"#2a3f5f\",\"gridcolor\":\"white\",\"linecolor\":\"white\",\"minorgridcolor\":\"white\",\"startlinecolor\":\"#2a3f5f\"},\"baxis\":{\"endlinecolor\":\"#2a3f5f\",\"gridcolor\":\"white\",\"linecolor\":\"white\",\"minorgridcolor\":\"white\",\"startlinecolor\":\"#2a3f5f\"},\"type\":\"carpet\"}],\"table\":[{\"cells\":{\"fill\":{\"color\":\"#EBF0F8\"},\"line\":{\"color\":\"white\"}},\"header\":{\"fill\":{\"color\":\"#C8D4E3\"},\"line\":{\"color\":\"white\"}},\"type\":\"table\"}],\"barpolar\":[{\"marker\":{\"line\":{\"color\":\"#E5ECF6\",\"width\":0.5},\"pattern\":{\"fillmode\":\"overlay\",\"size\":10,\"solidity\":0.2}},\"type\":\"barpolar\"}],\"pie\":[{\"automargin\":true,\"type\":\"pie\"}]},\"layout\":{\"autotypenumbers\":\"strict\",\"colorway\":[\"#636efa\",\"#EF553B\",\"#00cc96\",\"#ab63fa\",\"#FFA15A\",\"#19d3f3\",\"#FF6692\",\"#B6E880\",\"#FF97FF\",\"#FECB52\"],\"font\":{\"color\":\"#2a3f5f\"},\"hovermode\":\"closest\",\"hoverlabel\":{\"align\":\"left\"},\"paper_bgcolor\":\"white\",\"plot_bgcolor\":\"#E5ECF6\",\"polar\":{\"bgcolor\":\"#E5ECF6\",\"angularaxis\":{\"gridcolor\":\"white\",\"linecolor\":\"white\",\"ticks\":\"\"},\"radialaxis\":{\"gridcolor\":\"white\",\"linecolor\":\"white\",\"ticks\":\"\"}},\"ternary\":{\"bgcolor\":\"#E5ECF6\",\"aaxis\":{\"gridcolor\":\"white\",\"linecolor\":\"white\",\"ticks\":\"\"},\"baxis\":{\"gridcolor\":\"white\",\"linecolor\":\"white\",\"ticks\":\"\"},\"caxis\":{\"gridcolor\":\"white\",\"linecolor\":\"white\",\"ticks\":\"\"}},\"coloraxis\":{\"colorbar\":{\"outlinewidth\":0,\"ticks\":\"\"}},\"colorscale\":{\"sequential\":[[0.0,\"#0d0887\"],[0.1111111111111111,\"#46039f\"],[0.2222222222222222,\"#7201a8\"],[0.3333333333333333,\"#9c179e\"],[0.4444444444444444,\"#bd3786\"],[0.5555555555555556,\"#d8576b\"],[0.6666666666666666,\"#ed7953\"],[0.7777777777777778,\"#fb9f3a\"],[0.8888888888888888,\"#fdca26\"],[1.0,\"#f0f921\"]],\"sequentialminus\":[[0.0,\"#0d0887\"],[0.1111111111111111,\"#46039f\"],[0.2222222222222222,\"#7201a8\"],[0.3333333333333333,\"#9c179e\"],[0.4444444444444444,\"#bd3786\"],[0.5555555555555556,\"#d8576b\"],[0.6666666666666666,\"#ed7953\"],[0.7777777777777778,\"#fb9f3a\"],[0.8888888888888888,\"#fdca26\"],[1.0,\"#f0f921\"]],\"diverging\":[[0,\"#8e0152\"],[0.1,\"#c51b7d\"],[0.2,\"#de77ae\"],[0.3,\"#f1b6da\"],[0.4,\"#fde0ef\"],[0.5,\"#f7f7f7\"],[0.6,\"#e6f5d0\"],[0.7,\"#b8e186\"],[0.8,\"#7fbc41\"],[0.9,\"#4d9221\"],[1,\"#276419\"]]},\"xaxis\":{\"gridcolor\":\"white\",\"linecolor\":\"white\",\"ticks\":\"\",\"title\":{\"standoff\":15},\"zerolinecolor\":\"white\",\"automargin\":true,\"zerolinewidth\":2},\"yaxis\":{\"gridcolor\":\"white\",\"linecolor\":\"white\",\"ticks\":\"\",\"title\":{\"standoff\":15},\"zerolinecolor\":\"white\",\"automargin\":true,\"zerolinewidth\":2},\"scene\":{\"xaxis\":{\"backgroundcolor\":\"#E5ECF6\",\"gridcolor\":\"white\",\"linecolor\":\"white\",\"showbackground\":true,\"ticks\":\"\",\"zerolinecolor\":\"white\",\"gridwidth\":2},\"yaxis\":{\"backgroundcolor\":\"#E5ECF6\",\"gridcolor\":\"white\",\"linecolor\":\"white\",\"showbackground\":true,\"ticks\":\"\",\"zerolinecolor\":\"white\",\"gridwidth\":2},\"zaxis\":{\"backgroundcolor\":\"#E5ECF6\",\"gridcolor\":\"white\",\"linecolor\":\"white\",\"showbackground\":true,\"ticks\":\"\",\"zerolinecolor\":\"white\",\"gridwidth\":2}},\"shapedefaults\":{\"line\":{\"color\":\"#2a3f5f\"}},\"annotationdefaults\":{\"arrowcolor\":\"#2a3f5f\",\"arrowhead\":0,\"arrowwidth\":1},\"geo\":{\"bgcolor\":\"white\",\"landcolor\":\"#E5ECF6\",\"subunitcolor\":\"white\",\"showland\":true,\"showlakes\":true,\"lakecolor\":\"white\"},\"title\":{\"x\":0.05},\"mapbox\":{\"style\":\"light\"}}},\"title\":{\"text\":\"Species Distribution\"},\"xaxis\":{\"title\":{\"text\":\"Count\"}},\"yaxis\":{\"title\":{\"text\":\"Species\"}}},                        {\"responsive\": true}                    ).then(function(){\n",
              "                            \n",
              "var gd = document.getElementById('cb213f20-85bb-4827-be64-9978944da2a9');\n",
              "var x = new MutationObserver(function (mutations, observer) {{\n",
              "        var display = window.getComputedStyle(gd).display;\n",
              "        if (!display || display === 'none') {{\n",
              "            console.log([gd, 'removed!']);\n",
              "            Plotly.purge(gd);\n",
              "            observer.disconnect();\n",
              "        }}\n",
              "}});\n",
              "\n",
              "// Listen for the removal of the full notebook cells\n",
              "var notebookContainer = gd.closest('#notebook-container');\n",
              "if (notebookContainer) {{\n",
              "    x.observe(notebookContainer, {childList: true});\n",
              "}}\n",
              "\n",
              "// Listen for the clearing of the current output cell\n",
              "var outputEl = gd.closest('.output');\n",
              "if (outputEl) {{\n",
              "    x.observe(outputEl, {childList: true});\n",
              "}}\n",
              "\n",
              "                        })                };                            </script>        </div>\n",
              "</body>\n",
              "</html>"
            ]
          },
          "metadata": {}
        }
      ]
    },
    {
      "cell_type": "code",
      "source": [
        "fig = go.Figure(go.Bar(\n",
        "    x=df['sound_type'].value_counts().sort_values(),\n",
        "    y=df['sound_type'].value_counts().sort_values().index,\n",
        "    orientation='h',\n",
        "    marker=dict(color='#3780BF')\n",
        "))\n",
        "\n",
        "fig.update_layout(title='Sound Type Distribution', xaxis_title='Count', yaxis_title='Sound Type')\n",
        "\n",
        "fig.show()\n"
      ],
      "metadata": {
        "colab": {
          "base_uri": "https://localhost:8080/",
          "height": 542
        },
        "id": "NcuRCx2rh-9l",
        "outputId": "6b67bc77-2c9d-47f4-9046-f323027908dd"
      },
      "execution_count": 14,
      "outputs": [
        {
          "output_type": "display_data",
          "data": {
            "text/html": [
              "<html>\n",
              "<head><meta charset=\"utf-8\" /></head>\n",
              "<body>\n",
              "    <div>            <script src=\"https://cdnjs.cloudflare.com/ajax/libs/mathjax/2.7.5/MathJax.js?config=TeX-AMS-MML_SVG\"></script><script type=\"text/javascript\">if (window.MathJax && window.MathJax.Hub && window.MathJax.Hub.Config) {window.MathJax.Hub.Config({SVG: {font: \"STIX-Web\"}});}</script>                <script type=\"text/javascript\">window.PlotlyConfig = {MathJaxConfig: 'local'};</script>\n",
              "        <script charset=\"utf-8\" src=\"https://cdn.plot.ly/plotly-2.24.1.min.js\"></script>                <div id=\"01da346f-972b-4d3b-93e0-db04c19b5366\" class=\"plotly-graph-div\" style=\"height:525px; width:100%;\"></div>            <script type=\"text/javascript\">                                    window.PLOTLYENV=window.PLOTLYENV || {};                                    if (document.getElementById(\"01da346f-972b-4d3b-93e0-db04c19b5366\")) {                    Plotly.newPlot(                        \"01da346f-972b-4d3b-93e0-db04c19b5366\",                        [{\"marker\":{\"color\":\"#3780BF\"},\"orientation\":\"h\",\"x\":[5,8,8,8,10,11,11,11,11,11,12,13,13,13,14,14,14,14,14,15,17,17,18,25,45,58,116,118,255,374,4149],\"y\":[\"life stage uncertain, sex uncertain, song\",\"plastic song, song\",\"interaction tick series, song,call\",\"alarm call, song\",\"call, whisper song\",\"adult, song\",\"mimicry\\u002fimitation, song\",\"female song\",\"call, female, song\",\"life stage uncertain, male, song\",\"adult, call, sex uncertain, song\",\"song, call, chase, interaction ticks\",\"adult, mimicry\\u002fimitation, sex uncertain, song\",\"call, mimicry, song\",\"Song, various calls\",\"Several different song types appear in this recording of part of a single bout.,\",\"call, male, song\",\"juvenile, subsong\",\"Carolina Wren and Eastern Kingbird, mimicry of Blue Jay, song\",\"male-female duet, song\",\"Mimic, song\",\"vesper song\",\"calling whilst foraging, song\",\"dawn song\",\"adult, male, song\",\"subsong\",\"Song\",\"adult, sex uncertain, song\",\"male, song\",\"call, song\",\"song\"],\"type\":\"bar\"}],                        {\"template\":{\"data\":{\"histogram2dcontour\":[{\"type\":\"histogram2dcontour\",\"colorbar\":{\"outlinewidth\":0,\"ticks\":\"\"},\"colorscale\":[[0.0,\"#0d0887\"],[0.1111111111111111,\"#46039f\"],[0.2222222222222222,\"#7201a8\"],[0.3333333333333333,\"#9c179e\"],[0.4444444444444444,\"#bd3786\"],[0.5555555555555556,\"#d8576b\"],[0.6666666666666666,\"#ed7953\"],[0.7777777777777778,\"#fb9f3a\"],[0.8888888888888888,\"#fdca26\"],[1.0,\"#f0f921\"]]}],\"choropleth\":[{\"type\":\"choropleth\",\"colorbar\":{\"outlinewidth\":0,\"ticks\":\"\"}}],\"histogram2d\":[{\"type\":\"histogram2d\",\"colorbar\":{\"outlinewidth\":0,\"ticks\":\"\"},\"colorscale\":[[0.0,\"#0d0887\"],[0.1111111111111111,\"#46039f\"],[0.2222222222222222,\"#7201a8\"],[0.3333333333333333,\"#9c179e\"],[0.4444444444444444,\"#bd3786\"],[0.5555555555555556,\"#d8576b\"],[0.6666666666666666,\"#ed7953\"],[0.7777777777777778,\"#fb9f3a\"],[0.8888888888888888,\"#fdca26\"],[1.0,\"#f0f921\"]]}],\"heatmap\":[{\"type\":\"heatmap\",\"colorbar\":{\"outlinewidth\":0,\"ticks\":\"\"},\"colorscale\":[[0.0,\"#0d0887\"],[0.1111111111111111,\"#46039f\"],[0.2222222222222222,\"#7201a8\"],[0.3333333333333333,\"#9c179e\"],[0.4444444444444444,\"#bd3786\"],[0.5555555555555556,\"#d8576b\"],[0.6666666666666666,\"#ed7953\"],[0.7777777777777778,\"#fb9f3a\"],[0.8888888888888888,\"#fdca26\"],[1.0,\"#f0f921\"]]}],\"heatmapgl\":[{\"type\":\"heatmapgl\",\"colorbar\":{\"outlinewidth\":0,\"ticks\":\"\"},\"colorscale\":[[0.0,\"#0d0887\"],[0.1111111111111111,\"#46039f\"],[0.2222222222222222,\"#7201a8\"],[0.3333333333333333,\"#9c179e\"],[0.4444444444444444,\"#bd3786\"],[0.5555555555555556,\"#d8576b\"],[0.6666666666666666,\"#ed7953\"],[0.7777777777777778,\"#fb9f3a\"],[0.8888888888888888,\"#fdca26\"],[1.0,\"#f0f921\"]]}],\"contourcarpet\":[{\"type\":\"contourcarpet\",\"colorbar\":{\"outlinewidth\":0,\"ticks\":\"\"}}],\"contour\":[{\"type\":\"contour\",\"colorbar\":{\"outlinewidth\":0,\"ticks\":\"\"},\"colorscale\":[[0.0,\"#0d0887\"],[0.1111111111111111,\"#46039f\"],[0.2222222222222222,\"#7201a8\"],[0.3333333333333333,\"#9c179e\"],[0.4444444444444444,\"#bd3786\"],[0.5555555555555556,\"#d8576b\"],[0.6666666666666666,\"#ed7953\"],[0.7777777777777778,\"#fb9f3a\"],[0.8888888888888888,\"#fdca26\"],[1.0,\"#f0f921\"]]}],\"surface\":[{\"type\":\"surface\",\"colorbar\":{\"outlinewidth\":0,\"ticks\":\"\"},\"colorscale\":[[0.0,\"#0d0887\"],[0.1111111111111111,\"#46039f\"],[0.2222222222222222,\"#7201a8\"],[0.3333333333333333,\"#9c179e\"],[0.4444444444444444,\"#bd3786\"],[0.5555555555555556,\"#d8576b\"],[0.6666666666666666,\"#ed7953\"],[0.7777777777777778,\"#fb9f3a\"],[0.8888888888888888,\"#fdca26\"],[1.0,\"#f0f921\"]]}],\"mesh3d\":[{\"type\":\"mesh3d\",\"colorbar\":{\"outlinewidth\":0,\"ticks\":\"\"}}],\"scatter\":[{\"fillpattern\":{\"fillmode\":\"overlay\",\"size\":10,\"solidity\":0.2},\"type\":\"scatter\"}],\"parcoords\":[{\"type\":\"parcoords\",\"line\":{\"colorbar\":{\"outlinewidth\":0,\"ticks\":\"\"}}}],\"scatterpolargl\":[{\"type\":\"scatterpolargl\",\"marker\":{\"colorbar\":{\"outlinewidth\":0,\"ticks\":\"\"}}}],\"bar\":[{\"error_x\":{\"color\":\"#2a3f5f\"},\"error_y\":{\"color\":\"#2a3f5f\"},\"marker\":{\"line\":{\"color\":\"#E5ECF6\",\"width\":0.5},\"pattern\":{\"fillmode\":\"overlay\",\"size\":10,\"solidity\":0.2}},\"type\":\"bar\"}],\"scattergeo\":[{\"type\":\"scattergeo\",\"marker\":{\"colorbar\":{\"outlinewidth\":0,\"ticks\":\"\"}}}],\"scatterpolar\":[{\"type\":\"scatterpolar\",\"marker\":{\"colorbar\":{\"outlinewidth\":0,\"ticks\":\"\"}}}],\"histogram\":[{\"marker\":{\"pattern\":{\"fillmode\":\"overlay\",\"size\":10,\"solidity\":0.2}},\"type\":\"histogram\"}],\"scattergl\":[{\"type\":\"scattergl\",\"marker\":{\"colorbar\":{\"outlinewidth\":0,\"ticks\":\"\"}}}],\"scatter3d\":[{\"type\":\"scatter3d\",\"line\":{\"colorbar\":{\"outlinewidth\":0,\"ticks\":\"\"}},\"marker\":{\"colorbar\":{\"outlinewidth\":0,\"ticks\":\"\"}}}],\"scattermapbox\":[{\"type\":\"scattermapbox\",\"marker\":{\"colorbar\":{\"outlinewidth\":0,\"ticks\":\"\"}}}],\"scatterternary\":[{\"type\":\"scatterternary\",\"marker\":{\"colorbar\":{\"outlinewidth\":0,\"ticks\":\"\"}}}],\"scattercarpet\":[{\"type\":\"scattercarpet\",\"marker\":{\"colorbar\":{\"outlinewidth\":0,\"ticks\":\"\"}}}],\"carpet\":[{\"aaxis\":{\"endlinecolor\":\"#2a3f5f\",\"gridcolor\":\"white\",\"linecolor\":\"white\",\"minorgridcolor\":\"white\",\"startlinecolor\":\"#2a3f5f\"},\"baxis\":{\"endlinecolor\":\"#2a3f5f\",\"gridcolor\":\"white\",\"linecolor\":\"white\",\"minorgridcolor\":\"white\",\"startlinecolor\":\"#2a3f5f\"},\"type\":\"carpet\"}],\"table\":[{\"cells\":{\"fill\":{\"color\":\"#EBF0F8\"},\"line\":{\"color\":\"white\"}},\"header\":{\"fill\":{\"color\":\"#C8D4E3\"},\"line\":{\"color\":\"white\"}},\"type\":\"table\"}],\"barpolar\":[{\"marker\":{\"line\":{\"color\":\"#E5ECF6\",\"width\":0.5},\"pattern\":{\"fillmode\":\"overlay\",\"size\":10,\"solidity\":0.2}},\"type\":\"barpolar\"}],\"pie\":[{\"automargin\":true,\"type\":\"pie\"}]},\"layout\":{\"autotypenumbers\":\"strict\",\"colorway\":[\"#636efa\",\"#EF553B\",\"#00cc96\",\"#ab63fa\",\"#FFA15A\",\"#19d3f3\",\"#FF6692\",\"#B6E880\",\"#FF97FF\",\"#FECB52\"],\"font\":{\"color\":\"#2a3f5f\"},\"hovermode\":\"closest\",\"hoverlabel\":{\"align\":\"left\"},\"paper_bgcolor\":\"white\",\"plot_bgcolor\":\"#E5ECF6\",\"polar\":{\"bgcolor\":\"#E5ECF6\",\"angularaxis\":{\"gridcolor\":\"white\",\"linecolor\":\"white\",\"ticks\":\"\"},\"radialaxis\":{\"gridcolor\":\"white\",\"linecolor\":\"white\",\"ticks\":\"\"}},\"ternary\":{\"bgcolor\":\"#E5ECF6\",\"aaxis\":{\"gridcolor\":\"white\",\"linecolor\":\"white\",\"ticks\":\"\"},\"baxis\":{\"gridcolor\":\"white\",\"linecolor\":\"white\",\"ticks\":\"\"},\"caxis\":{\"gridcolor\":\"white\",\"linecolor\":\"white\",\"ticks\":\"\"}},\"coloraxis\":{\"colorbar\":{\"outlinewidth\":0,\"ticks\":\"\"}},\"colorscale\":{\"sequential\":[[0.0,\"#0d0887\"],[0.1111111111111111,\"#46039f\"],[0.2222222222222222,\"#7201a8\"],[0.3333333333333333,\"#9c179e\"],[0.4444444444444444,\"#bd3786\"],[0.5555555555555556,\"#d8576b\"],[0.6666666666666666,\"#ed7953\"],[0.7777777777777778,\"#fb9f3a\"],[0.8888888888888888,\"#fdca26\"],[1.0,\"#f0f921\"]],\"sequentialminus\":[[0.0,\"#0d0887\"],[0.1111111111111111,\"#46039f\"],[0.2222222222222222,\"#7201a8\"],[0.3333333333333333,\"#9c179e\"],[0.4444444444444444,\"#bd3786\"],[0.5555555555555556,\"#d8576b\"],[0.6666666666666666,\"#ed7953\"],[0.7777777777777778,\"#fb9f3a\"],[0.8888888888888888,\"#fdca26\"],[1.0,\"#f0f921\"]],\"diverging\":[[0,\"#8e0152\"],[0.1,\"#c51b7d\"],[0.2,\"#de77ae\"],[0.3,\"#f1b6da\"],[0.4,\"#fde0ef\"],[0.5,\"#f7f7f7\"],[0.6,\"#e6f5d0\"],[0.7,\"#b8e186\"],[0.8,\"#7fbc41\"],[0.9,\"#4d9221\"],[1,\"#276419\"]]},\"xaxis\":{\"gridcolor\":\"white\",\"linecolor\":\"white\",\"ticks\":\"\",\"title\":{\"standoff\":15},\"zerolinecolor\":\"white\",\"automargin\":true,\"zerolinewidth\":2},\"yaxis\":{\"gridcolor\":\"white\",\"linecolor\":\"white\",\"ticks\":\"\",\"title\":{\"standoff\":15},\"zerolinecolor\":\"white\",\"automargin\":true,\"zerolinewidth\":2},\"scene\":{\"xaxis\":{\"backgroundcolor\":\"#E5ECF6\",\"gridcolor\":\"white\",\"linecolor\":\"white\",\"showbackground\":true,\"ticks\":\"\",\"zerolinecolor\":\"white\",\"gridwidth\":2},\"yaxis\":{\"backgroundcolor\":\"#E5ECF6\",\"gridcolor\":\"white\",\"linecolor\":\"white\",\"showbackground\":true,\"ticks\":\"\",\"zerolinecolor\":\"white\",\"gridwidth\":2},\"zaxis\":{\"backgroundcolor\":\"#E5ECF6\",\"gridcolor\":\"white\",\"linecolor\":\"white\",\"showbackground\":true,\"ticks\":\"\",\"zerolinecolor\":\"white\",\"gridwidth\":2}},\"shapedefaults\":{\"line\":{\"color\":\"#2a3f5f\"}},\"annotationdefaults\":{\"arrowcolor\":\"#2a3f5f\",\"arrowhead\":0,\"arrowwidth\":1},\"geo\":{\"bgcolor\":\"white\",\"landcolor\":\"#E5ECF6\",\"subunitcolor\":\"white\",\"showland\":true,\"showlakes\":true,\"lakecolor\":\"white\"},\"title\":{\"x\":0.05},\"mapbox\":{\"style\":\"light\"}}},\"title\":{\"text\":\"Sound Type Distribution\"},\"xaxis\":{\"title\":{\"text\":\"Count\"}},\"yaxis\":{\"title\":{\"text\":\"Sound Type\"}}},                        {\"responsive\": true}                    ).then(function(){\n",
              "                            \n",
              "var gd = document.getElementById('01da346f-972b-4d3b-93e0-db04c19b5366');\n",
              "var x = new MutationObserver(function (mutations, observer) {{\n",
              "        var display = window.getComputedStyle(gd).display;\n",
              "        if (!display || display === 'none') {{\n",
              "            console.log([gd, 'removed!']);\n",
              "            Plotly.purge(gd);\n",
              "            observer.disconnect();\n",
              "        }}\n",
              "}});\n",
              "\n",
              "// Listen for the removal of the full notebook cells\n",
              "var notebookContainer = gd.closest('#notebook-container');\n",
              "if (notebookContainer) {{\n",
              "    x.observe(notebookContainer, {childList: true});\n",
              "}}\n",
              "\n",
              "// Listen for the clearing of the current output cell\n",
              "var outputEl = gd.closest('.output');\n",
              "if (outputEl) {{\n",
              "    x.observe(outputEl, {childList: true});\n",
              "}}\n",
              "\n",
              "                        })                };                            </script>        </div>\n",
              "</body>\n",
              "</html>"
            ]
          },
          "metadata": {}
        }
      ]
    },
    {
      "cell_type": "code",
      "source": [
        "fig = go.Figure(go.Bar(\n",
        "    x=df['location'].value_counts().sort_values(),\n",
        "    y=df['location'].value_counts().sort_values().index,\n",
        "    orientation='h',\n",
        "    marker=dict(color='#3780BF')\n",
        "))\n",
        "\n",
        "fig.update_layout(title='Location Distribution', xaxis_title='Count', yaxis_title='Location')\n",
        "\n",
        "fig.show()"
      ],
      "metadata": {
        "colab": {
          "base_uri": "https://localhost:8080/",
          "height": 542
        },
        "id": "yBxKraxQfYgJ",
        "outputId": "2f71c38e-539a-449c-90ee-f657a9e5edf5"
      },
      "execution_count": 15,
      "outputs": [
        {
          "output_type": "display_data",
          "data": {
            "text/html": [
              "<html>\n",
              "<head><meta charset=\"utf-8\" /></head>\n",
              "<body>\n",
              "    <div>            <script src=\"https://cdnjs.cloudflare.com/ajax/libs/mathjax/2.7.5/MathJax.js?config=TeX-AMS-MML_SVG\"></script><script type=\"text/javascript\">if (window.MathJax && window.MathJax.Hub && window.MathJax.Hub.Config) {window.MathJax.Hub.Config({SVG: {font: \"STIX-Web\"}});}</script>                <script type=\"text/javascript\">window.PlotlyConfig = {MathJaxConfig: 'local'};</script>\n",
              "        <script charset=\"utf-8\" src=\"https://cdn.plot.ly/plotly-2.24.1.min.js\"></script>                <div id=\"5dcc3c60-8c29-44a3-a8f8-92bcee353b26\" class=\"plotly-graph-div\" style=\"height:525px; width:100%;\"></div>            <script type=\"text/javascript\">                                    window.PLOTLYENV=window.PLOTLYENV || {};                                    if (document.getElementById(\"5dcc3c60-8c29-44a3-a8f8-92bcee353b26\")) {                    Plotly.newPlot(                        \"5dcc3c60-8c29-44a3-a8f8-92bcee353b26\",                        [{\"marker\":{\"color\":\"#3780BF\"},\"orientation\":\"h\",\"x\":[2,4,4,5,5,5,6,6,6,6,6,6,6,6,7,7,7,7,7,7,7,7,7,7,8,8,8,8,8,8,8,8,8,8,8,8,8,8,9,9,9,9,9,9,9,9,9,9,9,9,9,9,9,9,9,9,9,9,10,10,10,10,10,10,10,10,10,10,10,10,10,10,10,10,10,10,10,10,10,10,10,11,11,11,11,11,11,11,11,11,11,11,11,11,11,11,11,11,11,11,11,11,11,11,11,11,11,11,11,11,12,12,12,12,12,12,12,12,12,12,12,12,12,12,12,12,12,12,12,12,12,12,12,12,12,12,12,12,13,13,13,13,13,13,13,13,13,13,13,13,13,13,13,13,13,13,13,13,13,13,13,13,13,13,13,14,14,14,14,14,14,14,14,14,14,14,14,14,14,14,14,14,14,14,14,14,14,14,14,14,15,15,15,15,15,15,15,15,15,15,15,15,15,15,15,15,15,16,16,16,16,16,16,16,16,16,17,17,17,17,17,17,17,18,18,18,18,18,18,18,19,19,19,19,19,19,20,20,21,21,21,22,22,22,22,22,22,22,23,23,23,23,23,23,24,24,24,24,25,26,26,26,27,27,27,28,28,28,28,28,28,28,29,29,29,30,30,31,31,32,32,32,32,33,34,34,35,35,35,39,40,45,46,53,54,56,57,66,73,74,85,94,195,252],\"y\":[\"4th and Forest, Boulder, Boulder County, Colorado\",\"Gates Canyon, Solano County, California\",\"Sawhill Ponds, Boulder County, Colorado\",\"San Diego, San Diego County, California\",\"Big Cottonwood Park, Salt Lake County, Utah\",\"Oakland, Alameda County, California\",\"Silver Creek, Cave Creek Canyon, Cochise County, Arizona\",\"Salt River - Coon Bluff Recreation Area, Maricopa County, Arizona\",\"South Carolina (near  Hartsville), Darlington County, South Carolina\",\"Dover, Kent County, Delaware\",\"Portland, Multnomah County, Oregon\",\"Patagonia Lake State Park, AZ\",\"Kentucky (near  Richmond), Madison County, Kentucky\",\"Campton Forest Preserve, Kane County, Illinois\",\"White Salmon, Klickitat County, Washington\",\"Lake Massapoag, Sharon, Norfolk County, Massachusetts\",\"North Harmony (near  Mayville), Chautauqua County, New York\",\"Washington Park Arboretum, Seattle, King County, Washington\",\"Fort Washington State Park, Montgomery County, Pennsylvania\",\"Middletown, New Castle County, Delaware\",\"Chattahoochee National Forest (near  Blairsville), Union County, Georgia\",\"Huntington Library and Botanical Gardens, Los Angeles Cty., California\",\"Hassayampa River Preserve, Wickenburg, Maricopa County, Arizona\",\"Bloomer Park, Oakland County, Michigan\",\"Dairymart Ponds, San Diego County, California\",\"San Pedro River National Conservation Area (San Pedro House), Cochise County, Arizona\",\"Bonita Canyon, Chiricahua NM, Arizona\",\"Haiwee Pass, Inyo, California\",\"Scotch Plains, Union County, New Jersey\",\"Bowdoin National Wildlife Refuge, Phillips Co., Montana\",\"Chisos Basin, Big Bend National Park, Brewster Co., Texas\",\"Yale-Meyers Forest, Union, Tolland County, Connecticut\",\"Woodville, Jasper County, Texas\",\"Davis Mountains State Park, Jeff Davis Co, Texas\",\"Mission Creek Nature Park (near  Olympia), Thurston County, Washington\",\"Buenos Aires National Wildlife Refuge, Pima County, Arizona\",\"Poudre Trail - Riverbend Ponds, Fort Collins, Larimer Cty., Colorado\",\"Hector (near  Burdett), Schuyler County, New York\",\"Big Morongo Canyon Preserve, Morongo Valley, San Bernardino County, CA\",\"4th and Juniper, Boulder, Boulder County, Colorado\",\"Scrub Ridge Trail, Merritt Island NWR, Brevard County, Florida\",\"Petroleum Club Rd., Maricopa, Kern County, California\",\"Seminole Ranch by Orlando Wetlands, Christmas, Florida\",\"Catalina State Park, Pima Co., Arizona\",\"Tama (near  Burlington), Des Moines, Iowa\",\"Los Osos, Montana de Oro State Park, Coon Creek Trail,  California\",\"Ernest Oros Nature Preserve, Avenel, New Jersey\",\"Sanctuary River, Alaska\",\"Trask Road, Willington, Tolland County, Connecticut\",\"Trail Ridge Road, Larimer Co., Colorado\",\"Whitewater Draw NWR, AZ\",\"Ehrenberg, La Paz County, Arizona\",\"Henry Cowell Redwoods State Park, Santa Cruz County, California\",\"Sherburne NWR, Sherburne, Minnesota\",\"American Camp, San Juan Island National Historical Park, San Juan Co., Washington\",\"Tonaquint Park, St. George, Washington County, Utah\",\"San Luis Obispo, California\",\"Treichler Rd., Upper Hanover Township, Montgomery County, Pennsylvania\",\"Sheephead Mt Rd by I-8 rest area, N of Buckman Springs Rd, Cleveland National Forest, San Diego Co, California\",\"Hidden Valley Nature Center, Riverside, Riverside County, California\",\"Taylor Ranch, Placer County, California\",\"Walsenburg, Huerfano County, Colorado\",\"Konza Prairie Nature Preserve, Riley County, Kansas\",\"Sugarbush Dr, Holiday, Pasco, Florida\",\"Merritt Island NWR, Pumphouse Road, Brevard County, Florida\",\"Lost Maples State Natural Area, Texas\",\"College Township (near  State College), Centre County, Pennsylvania\",\"Plum Island, Newbury, Essex County, Massachusetts\",\"White Mountains, California\",\"Chiniak Point, Kodiak Island, Alaska\",\"Patagonia - Sonoita Creek Preserve, Santa Cruz county, Arizona\",\"Dordt College Prairie, Sioux, Iowa\",\"Sunflower, Beeline Highway, Maricopa County, Arizona\",\"Sugarloaf Key, Monroe County, Florida\",\"CR 93.9, Las Animas Cty, Colorado\",\"Cave Creek Ranch, Portal, Cochise County, Arizona\",\"Kern River Preserve, Kern County, California\",\"Hisle Park\",\"Willapa Trail, Adna, Lewis County, Washington\",\"Anacortes, Skagit County, Washington\",\"Fort Drum Marsh Conservation Area, Indian River County, Florida\",\"Cottonwood Canyon, Pasadena, Los Angeles County, California\",\"McClellan Ranch Preserve, Santa Clara, California\",\"Kitchen Creek Rd, south section, Cleveland National Forest, San Diego County, California\",\"Hollenbeck Canyon Trail, Jamul, San Diego County, California\",\"Bike Trail Folsom, Sacramento County, California\",\"Washington, District of Columbia, District of Columbia\",\"Three Lakes WMA, Kenansville, Osceola, Florida\",\"Honolulu, Honolulu County, Hawaii\",\"Slate Creek Divide, Maricopa County, Arizona\",\"Arrastre Creek at 3N03, San Bernardino Mountains, San Bernardino, California\",\"Hidden Valley, Joshua Tree National Park, California\",\"Hassayampa River Preserve, Maricopa, Arizona\",\"Little Firehole Road, Flaming Gorge NRA, Wyoming\",\"Rio Grande Village, Big Bend National Park, Brewster Co., Texas\",\"Tucson, Pima County, Arizona\",\"Duck Creek SWA, Logan Co., Colorado\",\"St Clair Ave & Lexington Pkwy (near  Saint Paul), Ramsey County, Minnesota\",\"Olancha Pass Trail, Inyo, California\",\"south Shiloh Marsh area, Merritt Island NWR, Florida\",\"Grizzly Island Wildlife Area, Solano County, California\",\"Bald Mountain Park, South RA, Oakland County, MI\",\"Arlington Wildlife Area, Maricopa County, Arizona\",\"Oyster Bay, Nassau, New York\",\"Hidden Beaches, Blythe, Riverside County, California\",\"Lighthouse Road, Cameron Parish, Louisiana\",\"Riviera Rd, backyard\",\"Wood Chuck Hill Rd., Town of Carroll (near  Frewsburg), Chautauqua County, New York\",\"Huntington, Hampshire County, Massachusetts\",\"Cape Cod (near  Wellfleet), Barnstable County, Massachusetts\",\"Atascadero, California, Cerro Alto Campground\",\"Battelle Darby Metro Park--Darby Dan Training Loop trail (SW corner)\",\"Jockey Hollow, Harding Township (near  Morristown), Morris County, New Jersey\",\"Lamar Community College Woods, Prowers Co., Colorado\",\"Kickapoo Cavern State Park, Texas\",\"Kiantone (near  Jamestown), Chautauqua County, New York\",\"Cranberry Lake Park, Oakland County, Michigan\",\"Village of Niobe, Township of Harmony, Chautauqua County, New York\",\"Town of Poland (near  Falconer), Chautauqua County, New York\",\"Hill Higher State Forest, Town of Harmony (near  Panama), Chautauqua County, New York\",\"Morton Arboretum, DuPage County, Illinois\",\"Lake Hodges, San Diego, California\",\"Mather Lake, Sacramento County, California\",\"Townsend, McIntosh, Georgia\",\"Haiwee Creek, Inyo County\",\"Ute Lake State Park \",\"Sasabe, Pima County, Arizona\",\"Moose Brook, Coos Co., New Hampshire\",\"Baton Rouge, East B. R. Parish, LA\",\"Key West, Government Road, Florida\",\"Maple Leaf, Seattle, King County, Washington\",\"Jackson, Teton County, Wyoming\",\"Eagle River Nature Center, Anchorage, Alaska\",\"Thornton Creek Ravine, Seattle, King County, Washington\",\"Jamaica Bay Wildlife Refuge, New York City\",\"Sweetwater Wetlands Preserve, Tucson, Pima County, Arizona\",\"Mormon Pass, Sheep Range, Clark County, Nevada\",\"Laguna Mnts, Sunrise Highway, mile 19 pullout, San Diego County, California\",\"Southwest Harbor, ME\",\"Eastbourne Apartments Inc (near  Bronxville), Westchester County, New York\",\"Arlington National Cemetery, Arlington County, Virginia\",\"Arivaca, Pima County, Arizona\",\"Putah Creek Riparian Area, Davis, Yolo Cty, California\",\"Plateau S of Paradox Valley, Montrose County, Colorado\",\"Cone Mtn BBS, Las Animas County, Colorado\",\"Bankhead National Forest, Flint Creek Rd., Lawrence County, Alabama\",\"Pine Creek Rd off Sunrise Hwy, Cleveland National Forest. San Diego Co, California\",\"Parker, La Paz County, Arizona\",\"Galt, Sacramento County, California\",\"Westgard Pass, White Mountains, Inyo, California\",\"Lee Martinez Park, Fort Collins, Larimer County, Colorado\",\"Bigelow Hollow State Park, Breakneck Pond area, Union, CT\",\"Pinnacles National Park, San Benito County, California\",\"Warm Springs Natural Area, Clark County, Nevada\",\"Needles, San Bernardino County, California\",\"Stony Creek Metropark, Macomb County, Michigan\",\"Milton Road, Napa County, California\",\"Oyster Creek Park, Sugar Land, Fort Bend County, Texas\",\"Upper Newport Bay Nature Preserve, Orange County, California\",\"Paradise Valley, Maricopa County, Arizona\",\"Green Valley, Pima County, Arizona\",\"South Fork Road, Portal, Arizona\",\"Two Buttes SWA, Baca Co., Colorado\",\"Secaucus, Hudson County, New Jersey\",\"Findlay Township (near  Imperial), Allegheny County, Pennsylvania\",\"Tallahassee, Leon County, Florida\",\"River Park Drive, Grayling, Crawford County, Michigan\",\"Texas (near  Houston), Harris County, Texas\",\"Arburetum, Lexington, Fayette County, Kentucky\",\"Togwotee Pass, E of Grand Teton NP, Wyoming\",\"Long Beach Island, New Jersey\",\"Near bridge in Portal, Cochise County, Arizona\",\"Onion Saddle, Chiricahua Mountains, Cochise County, Arizona\",\"Loveland, Larimer County, Colorado\",\"Huntingdon Valley, PA\",\"Madera Reserve, Green Valley, Pima County, Arizona\",\"Tanglewood Lane, Cincinnati, Ohio\",\"Hendersonville (near  Flat Rock), Henderson County, North Carolina\",\"Arrastre Creek at 2N02, San Bernardino Mountains, California\",\"Bear Valley Road, Sierra County, California\",\"Wood Duck Lake, West Sacramento, Yolo County, California\",\"Sand Creek Road, Colusa County, California\",\"Crow Valley Campground, Pawnee Grasslands, CO\",\"Los Alamos, Los Alamos County, New Mexico\",\"Stuart, Martin County, Florida\",\"Cattle Call Park, Brawley,  Imperial County, California\",\"Greenock Ave, North Plainfield, Somerset County, New Jersey\",\"Cherokee Creek, at the Little Snake River, Moffat Co., Colorado\",\"Michigan, Lake Erie Metropark\",\"Laguna Atascosa, TX\",\"LSU campus, Baton Rouge, EBR parish, Louisiana\",\"Cedar Point County Park, Long Island, New York\",\"East Moriches, New York, USA\",\"Hunter Mountain, Death Valley National Park, Inyo County\",\"Porcupine Creek, 6 km E of St. Marie, Valley County, Montana\",\"Cape Girardeau Township (near  Cape Girardeau), Cape Girardeau County, Missouri\",\"Grand Mesa National Forest Visitor Center, Delta County, Colorado\",\"Tubac, Santa Cruz County, Arizona\",\"66th Ave\\u002fTyler Street, Thermal, Riverside County, California\",\"Lake Bemidji State Park, Beltrami, Minnesota\",\"Engel Conservation Area, Waukesha County, Wisconsin\",\"Caroline (near  Brooktondale), Tompkins County, New York\",\"Bowie Nature Park, Fairview, Williamson County, Tennessee\",\"Tunica, Tunica County, Mississippi\",\"Oscawana, Croton, New York\",\"Benson, Cochise County, Arizona\",\"Butterbredt Canyon, Kern County, California\",\"Watts Flats WMA, Town of Harmony (near  Ashville), Chautauqua County, New York\",\"Bear Head Lake State Park, St. Louis, Minnesota\",\"San Joquin Wildlife Sanctuary, Irvine, Orange County, California\",\"North Shields Pond, Fort Collins, Larimer Cty, Colorado\",\"Fish Creek, near Hyder, Alaska\",\"Coppell, Dallas County, Texas\",\"Schenck Forest, Wake County, North Carolina\",\"Fay Lake Wilderness Park, Cocoa, Brevard County, Florida\",\"Harris Neck National Wildlife Refuge, Georgia\",\"Franklin Township, Somerset, New Jersey\",\"Fenton River near Lions Field, Mansfield, Tolland County, Connecticut\",\"Kern River Preserve, Weldon, CA\",\"Chapel Hill, Marshall County, Tennessee\",\"Nashville, Davidson County, Tennessee\",\"Sunset Park, Las Vegas, Nevada\",\"Heliograph Peak, Pinaleno Mtns, Graham County, Arizona\",\"Yampa River Botanic Park, Routt Co, Colorado\",\"Mt Pinos, Ventura County, California\",\"Logan, Cache County, Utah\",\"Chuck Ford Lakeside Park (near  Tucson), Pima County, Arizona\",\"Old La Veta Pass, Huerfano County, Colorado\",\"North Carolina (near  Durham), Durham County, North Carolina\",\"Decatur, Atlanta, Georgia\",\"Moffat County, Colorado\",\"Hovenweep Canyon, Montezuma County, Colorado\",\"Cave Creek Ranch, Portal, Arizona\",\"Davis, Yolo County, California\",\"Cobb Lake area, Norvell Township, Jackson County, Michigan\",\"Fort Lyon Marshes, Bent Co., Colorado\",\"Wyman Canyon, White Mountains, Inyo, California\",\"Old Mission Dam, San Diego River, San Diego County\",\"Hoboken, Hudson County, New Jersey\",\"Carman Valley, Sierra County, California\",\"Arlington, Snohomish County, Washington\",\"Seattle, King County, Washington\",\"Jacobson Park, Fayette County, Kentucky\",\"Miesville Ravine Park Reserve, Goodhue County, Minnesota\",\"Walker Pass, Kern, California\",\"Ponce Inlet, Volusia County, Florida\",\"Pine Island Conservation Area, Merritt Island, Florida\",\"Huron National Forest, near  Mio, Michigan\",\"Confluence Park, Delta, Delta County, Colorado\",\"Emeralda Marsh Conservation Area, Lake Co., Florida\",\"Anahuac, Chambers County, Texas\",\"Stagecoach Tr, Larimer County, Colorado\",\"Rahway, Union County, New Jersey\",\"Kitchen Creek Rd (north section) Cleveland National Forest, San Diego Co, California\",\"Santa Maria River, La Paz County, Arizona\",\"Powderhorn Park, Minneapolis, Hennepin, Minnesota\",\"Lower Moreland (near  Huntingdon Valley), Montgomery, Pennsylvania\",\"Saint Augustine Beach, St. Johns County, Florida\",\"Driver's Flat Road, Placer County, California\",\"Elkins Park, PA\",\"Bankhead National Forest, Brushy Creek, Lawrence County, Alabama\",\"Brier, WA\",\"Carrizo Canyon, Baca County, Colorado\",\"Sequoyah NWR, OK\",\"Sweetwater River, SDNWR, San Diego County\",\"Los Altos, Santa Clara County, California\",\"Skidaway Island, Chatham County, GA USA\",\"Central Park, Manhattan, New York City\",\"Portal, Arizona\",\"Elk River, Franklin County, Tennessee\",\"Cottonwood Canyon, Las Animas County, Colorado\",\"Tamarack Ranch SWA, E Sector, Logan County, Colorado\",\"Horse Canyon, Las Animas Co., Colorado\",\"Savannah, Chatham, Georgia\",\"Union Bay Campground, Porcupine Mountains SP, Ontonagon, Michigan\",\"Mt Mansfield, Vermont\",\"Montana de Oro State Park, Los Osos, San Luis Obispo County, California\",\"Cape Cod (near  Barnstable), Barnstable County, Massachusetts\",\"Jackson Lake State Park, Colorado\",\"Yuba Pass, California\",\"River Lakes Conservation Area near Viera, Brevard Co, Florida\",\"Laguna Meadows Trail, Big Bend National Park, Brewster Co., Texas\",\"Pinnacles National Park, San Benito, California\",\"Olympia, Thurston County, Washington\",\"Monument Rd and nearby trails, Tijuana River Valley, San Diego, California\",\"Elsen's Hill, DuPage County, Illinois\",\"Picture Canyon, Baca County, Colorado\",\"Telescope Peak, Panamint Mtns., Death Valley N.P., Inyo, California\",\"Andrew Molera Park (near  Big Sur), Monterey County, California\",\"Proctor Valley Rd, San Diego County, California\",\"Hawk Rise Sanctuary (near  Linden), Union County, New Jersey\",\"Oxford, Lafayette County, Mississippi\",\"Stateline Road, Rodeo, New Mexico\",\"Point Loma, San Diego, California\",\"Nome, Nome, Alaska\",\"Foothills Road, Cochise County, Arizona\",\"FR 42, Upper Cave Creek Canyon, Cochise County, Arizona\",\"Bill Williams River NWR, Arizona\",\"Oso Flaco Lake, Nipomo, California\",\"Knoxville, Tennessee\",\"Sewanee, Franklin County, Tennessee\",\"San Simon Cienega, Cochise County, Arizona\",\"Hendrix Habitat - Fairview, Williamson County, Tennessee\",\"San Bernardino National Wildlife Refuge, Cochise County, Arizona\"],\"type\":\"bar\"}],                        {\"template\":{\"data\":{\"histogram2dcontour\":[{\"type\":\"histogram2dcontour\",\"colorbar\":{\"outlinewidth\":0,\"ticks\":\"\"},\"colorscale\":[[0.0,\"#0d0887\"],[0.1111111111111111,\"#46039f\"],[0.2222222222222222,\"#7201a8\"],[0.3333333333333333,\"#9c179e\"],[0.4444444444444444,\"#bd3786\"],[0.5555555555555556,\"#d8576b\"],[0.6666666666666666,\"#ed7953\"],[0.7777777777777778,\"#fb9f3a\"],[0.8888888888888888,\"#fdca26\"],[1.0,\"#f0f921\"]]}],\"choropleth\":[{\"type\":\"choropleth\",\"colorbar\":{\"outlinewidth\":0,\"ticks\":\"\"}}],\"histogram2d\":[{\"type\":\"histogram2d\",\"colorbar\":{\"outlinewidth\":0,\"ticks\":\"\"},\"colorscale\":[[0.0,\"#0d0887\"],[0.1111111111111111,\"#46039f\"],[0.2222222222222222,\"#7201a8\"],[0.3333333333333333,\"#9c179e\"],[0.4444444444444444,\"#bd3786\"],[0.5555555555555556,\"#d8576b\"],[0.6666666666666666,\"#ed7953\"],[0.7777777777777778,\"#fb9f3a\"],[0.8888888888888888,\"#fdca26\"],[1.0,\"#f0f921\"]]}],\"heatmap\":[{\"type\":\"heatmap\",\"colorbar\":{\"outlinewidth\":0,\"ticks\":\"\"},\"colorscale\":[[0.0,\"#0d0887\"],[0.1111111111111111,\"#46039f\"],[0.2222222222222222,\"#7201a8\"],[0.3333333333333333,\"#9c179e\"],[0.4444444444444444,\"#bd3786\"],[0.5555555555555556,\"#d8576b\"],[0.6666666666666666,\"#ed7953\"],[0.7777777777777778,\"#fb9f3a\"],[0.8888888888888888,\"#fdca26\"],[1.0,\"#f0f921\"]]}],\"heatmapgl\":[{\"type\":\"heatmapgl\",\"colorbar\":{\"outlinewidth\":0,\"ticks\":\"\"},\"colorscale\":[[0.0,\"#0d0887\"],[0.1111111111111111,\"#46039f\"],[0.2222222222222222,\"#7201a8\"],[0.3333333333333333,\"#9c179e\"],[0.4444444444444444,\"#bd3786\"],[0.5555555555555556,\"#d8576b\"],[0.6666666666666666,\"#ed7953\"],[0.7777777777777778,\"#fb9f3a\"],[0.8888888888888888,\"#fdca26\"],[1.0,\"#f0f921\"]]}],\"contourcarpet\":[{\"type\":\"contourcarpet\",\"colorbar\":{\"outlinewidth\":0,\"ticks\":\"\"}}],\"contour\":[{\"type\":\"contour\",\"colorbar\":{\"outlinewidth\":0,\"ticks\":\"\"},\"colorscale\":[[0.0,\"#0d0887\"],[0.1111111111111111,\"#46039f\"],[0.2222222222222222,\"#7201a8\"],[0.3333333333333333,\"#9c179e\"],[0.4444444444444444,\"#bd3786\"],[0.5555555555555556,\"#d8576b\"],[0.6666666666666666,\"#ed7953\"],[0.7777777777777778,\"#fb9f3a\"],[0.8888888888888888,\"#fdca26\"],[1.0,\"#f0f921\"]]}],\"surface\":[{\"type\":\"surface\",\"colorbar\":{\"outlinewidth\":0,\"ticks\":\"\"},\"colorscale\":[[0.0,\"#0d0887\"],[0.1111111111111111,\"#46039f\"],[0.2222222222222222,\"#7201a8\"],[0.3333333333333333,\"#9c179e\"],[0.4444444444444444,\"#bd3786\"],[0.5555555555555556,\"#d8576b\"],[0.6666666666666666,\"#ed7953\"],[0.7777777777777778,\"#fb9f3a\"],[0.8888888888888888,\"#fdca26\"],[1.0,\"#f0f921\"]]}],\"mesh3d\":[{\"type\":\"mesh3d\",\"colorbar\":{\"outlinewidth\":0,\"ticks\":\"\"}}],\"scatter\":[{\"fillpattern\":{\"fillmode\":\"overlay\",\"size\":10,\"solidity\":0.2},\"type\":\"scatter\"}],\"parcoords\":[{\"type\":\"parcoords\",\"line\":{\"colorbar\":{\"outlinewidth\":0,\"ticks\":\"\"}}}],\"scatterpolargl\":[{\"type\":\"scatterpolargl\",\"marker\":{\"colorbar\":{\"outlinewidth\":0,\"ticks\":\"\"}}}],\"bar\":[{\"error_x\":{\"color\":\"#2a3f5f\"},\"error_y\":{\"color\":\"#2a3f5f\"},\"marker\":{\"line\":{\"color\":\"#E5ECF6\",\"width\":0.5},\"pattern\":{\"fillmode\":\"overlay\",\"size\":10,\"solidity\":0.2}},\"type\":\"bar\"}],\"scattergeo\":[{\"type\":\"scattergeo\",\"marker\":{\"colorbar\":{\"outlinewidth\":0,\"ticks\":\"\"}}}],\"scatterpolar\":[{\"type\":\"scatterpolar\",\"marker\":{\"colorbar\":{\"outlinewidth\":0,\"ticks\":\"\"}}}],\"histogram\":[{\"marker\":{\"pattern\":{\"fillmode\":\"overlay\",\"size\":10,\"solidity\":0.2}},\"type\":\"histogram\"}],\"scattergl\":[{\"type\":\"scattergl\",\"marker\":{\"colorbar\":{\"outlinewidth\":0,\"ticks\":\"\"}}}],\"scatter3d\":[{\"type\":\"scatter3d\",\"line\":{\"colorbar\":{\"outlinewidth\":0,\"ticks\":\"\"}},\"marker\":{\"colorbar\":{\"outlinewidth\":0,\"ticks\":\"\"}}}],\"scattermapbox\":[{\"type\":\"scattermapbox\",\"marker\":{\"colorbar\":{\"outlinewidth\":0,\"ticks\":\"\"}}}],\"scatterternary\":[{\"type\":\"scatterternary\",\"marker\":{\"colorbar\":{\"outlinewidth\":0,\"ticks\":\"\"}}}],\"scattercarpet\":[{\"type\":\"scattercarpet\",\"marker\":{\"colorbar\":{\"outlinewidth\":0,\"ticks\":\"\"}}}],\"carpet\":[{\"aaxis\":{\"endlinecolor\":\"#2a3f5f\",\"gridcolor\":\"white\",\"linecolor\":\"white\",\"minorgridcolor\":\"white\",\"startlinecolor\":\"#2a3f5f\"},\"baxis\":{\"endlinecolor\":\"#2a3f5f\",\"gridcolor\":\"white\",\"linecolor\":\"white\",\"minorgridcolor\":\"white\",\"startlinecolor\":\"#2a3f5f\"},\"type\":\"carpet\"}],\"table\":[{\"cells\":{\"fill\":{\"color\":\"#EBF0F8\"},\"line\":{\"color\":\"white\"}},\"header\":{\"fill\":{\"color\":\"#C8D4E3\"},\"line\":{\"color\":\"white\"}},\"type\":\"table\"}],\"barpolar\":[{\"marker\":{\"line\":{\"color\":\"#E5ECF6\",\"width\":0.5},\"pattern\":{\"fillmode\":\"overlay\",\"size\":10,\"solidity\":0.2}},\"type\":\"barpolar\"}],\"pie\":[{\"automargin\":true,\"type\":\"pie\"}]},\"layout\":{\"autotypenumbers\":\"strict\",\"colorway\":[\"#636efa\",\"#EF553B\",\"#00cc96\",\"#ab63fa\",\"#FFA15A\",\"#19d3f3\",\"#FF6692\",\"#B6E880\",\"#FF97FF\",\"#FECB52\"],\"font\":{\"color\":\"#2a3f5f\"},\"hovermode\":\"closest\",\"hoverlabel\":{\"align\":\"left\"},\"paper_bgcolor\":\"white\",\"plot_bgcolor\":\"#E5ECF6\",\"polar\":{\"bgcolor\":\"#E5ECF6\",\"angularaxis\":{\"gridcolor\":\"white\",\"linecolor\":\"white\",\"ticks\":\"\"},\"radialaxis\":{\"gridcolor\":\"white\",\"linecolor\":\"white\",\"ticks\":\"\"}},\"ternary\":{\"bgcolor\":\"#E5ECF6\",\"aaxis\":{\"gridcolor\":\"white\",\"linecolor\":\"white\",\"ticks\":\"\"},\"baxis\":{\"gridcolor\":\"white\",\"linecolor\":\"white\",\"ticks\":\"\"},\"caxis\":{\"gridcolor\":\"white\",\"linecolor\":\"white\",\"ticks\":\"\"}},\"coloraxis\":{\"colorbar\":{\"outlinewidth\":0,\"ticks\":\"\"}},\"colorscale\":{\"sequential\":[[0.0,\"#0d0887\"],[0.1111111111111111,\"#46039f\"],[0.2222222222222222,\"#7201a8\"],[0.3333333333333333,\"#9c179e\"],[0.4444444444444444,\"#bd3786\"],[0.5555555555555556,\"#d8576b\"],[0.6666666666666666,\"#ed7953\"],[0.7777777777777778,\"#fb9f3a\"],[0.8888888888888888,\"#fdca26\"],[1.0,\"#f0f921\"]],\"sequentialminus\":[[0.0,\"#0d0887\"],[0.1111111111111111,\"#46039f\"],[0.2222222222222222,\"#7201a8\"],[0.3333333333333333,\"#9c179e\"],[0.4444444444444444,\"#bd3786\"],[0.5555555555555556,\"#d8576b\"],[0.6666666666666666,\"#ed7953\"],[0.7777777777777778,\"#fb9f3a\"],[0.8888888888888888,\"#fdca26\"],[1.0,\"#f0f921\"]],\"diverging\":[[0,\"#8e0152\"],[0.1,\"#c51b7d\"],[0.2,\"#de77ae\"],[0.3,\"#f1b6da\"],[0.4,\"#fde0ef\"],[0.5,\"#f7f7f7\"],[0.6,\"#e6f5d0\"],[0.7,\"#b8e186\"],[0.8,\"#7fbc41\"],[0.9,\"#4d9221\"],[1,\"#276419\"]]},\"xaxis\":{\"gridcolor\":\"white\",\"linecolor\":\"white\",\"ticks\":\"\",\"title\":{\"standoff\":15},\"zerolinecolor\":\"white\",\"automargin\":true,\"zerolinewidth\":2},\"yaxis\":{\"gridcolor\":\"white\",\"linecolor\":\"white\",\"ticks\":\"\",\"title\":{\"standoff\":15},\"zerolinecolor\":\"white\",\"automargin\":true,\"zerolinewidth\":2},\"scene\":{\"xaxis\":{\"backgroundcolor\":\"#E5ECF6\",\"gridcolor\":\"white\",\"linecolor\":\"white\",\"showbackground\":true,\"ticks\":\"\",\"zerolinecolor\":\"white\",\"gridwidth\":2},\"yaxis\":{\"backgroundcolor\":\"#E5ECF6\",\"gridcolor\":\"white\",\"linecolor\":\"white\",\"showbackground\":true,\"ticks\":\"\",\"zerolinecolor\":\"white\",\"gridwidth\":2},\"zaxis\":{\"backgroundcolor\":\"#E5ECF6\",\"gridcolor\":\"white\",\"linecolor\":\"white\",\"showbackground\":true,\"ticks\":\"\",\"zerolinecolor\":\"white\",\"gridwidth\":2}},\"shapedefaults\":{\"line\":{\"color\":\"#2a3f5f\"}},\"annotationdefaults\":{\"arrowcolor\":\"#2a3f5f\",\"arrowhead\":0,\"arrowwidth\":1},\"geo\":{\"bgcolor\":\"white\",\"landcolor\":\"#E5ECF6\",\"subunitcolor\":\"white\",\"showland\":true,\"showlakes\":true,\"lakecolor\":\"white\"},\"title\":{\"x\":0.05},\"mapbox\":{\"style\":\"light\"}}},\"title\":{\"text\":\"Location Distribution\"},\"xaxis\":{\"title\":{\"text\":\"Count\"}},\"yaxis\":{\"title\":{\"text\":\"Location\"}}},                        {\"responsive\": true}                    ).then(function(){\n",
              "                            \n",
              "var gd = document.getElementById('5dcc3c60-8c29-44a3-a8f8-92bcee353b26');\n",
              "var x = new MutationObserver(function (mutations, observer) {{\n",
              "        var display = window.getComputedStyle(gd).display;\n",
              "        if (!display || display === 'none') {{\n",
              "            console.log([gd, 'removed!']);\n",
              "            Plotly.purge(gd);\n",
              "            observer.disconnect();\n",
              "        }}\n",
              "}});\n",
              "\n",
              "// Listen for the removal of the full notebook cells\n",
              "var notebookContainer = gd.closest('#notebook-container');\n",
              "if (notebookContainer) {{\n",
              "    x.observe(notebookContainer, {childList: true});\n",
              "}}\n",
              "\n",
              "// Listen for the clearing of the current output cell\n",
              "var outputEl = gd.closest('.output');\n",
              "if (outputEl) {{\n",
              "    x.observe(outputEl, {childList: true});\n",
              "}}\n",
              "\n",
              "                        })                };                            </script>        </div>\n",
              "</body>\n",
              "</html>"
            ]
          },
          "metadata": {}
        }
      ]
    },
    {
      "cell_type": "code",
      "source": [
        "# List for storing the filepaths and labels\n",
        "file_paths = []\n",
        "labels = []\n",
        "audio_dir = '/content/drive/MyDrive/archive/wavfiles/'\n",
        "\n",
        "for filename, species in df[['filename', 'species']].itertuples(index=False):\n",
        "    file_path = Path(audio_dir) / filename\n",
        "    if file_path.exists():\n",
        "        file_paths.append(str(file_path))\n",
        "        labels.append(species)\n",
        "    else:\n",
        "        print(f\"File not found: {file_path}\")\n",
        "\n",
        "#first five elements of each list\n",
        "print(\"First five file paths:\", file_paths[:5])\n",
        "print(\"First five labels:\", labels[:5])\n"
      ],
      "metadata": {
        "colab": {
          "base_uri": "https://localhost:8080/"
        },
        "id": "H6ZVS5U4oD4u",
        "outputId": "298d8cd8-2983-4fad-ebc7-dffc7369911e"
      },
      "execution_count": 16,
      "outputs": [
        {
          "output_type": "stream",
          "name": "stdout",
          "text": [
            "First five file paths: ['/content/drive/MyDrive/archive/wavfiles/557838-0.wav', '/content/drive/MyDrive/archive/wavfiles/557838-1.wav', '/content/drive/MyDrive/archive/wavfiles/557838-4.wav', '/content/drive/MyDrive/archive/wavfiles/557838-5.wav', '/content/drive/MyDrive/archive/wavfiles/557838-6.wav']\n",
            "First five labels: ['bewickii', 'bewickii', 'bewickii', 'bewickii', 'bewickii']\n"
          ]
        }
      ]
    },
    {
      "cell_type": "code",
      "source": [
        "def process_file(file_path, n_mels=128, hop_length=512, n_fft=2048):\n",
        "    try:\n",
        "        # Load audio file\n",
        "        y, sr = librosa.load(file_path)\n",
        "\n",
        "        # Compute Mel spectrogram\n",
        "        mel_spectrogram = librosa.feature.melspectrogram(y=y, sr=sr, n_mels=n_mels, hop_length=hop_length, n_fft=n_fft)\n",
        "\n",
        "        # Convert to log scale\n",
        "        log_mel_spectrogram = librosa.power_to_db(mel_spectrogram, ref=np.max)\n",
        "\n",
        "        return log_mel_spectrogram.flatten()\n",
        "    except Exception as e:\n",
        "        print(f\"Error processing {file_path}: {e}\")\n",
        "        return None\n",
        "\n",
        "def extract_log_mel_spectrogram_features(file_paths, n_mels=128, hop_length=512, n_fft=2048):\n",
        "    # Use parallel processing to speed up feature extraction\n",
        "    with ProcessPoolExecutor() as executor:\n",
        "        results = list(executor.map(process_file, file_paths, [n_mels] * len(file_paths), [hop_length] * len(file_paths), [n_fft] * len(file_paths)))\n",
        "\n",
        "    # Filter out None results (errors during processing)\n",
        "    log_mel_spectrogram_features = [result for result in results if result is not None]\n",
        "\n",
        "    return np.array(log_mel_spectrogram_features)\n",
        "\n",
        "\n",
        "X = extract_log_mel_spectrogram_features(file_paths, n_mels=50, hop_length=512, n_fft=2048)\n",
        "\n"
      ],
      "metadata": {
        "id": "HlMe1GW9BjoS"
      },
      "execution_count": 18,
      "outputs": []
    },
    {
      "cell_type": "code",
      "source": [
        "# Check if labels are unique\n",
        "if len(set(labels)) != len(labels):\n",
        "    print(\"Warning: Duplicate labels detected!\")\n",
        "\n",
        "# Creating label dictionary using dictionary comprehension\n",
        "label_dict = {label: index for index, label in enumerate(sorted(set(labels)))}\n",
        "\n",
        "# Convert labels to numeric using the label dictionary\n",
        "y = np.array([label_dict[label] for label in labels])\n",
        "\n",
        "# Printing the first five elements of y\n",
        "print(\"First five numeric labels:\", y[:5])\n"
      ],
      "metadata": {
        "colab": {
          "base_uri": "https://localhost:8080/"
        },
        "id": "fYkFLn8az9qn",
        "outputId": "7ce5b326-a3d1-4e7d-f60f-d3ae4604b57a"
      },
      "execution_count": 19,
      "outputs": [
        {
          "output_type": "stream",
          "name": "stdout",
          "text": [
            "Warning: Duplicate labels detected!\n",
            "First five numeric labels: [0 0 0 0 0]\n"
          ]
        }
      ]
    },
    {
      "cell_type": "code",
      "source": [
        "# Encode labels\n",
        "label_encoder = LabelEncoder()\n",
        "y_encoded = label_encoder.fit_transform(labels)\n"
      ],
      "metadata": {
        "id": "L5b0nT9l2ry4"
      },
      "execution_count": 20,
      "outputs": []
    },
    {
      "cell_type": "code",
      "source": [
        "X_train, X_test, y_train, y_test = train_test_split(X, y, test_size=0.2, random_state=42)\n"
      ],
      "metadata": {
        "id": "QQU6WNQOp_Qo"
      },
      "execution_count": 21,
      "outputs": []
    },
    {
      "cell_type": "code",
      "source": [
        "# Initialize XGBoost classifier\n",
        "model = XGBClassifier()\n",
        "\n",
        "model.fit(X_train, y_train)\n",
        "\n",
        "# Predict on the test set\n",
        "y_pred = model.predict(X_test)"
      ],
      "metadata": {
        "id": "IIFNL3783G9_"
      },
      "execution_count": 22,
      "outputs": []
    },
    {
      "cell_type": "code",
      "source": [
        "# Evaluate accuracy\n",
        "accuracy = accuracy_score(y_test, y_pred)\n",
        "print(\"Accuracy:\", accuracy)"
      ],
      "metadata": {
        "colab": {
          "base_uri": "https://localhost:8080/"
        },
        "id": "TsU45zv93VnW",
        "outputId": "682ede46-2c3e-4e68-e34f-43a7e2b27f63"
      },
      "execution_count": 23,
      "outputs": [
        {
          "output_type": "stream",
          "name": "stdout",
          "text": [
            "Accuracy: 0.7944700460829494\n"
          ]
        }
      ]
    },
    {
      "cell_type": "code",
      "source": [
        "#confusion Matrix\n",
        "c = confusion_matrix(y_test, y_pred)\n",
        "print(c)"
      ],
      "metadata": {
        "colab": {
          "base_uri": "https://localhost:8080/"
        },
        "id": "NFxebO5qyYua",
        "outputId": "772ee819-aab6-423e-9644-3483093e1528"
      },
      "execution_count": 25,
      "outputs": [
        {
          "output_type": "stream",
          "name": "stdout",
          "text": [
            "[[141   6  42   3   1]\n",
            " [  4 164  20   6  10]\n",
            " [ 19   7 204   5   8]\n",
            " [  0   2  11 171  23]\n",
            " [  4  20  12  20 182]]\n"
          ]
        }
      ]
    },
    {
      "cell_type": "code",
      "source": [
        "plt.figure(figsize=(10, 7))\n",
        "sns.heatmap(cm, annot=True, fmt='g', cmap='Blues', xticklabels=label_encoder.classes_, yticklabels=label_encoder.classes_)\n",
        "plt.xlabel('Predicted labels')\n",
        "plt.ylabel('True labels')\n",
        "plt.title('Confusion Matrix')\n",
        "plt.show()"
      ],
      "metadata": {
        "colab": {
          "base_uri": "https://localhost:8080/",
          "height": 641
        },
        "id": "4COCoB9s4gIZ",
        "outputId": "7a06039d-7f99-466e-e878-a21a1f7326ac"
      },
      "execution_count": 26,
      "outputs": [
        {
          "output_type": "display_data",
          "data": {
            "text/plain": [
              "<Figure size 1000x700 with 2 Axes>"
            ],
            "image/png": "[encoded data removed]"
          },
          "metadata": {}
        }
      ]
    },
    {
      "cell_type": "code",
      "source": [
        "print(classification_report(y_test, y_pred))"
      ],
      "metadata": {
        "colab": {
          "base_uri": "https://localhost:8080/"
        },
        "id": "lbEgocFI3mhH",
        "outputId": "3d78323f-c1d1-411a-d336-309d9ebf65d7"
      },
      "execution_count": 30,
      "outputs": [
        {
          "output_type": "stream",
          "name": "stdout",
          "text": [
            "              precision    recall  f1-score   support\n",
            "\n",
            "           0       0.84      0.73      0.78       193\n",
            "           1       0.82      0.80      0.81       204\n",
            "           2       0.71      0.84      0.77       243\n",
            "           3       0.83      0.83      0.83       207\n",
            "           4       0.81      0.76      0.79       238\n",
            "\n",
            "    accuracy                           0.79      1085\n",
            "   macro avg       0.80      0.79      0.80      1085\n",
            "weighted avg       0.80      0.79      0.79      1085\n",
            "\n"
          ]
        }
      ]
    }
  ]
}