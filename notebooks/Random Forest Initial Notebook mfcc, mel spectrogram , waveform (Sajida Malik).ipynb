{
 "cells": [
  {
   "cell_type": "code",
   "execution_count": 15,
   "id": "90005189",
   "metadata": {},
   "outputs": [],
   "source": [
    "#Importing necessary libraries\n",
    "import pandas as pd\n",
    "import numpy as np \n",
    "from matplotlib import pyplot as plt\n",
    "import seaborn as sns\n",
    "import tensorflow as tf\n",
    "from sklearn.model_selection import train_test_split\n",
    "import librosa\n",
    "import os\n",
    "import librosa.display\n",
    "from skimage.io import imread\n",
    "from sklearn.ensemble import RandomForestClassifier\n",
    "from sklearn.preprocessing import LabelEncoder\n",
    "from sklearn.metrics import classification_report, accuracy_score"
   ]
  },
  {
   "cell_type": "code",
   "execution_count": 11,
   "id": "af5aa217",
   "metadata": {},
   "outputs": [
    {
     "name": "stdout",
     "output_type": "stream",
     "text": [
      "       id       genus   species subspecies           name  \\\n",
      "0  557838  Thryomanes  bewickii        NaN  Bewick's Wren   \n",
      "1  557838  Thryomanes  bewickii        NaN  Bewick's Wren   \n",
      "2  557838  Thryomanes  bewickii        NaN  Bewick's Wren   \n",
      "3  557838  Thryomanes  bewickii        NaN  Bewick's Wren   \n",
      "4  557838  Thryomanes  bewickii        NaN  Bewick's Wren   \n",
      "\n",
      "                recordist        country  \\\n",
      "0  Whitney Neufeld-Kaiser  United States   \n",
      "1  Whitney Neufeld-Kaiser  United States   \n",
      "2  Whitney Neufeld-Kaiser  United States   \n",
      "3  Whitney Neufeld-Kaiser  United States   \n",
      "4  Whitney Neufeld-Kaiser  United States   \n",
      "\n",
      "                                  location  latitude  longitude altitude  \\\n",
      "0  Arlington, Snohomish County, Washington   48.0708  -122.1006      100   \n",
      "1  Arlington, Snohomish County, Washington   48.0708  -122.1006      100   \n",
      "2  Arlington, Snohomish County, Washington   48.0708  -122.1006      100   \n",
      "3  Arlington, Snohomish County, Washington   48.0708  -122.1006      100   \n",
      "4  Arlington, Snohomish County, Washington   48.0708  -122.1006      100   \n",
      "\n",
      "                   sound_type                   source_url  \\\n",
      "0  adult, sex uncertain, song  //www.xeno-canto.org/557838   \n",
      "1  adult, sex uncertain, song  //www.xeno-canto.org/557838   \n",
      "2  adult, sex uncertain, song  //www.xeno-canto.org/557838   \n",
      "3  adult, sex uncertain, song  //www.xeno-canto.org/557838   \n",
      "4  adult, sex uncertain, song  //www.xeno-canto.org/557838   \n",
      "\n",
      "                                        license   time        date  \\\n",
      "0  //creativecommons.org/licenses/by-nc-sa/4.0/  11:51  2020-03-14   \n",
      "1  //creativecommons.org/licenses/by-nc-sa/4.0/  11:51  2020-03-14   \n",
      "2  //creativecommons.org/licenses/by-nc-sa/4.0/  11:51  2020-03-14   \n",
      "3  //creativecommons.org/licenses/by-nc-sa/4.0/  11:51  2020-03-14   \n",
      "4  //creativecommons.org/licenses/by-nc-sa/4.0/  11:51  2020-03-14   \n",
      "\n",
      "                                             remarks      filename  \n",
      "0  Recorded with Voice Record Pro on iPhone7, nor...  557838-0.wav  \n",
      "1  Recorded with Voice Record Pro on iPhone7, nor...  557838-1.wav  \n",
      "2  Recorded with Voice Record Pro on iPhone7, nor...  557838-4.wav  \n",
      "3  Recorded with Voice Record Pro on iPhone7, nor...  557838-5.wav  \n",
      "4  Recorded with Voice Record Pro on iPhone7, nor...  557838-6.wav  \n"
     ]
    }
   ],
   "source": [
    "import pandas as pd\n",
    "\n",
    "# Load the CSV file\n",
    "metadata_path = \"C:/Users/19147/Downloads/archive (12)/bird_songs_metadata.csv\"\n",
    "df = pd.read_csv(metadata_path)\n",
    "\n",
    "# Display the first few rows of the dataframe to understand its structure\n",
    "print(df.head())\n"
   ]
  },
  {
   "cell_type": "code",
   "execution_count": 12,
   "id": "2122e6ce",
   "metadata": {},
   "outputs": [],
   "source": [
    "\n",
    "def load_bird_sounds_from_csv(metadata_path, audio_files_path):\n",
    "    df = pd.read_csv(metadata_path)\n",
    "    bird_sounds = []\n",
    "    labels = []\n",
    "    sr = None  # Sampling rate will be set based on the first loaded file\n",
    "\n",
    "    for _, row in df.iterrows():\n",
    "        file_path = os.path.join(audio_files_path, row['filename'])\n",
    "        if os.path.exists(file_path):\n",
    "            sound, sr = librosa.load(file_path, sr=None)\n",
    "            bird_sounds.append(sound)\n",
    "            # Creating a label combining genus and species for more specificity\n",
    "            labels.append(f\"{row['genus']} {row['species']}\")\n",
    "        else:\n",
    "            print(f\"File not found: {file_path}\")\n",
    "\n",
    "    return bird_sounds, labels, sr\n",
    "\n",
    "# Update these paths according to your setup\n",
    "metadata_path = \"C:/Users/19147/Downloads/archive (12)/bird_songs_metadata.csv\"\n",
    "audio_files_path =  \"C:/Users/19147/Downloads/archive (12)/wavfiles\"\n",
    "\n",
    "bird_sounds, labels, sampling_rate = load_bird_sounds_from_csv(metadata_path, audio_files_path)\n"
   ]
  },
  {
   "cell_type": "code",
   "execution_count": 14,
   "id": "54f4b8f9",
   "metadata": {},
   "outputs": [],
   "source": [
    "\n",
    "\n",
    "# Assuming a fixed length for all clips for simplicity\n",
    "fixed_length = 5  # seconds\n",
    "sr = 22050  # Default sampling rate from librosa\n",
    "audio_length = fixed_length * sr\n",
    "\n",
    "def process_audio_clips(bird_sounds, sr):\n",
    "    processed_audio = []\n",
    "    for sound in bird_sounds:\n",
    "        if len(sound) > audio_length:\n",
    "            sound = sound[:audio_length]\n",
    "        else:\n",
    "            padding = audio_length - len(sound)\n",
    "            sound = np.pad(sound, (0, padding), 'constant')\n",
    "        processed_audio.append(sound)\n",
    "    return processed_audio\n",
    "\n",
    "def extract_features(bird_sounds, sr):\n",
    "    mfcc_features = []\n",
    "    for sound in bird_sounds:\n",
    "        mfcc = librosa.feature.mfcc(y=sound, sr=sr, n_mfcc=13)\n",
    "        mfcc_scaled = np.mean(mfcc.T, axis=0)\n",
    "        mfcc_features.append(mfcc_scaled)\n",
    "    return np.array(mfcc_features)\n",
    "\n",
    "# Process and extract features\n",
    "processed_audio = process_audio_clips(bird_sounds, sr)\n",
    "features = extract_features(processed_audio, sr)\n",
    "\n",
    "# Encode labels\n",
    "label_encoder = LabelEncoder()\n",
    "y_encoded = label_encoder.fit_transform(labels)\n",
    "\n",
    "# Split dataset\n",
    "X_train, X_test, y_train, y_test = train_test_split(features, y_encoded, test_size=0.3, random_state=42)\n"
   ]
  },
  {
   "cell_type": "code",
   "execution_count": 16,
   "id": "4feaa692",
   "metadata": {},
   "outputs": [
    {
     "name": "stdout",
     "output_type": "stream",
     "text": [
      "Accuracy: 0.876459741856177\n",
      "\n",
      "                       precision    recall  f1-score   support\n",
      "\n",
      "Cardinalis cardinalis       0.92      0.91      0.91       311\n",
      "    Melospiza melodia       0.82      0.90      0.86       372\n",
      "    Mimus polyglottos       0.90      0.82      0.86       348\n",
      "  Thryomanes bewickii       0.88      0.84      0.86       298\n",
      "   Turdus migratorius       0.88      0.93      0.90       298\n",
      "\n",
      "             accuracy                           0.88      1627\n",
      "            macro avg       0.88      0.88      0.88      1627\n",
      "         weighted avg       0.88      0.88      0.88      1627\n",
      "\n"
     ]
    }
   ],
   "source": [
    "# Initialize the model\n",
    "clf = RandomForestClassifier(n_estimators=100, random_state=42)\n",
    "\n",
    "# Train the model\n",
    "clf.fit(X_train, y_train)\n",
    "\n",
    "# Predict on the test set\n",
    "y_pred = clf.predict(X_test)\n",
    "\n",
    "# Evaluate the model\n",
    "print(f\"Accuracy: {accuracy_score(y_test, y_pred)}\\n\")\n",
    "print(classification_report(y_test, y_pred, target_names=label_encoder.classes_))\n"
   ]
  },
  {
   "cell_type": "code",
   "execution_count": 17,
   "id": "a39877bf",
   "metadata": {},
   "outputs": [],
   "source": [
    "def extract_mel_spectrogram_features(audio, sr, n_fft=2048, hop_length=512, n_mels=128):\n",
    "    # Calculate Mel spectrogram\n",
    "    S = librosa.feature.melspectrogram(y=audio, sr=sr, n_fft=n_fft, hop_length=hop_length, n_mels=n_mels)\n",
    "    S_DB = librosa.power_to_db(S, ref=np.max)\n",
    "    \n",
    "    # Extract statistical features from the Mel spectrogram\n",
    "    features = np.array([\n",
    "        np.mean(S_DB),\n",
    "        np.std(S_DB),\n",
    "        np.median(S_DB),\n",
    "        np.min(S_DB),\n",
    "        np.max(S_DB)\n",
    "    ])\n",
    "    return features\n",
    "\n",
    "mel_features = extract_mel_spectrogram_features(bird_sounds[0], sampling_rate)"
   ]
  },
  {
   "cell_type": "code",
   "execution_count": 18,
   "id": "d79b51f4",
   "metadata": {},
   "outputs": [],
   "source": [
    "def extract_waveform_features(audio):\n",
    "    # Calculate simple features from the waveform\n",
    "    rms = np.mean(librosa.feature.rms(y=audio))\n",
    "    zcr = np.mean(librosa.feature.zero_crossing_rate(y=audio))\n",
    "    features = np.array([rms, zcr])\n",
    "    return features\n",
    "\n",
    "\n",
    "waveform_features = extract_waveform_features(bird_sounds[0])\n"
   ]
  },
  {
   "cell_type": "code",
   "execution_count": 19,
   "id": "da82e3c9",
   "metadata": {},
   "outputs": [],
   "source": [
    "\n",
    "all_features = []\n",
    "for sound in bird_sounds:\n",
    "    mel_features = extract_mel_spectrogram_features(sound, sampling_rate)\n",
    "    waveform_features = extract_waveform_features(sound)\n",
    "    combined_features = np.concatenate((mel_features, waveform_features))\n",
    "    all_features.append(combined_features)\n",
    "\n",
    "all_features = np.array(all_features)\n"
   ]
  },
  {
   "cell_type": "code",
   "execution_count": 20,
   "id": "6ebbf36c",
   "metadata": {},
   "outputs": [
    {
     "name": "stdout",
     "output_type": "stream",
     "text": [
      "Accuracy: 0.5802089735709896\n",
      "                       precision    recall  f1-score   support\n",
      "\n",
      "Cardinalis cardinalis       0.52      0.61      0.56       311\n",
      "    Melospiza melodia       0.56      0.56      0.56       372\n",
      "    Mimus polyglottos       0.64      0.63      0.64       348\n",
      "  Thryomanes bewickii       0.66      0.47      0.55       298\n",
      "   Turdus migratorius       0.56      0.61      0.58       298\n",
      "\n",
      "             accuracy                           0.58      1627\n",
      "            macro avg       0.59      0.58      0.58      1627\n",
      "         weighted avg       0.59      0.58      0.58      1627\n",
      "\n"
     ]
    }
   ],
   "source": [
    "\n",
    "# Encode labels\n",
    "label_encoder = LabelEncoder()\n",
    "y_encoded = label_encoder.fit_transform(labels)\n",
    "\n",
    "# Split dataset\n",
    "X_train, X_test, y_train, y_test = train_test_split(all_features, y_encoded, test_size=0.3, random_state=42)\n",
    "\n",
    "# Initialize and train the Random Forest model\n",
    "clf = RandomForestClassifier(n_estimators=100, random_state=42)\n",
    "clf.fit(X_train, y_train)\n",
    "\n",
    "# Predict and evaluate\n",
    "y_pred = clf.predict(X_test)\n",
    "print(f\"Accuracy: {accuracy_score(y_test, y_pred)}\")\n",
    "print(classification_report(y_test, y_pred, target_names=label_encoder.classes_))\n"
   ]
  }
 ],
 "metadata": {
  "kernelspec": {
   "display_name": "Python 3 (ipykernel)",
   "language": "python",
   "name": "python3"
  },
  "language_info": {
   "codemirror_mode": {
    "name": "ipython",
    "version": 3
   },
   "file_extension": ".py",
   "mimetype": "text/x-python",
   "name": "python",
   "nbconvert_exporter": "python",
   "pygments_lexer": "ipython3",
   "version": "3.11.5"
  }
 },
 "nbformat": 4,
 "nbformat_minor": 5
}
