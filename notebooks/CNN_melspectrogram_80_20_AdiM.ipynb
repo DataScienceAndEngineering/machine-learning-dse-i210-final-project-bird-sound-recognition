{
  "cells": [
    {
      "cell_type": "code",
      "execution_count": 1,
      "metadata": {
        "id": "I7S3Cbim_T6P"
      },
      "outputs": [],
      "source": [
        "import pandas as pd\n",
        "import os\n",
        "import numpy as np\n",
        "import librosa\n",
        "import tensorflow as tf\n",
        "import matplotlib.pyplot as plt\n",
        "import librosa.display\n",
        "from sklearn.model_selection import train_test_split\n",
        "import keras\n",
        "from keras import Model, Input\n",
        "from keras.layers import Conv1D, Flatten, Dense, Dropout, SpatialDropout1D, GlobalAveragePooling1D\n",
        "from keras.optimizers import Adam\n",
        "from keras.optimizers.schedules import ExponentialDecay\n",
        "from keras.losses import SparseCategoricalCrossentropy\n",
        "from keras.metrics import SparseCategoricalAccuracy\n",
        "from sklearn.metrics import average_precision_score, f1_score, precision_score, recall_score, roc_auc_score\n",
        "from keras.callbacks import TensorBoard, ModelCheckpoint\n",
        "import seaborn as sns"
      ]
    },
    {
      "cell_type": "code",
      "execution_count": 2,
      "metadata": {
        "colab": {
          "base_uri": "https://localhost:8080/"
        },
        "id": "iCfkaGpaO73D",
        "outputId": "a96d4fca-d50f-41d9-f987-f2f1c87a2134"
      },
      "outputs": [
        {
          "output_type": "stream",
          "name": "stdout",
          "text": [
            "Mounted at /content/drive\n"
          ]
        }
      ],
      "source": [
        "from google.colab import drive\n",
        "drive.mount('/content/drive')"
      ]
    },
    {
      "cell_type": "code",
      "execution_count": 3,
      "metadata": {
        "colab": {
          "base_uri": "https://localhost:8080/"
        },
        "id": "d27UE85UpfDe",
        "outputId": "b7c758b9-81d5-4ff1-91d7-2b2a4745a117"
      },
      "outputs": [
        {
          "output_type": "stream",
          "name": "stdout",
          "text": [
            "Num GPUs Available:  1\n"
          ]
        }
      ],
      "source": [
        "print(\"Num GPUs Available: \", len(tf.config.list_physical_devices('GPU')))\n",
        "#tf.debugging.set_log_device_placement(True)\n"
      ]
    },
    {
      "cell_type": "code",
      "execution_count": 4,
      "metadata": {
        "colab": {
          "base_uri": "https://localhost:8080/",
          "height": 747
        },
        "id": "BFPSpWhmCAeE",
        "outputId": "6fb70fde-52f3-4794-f9ab-18b179e24a84"
      },
      "outputs": [
        {
          "output_type": "execute_result",
          "data": {
            "text/plain": [
              "       id       genus   species subspecies           name  \\\n",
              "0  557838  Thryomanes  bewickii        NaN  Bewick's Wren   \n",
              "1  557838  Thryomanes  bewickii        NaN  Bewick's Wren   \n",
              "2  557838  Thryomanes  bewickii        NaN  Bewick's Wren   \n",
              "3  557838  Thryomanes  bewickii        NaN  Bewick's Wren   \n",
              "4  557838  Thryomanes  bewickii        NaN  Bewick's Wren   \n",
              "\n",
              "                recordist        country  \\\n",
              "0  Whitney Neufeld-Kaiser  United States   \n",
              "1  Whitney Neufeld-Kaiser  United States   \n",
              "2  Whitney Neufeld-Kaiser  United States   \n",
              "3  Whitney Neufeld-Kaiser  United States   \n",
              "4  Whitney Neufeld-Kaiser  United States   \n",
              "\n",
              "                                  location  latitude  longitude altitude  \\\n",
              "0  Arlington, Snohomish County, Washington   48.0708  -122.1006      100   \n",
              "1  Arlington, Snohomish County, Washington   48.0708  -122.1006      100   \n",
              "2  Arlington, Snohomish County, Washington   48.0708  -122.1006      100   \n",
              "3  Arlington, Snohomish County, Washington   48.0708  -122.1006      100   \n",
              "4  Arlington, Snohomish County, Washington   48.0708  -122.1006      100   \n",
              "\n",
              "                   sound_type                   source_url  \\\n",
              "0  adult, sex uncertain, song  //www.xeno-canto.org/557838   \n",
              "1  adult, sex uncertain, song  //www.xeno-canto.org/557838   \n",
              "2  adult, sex uncertain, song  //www.xeno-canto.org/557838   \n",
              "3  adult, sex uncertain, song  //www.xeno-canto.org/557838   \n",
              "4  adult, sex uncertain, song  //www.xeno-canto.org/557838   \n",
              "\n",
              "                                        license   time        date  \\\n",
              "0  //creativecommons.org/licenses/by-nc-sa/4.0/  11:51  2020-03-14   \n",
              "1  //creativecommons.org/licenses/by-nc-sa/4.0/  11:51  2020-03-14   \n",
              "2  //creativecommons.org/licenses/by-nc-sa/4.0/  11:51  2020-03-14   \n",
              "3  //creativecommons.org/licenses/by-nc-sa/4.0/  11:51  2020-03-14   \n",
              "4  //creativecommons.org/licenses/by-nc-sa/4.0/  11:51  2020-03-14   \n",
              "\n",
              "                                             remarks      filename  \n",
              "0  Recorded with Voice Record Pro on iPhone7, nor...  557838-0.wav  \n",
              "1  Recorded with Voice Record Pro on iPhone7, nor...  557838-1.wav  \n",
              "2  Recorded with Voice Record Pro on iPhone7, nor...  557838-4.wav  \n",
              "3  Recorded with Voice Record Pro on iPhone7, nor...  557838-5.wav  \n",
              "4  Recorded with Voice Record Pro on iPhone7, nor...  557838-6.wav  "
            ],
            "text/html": [
              "\n",
              "  <div id=\"df-85e843d4-1870-4686-878a-1bb497e06f64\" class=\"colab-df-container\">\n",
              "    <div>\n",
              "<style scoped>\n",
              "    .dataframe tbody tr th:only-of-type {\n",
              "        vertical-align: middle;\n",
              "    }\n",
              "\n",
              "    .dataframe tbody tr th {\n",
              "        vertical-align: top;\n",
              "    }\n",
              "\n",
              "    .dataframe thead th {\n",
              "        text-align: right;\n",
              "    }\n",
              "</style>\n",
              "<table border=\"1\" class=\"dataframe\">\n",
              "  <thead>\n",
              "    <tr style=\"text-align: right;\">\n",
              "      <th></th>\n",
              "      <th>id</th>\n",
              "      <th>genus</th>\n",
              "      <th>species</th>\n",
              "      <th>subspecies</th>\n",
              "      <th>name</th>\n",
              "      <th>recordist</th>\n",
              "      <th>country</th>\n",
              "      <th>location</th>\n",
              "      <th>latitude</th>\n",
              "      <th>longitude</th>\n",
              "      <th>altitude</th>\n",
              "      <th>sound_type</th>\n",
              "      <th>source_url</th>\n",
              "      <th>license</th>\n",
              "      <th>time</th>\n",
              "      <th>date</th>\n",
              "      <th>remarks</th>\n",
              "      <th>filename</th>\n",
              "    </tr>\n",
              "  </thead>\n",
              "  <tbody>\n",
              "    <tr>\n",
              "      <th>0</th>\n",
              "      <td>557838</td>\n",
              "      <td>Thryomanes</td>\n",
              "      <td>bewickii</td>\n",
              "      <td>NaN</td>\n",
              "      <td>Bewick's Wren</td>\n",
              "      <td>Whitney Neufeld-Kaiser</td>\n",
              "      <td>United States</td>\n",
              "      <td>Arlington, Snohomish County, Washington</td>\n",
              "      <td>48.0708</td>\n",
              "      <td>-122.1006</td>\n",
              "      <td>100</td>\n",
              "      <td>adult, sex uncertain, song</td>\n",
              "      <td>//www.xeno-canto.org/557838</td>\n",
              "      <td>//creativecommons.org/licenses/by-nc-sa/4.0/</td>\n",
              "      <td>11:51</td>\n",
              "      <td>2020-03-14</td>\n",
              "      <td>Recorded with Voice Record Pro on iPhone7, nor...</td>\n",
              "      <td>557838-0.wav</td>\n",
              "    </tr>\n",
              "    <tr>\n",
              "      <th>1</th>\n",
              "      <td>557838</td>\n",
              "      <td>Thryomanes</td>\n",
              "      <td>bewickii</td>\n",
              "      <td>NaN</td>\n",
              "      <td>Bewick's Wren</td>\n",
              "      <td>Whitney Neufeld-Kaiser</td>\n",
              "      <td>United States</td>\n",
              "      <td>Arlington, Snohomish County, Washington</td>\n",
              "      <td>48.0708</td>\n",
              "      <td>-122.1006</td>\n",
              "      <td>100</td>\n",
              "      <td>adult, sex uncertain, song</td>\n",
              "      <td>//www.xeno-canto.org/557838</td>\n",
              "      <td>//creativecommons.org/licenses/by-nc-sa/4.0/</td>\n",
              "      <td>11:51</td>\n",
              "      <td>2020-03-14</td>\n",
              "      <td>Recorded with Voice Record Pro on iPhone7, nor...</td>\n",
              "      <td>557838-1.wav</td>\n",
              "    </tr>\n",
              "    <tr>\n",
              "      <th>2</th>\n",
              "      <td>557838</td>\n",
              "      <td>Thryomanes</td>\n",
              "      <td>bewickii</td>\n",
              "      <td>NaN</td>\n",
              "      <td>Bewick's Wren</td>\n",
              "      <td>Whitney Neufeld-Kaiser</td>\n",
              "      <td>United States</td>\n",
              "      <td>Arlington, Snohomish County, Washington</td>\n",
              "      <td>48.0708</td>\n",
              "      <td>-122.1006</td>\n",
              "      <td>100</td>\n",
              "      <td>adult, sex uncertain, song</td>\n",
              "      <td>//www.xeno-canto.org/557838</td>\n",
              "      <td>//creativecommons.org/licenses/by-nc-sa/4.0/</td>\n",
              "      <td>11:51</td>\n",
              "      <td>2020-03-14</td>\n",
              "      <td>Recorded with Voice Record Pro on iPhone7, nor...</td>\n",
              "      <td>557838-4.wav</td>\n",
              "    </tr>\n",
              "    <tr>\n",
              "      <th>3</th>\n",
              "      <td>557838</td>\n",
              "      <td>Thryomanes</td>\n",
              "      <td>bewickii</td>\n",
              "      <td>NaN</td>\n",
              "      <td>Bewick's Wren</td>\n",
              "      <td>Whitney Neufeld-Kaiser</td>\n",
              "      <td>United States</td>\n",
              "      <td>Arlington, Snohomish County, Washington</td>\n",
              "      <td>48.0708</td>\n",
              "      <td>-122.1006</td>\n",
              "      <td>100</td>\n",
              "      <td>adult, sex uncertain, song</td>\n",
              "      <td>//www.xeno-canto.org/557838</td>\n",
              "      <td>//creativecommons.org/licenses/by-nc-sa/4.0/</td>\n",
              "      <td>11:51</td>\n",
              "      <td>2020-03-14</td>\n",
              "      <td>Recorded with Voice Record Pro on iPhone7, nor...</td>\n",
              "      <td>557838-5.wav</td>\n",
              "    </tr>\n",
              "    <tr>\n",
              "      <th>4</th>\n",
              "      <td>557838</td>\n",
              "      <td>Thryomanes</td>\n",
              "      <td>bewickii</td>\n",
              "      <td>NaN</td>\n",
              "      <td>Bewick's Wren</td>\n",
              "      <td>Whitney Neufeld-Kaiser</td>\n",
              "      <td>United States</td>\n",
              "      <td>Arlington, Snohomish County, Washington</td>\n",
              "      <td>48.0708</td>\n",
              "      <td>-122.1006</td>\n",
              "      <td>100</td>\n",
              "      <td>adult, sex uncertain, song</td>\n",
              "      <td>//www.xeno-canto.org/557838</td>\n",
              "      <td>//creativecommons.org/licenses/by-nc-sa/4.0/</td>\n",
              "      <td>11:51</td>\n",
              "      <td>2020-03-14</td>\n",
              "      <td>Recorded with Voice Record Pro on iPhone7, nor...</td>\n",
              "      <td>557838-6.wav</td>\n",
              "    </tr>\n",
              "  </tbody>\n",
              "</table>\n",
              "</div>\n",
              "    <div class=\"colab-df-buttons\">\n",
              "\n",
              "  <div class=\"colab-df-container\">\n",
              "    <button class=\"colab-df-convert\" onclick=\"convertToInteractive('df-85e843d4-1870-4686-878a-1bb497e06f64')\"\n",
              "            title=\"Convert this dataframe to an interactive table.\"\n",
              "            style=\"display:none;\">\n",
              "\n",
              "  <svg xmlns=\"http://www.w3.org/2000/svg\" height=\"24px\" viewBox=\"0 -960 960 960\">\n",
              "    <path d=\"M120-120v-720h720v720H120Zm60-500h600v-160H180v160Zm220 220h160v-160H400v160Zm0 220h160v-160H400v160ZM180-400h160v-160H180v160Zm440 0h160v-160H620v160ZM180-180h160v-160H180v160Zm440 0h160v-160H620v160Z\"/>\n",
              "  </svg>\n",
              "    </button>\n",
              "\n",
              "  <style>\n",
              "    .colab-df-container {\n",
              "      display:flex;\n",
              "      gap: 12px;\n",
              "    }\n",
              "\n",
              "    .colab-df-convert {\n",
              "      background-color: #E8F0FE;\n",
              "      border: none;\n",
              "      border-radius: 50%;\n",
              "      cursor: pointer;\n",
              "      display: none;\n",
              "      fill: #1967D2;\n",
              "      height: 32px;\n",
              "      padding: 0 0 0 0;\n",
              "      width: 32px;\n",
              "    }\n",
              "\n",
              "    .colab-df-convert:hover {\n",
              "      background-color: #E2EBFA;\n",
              "      box-shadow: 0px 1px 2px rgba(60, 64, 67, 0.3), 0px 1px 3px 1px rgba(60, 64, 67, 0.15);\n",
              "      fill: #174EA6;\n",
              "    }\n",
              "\n",
              "    .colab-df-buttons div {\n",
              "      margin-bottom: 4px;\n",
              "    }\n",
              "\n",
              "    [theme=dark] .colab-df-convert {\n",
              "      background-color: #3B4455;\n",
              "      fill: #D2E3FC;\n",
              "    }\n",
              "\n",
              "    [theme=dark] .colab-df-convert:hover {\n",
              "      background-color: #434B5C;\n",
              "      box-shadow: 0px 1px 3px 1px rgba(0, 0, 0, 0.15);\n",
              "      filter: drop-shadow(0px 1px 2px rgba(0, 0, 0, 0.3));\n",
              "      fill: #FFFFFF;\n",
              "    }\n",
              "  </style>\n",
              "\n",
              "    <script>\n",
              "      const buttonEl =\n",
              "        document.querySelector('#df-85e843d4-1870-4686-878a-1bb497e06f64 button.colab-df-convert');\n",
              "      buttonEl.style.display =\n",
              "        google.colab.kernel.accessAllowed ? 'block' : 'none';\n",
              "\n",
              "      async function convertToInteractive(key) {\n",
              "        const element = document.querySelector('#df-85e843d4-1870-4686-878a-1bb497e06f64');\n",
              "        const dataTable =\n",
              "          await google.colab.kernel.invokeFunction('convertToInteractive',\n",
              "                                                    [key], {});\n",
              "        if (!dataTable) return;\n",
              "\n",
              "        const docLinkHtml = 'Like what you see? Visit the ' +\n",
              "          '<a target=\"_blank\" href=https://colab.research.google.com/notebooks/data_table.ipynb>data table notebook</a>'\n",
              "          + ' to learn more about interactive tables.';\n",
              "        element.innerHTML = '';\n",
              "        dataTable['output_type'] = 'display_data';\n",
              "        await google.colab.output.renderOutput(dataTable, element);\n",
              "        const docLink = document.createElement('div');\n",
              "        docLink.innerHTML = docLinkHtml;\n",
              "        element.appendChild(docLink);\n",
              "      }\n",
              "    </script>\n",
              "  </div>\n",
              "\n",
              "\n",
              "<div id=\"df-34fbc057-5d5d-404c-8ab2-e5577a0485c4\">\n",
              "  <button class=\"colab-df-quickchart\" onclick=\"quickchart('df-34fbc057-5d5d-404c-8ab2-e5577a0485c4')\"\n",
              "            title=\"Suggest charts\"\n",
              "            style=\"display:none;\">\n",
              "\n",
              "<svg xmlns=\"http://www.w3.org/2000/svg\" height=\"24px\"viewBox=\"0 0 24 24\"\n",
              "     width=\"24px\">\n",
              "    <g>\n",
              "        <path d=\"M19 3H5c-1.1 0-2 .9-2 2v14c0 1.1.9 2 2 2h14c1.1 0 2-.9 2-2V5c0-1.1-.9-2-2-2zM9 17H7v-7h2v7zm4 0h-2V7h2v10zm4 0h-2v-4h2v4z\"/>\n",
              "    </g>\n",
              "</svg>\n",
              "  </button>\n",
              "\n",
              "<style>\n",
              "  .colab-df-quickchart {\n",
              "      --bg-color: #E8F0FE;\n",
              "      --fill-color: #1967D2;\n",
              "      --hover-bg-color: #E2EBFA;\n",
              "      --hover-fill-color: #174EA6;\n",
              "      --disabled-fill-color: #AAA;\n",
              "      --disabled-bg-color: #DDD;\n",
              "  }\n",
              "\n",
              "  [theme=dark] .colab-df-quickchart {\n",
              "      --bg-color: #3B4455;\n",
              "      --fill-color: #D2E3FC;\n",
              "      --hover-bg-color: #434B5C;\n",
              "      --hover-fill-color: #FFFFFF;\n",
              "      --disabled-bg-color: #3B4455;\n",
              "      --disabled-fill-color: #666;\n",
              "  }\n",
              "\n",
              "  .colab-df-quickchart {\n",
              "    background-color: var(--bg-color);\n",
              "    border: none;\n",
              "    border-radius: 50%;\n",
              "    cursor: pointer;\n",
              "    display: none;\n",
              "    fill: var(--fill-color);\n",
              "    height: 32px;\n",
              "    padding: 0;\n",
              "    width: 32px;\n",
              "  }\n",
              "\n",
              "  .colab-df-quickchart:hover {\n",
              "    background-color: var(--hover-bg-color);\n",
              "    box-shadow: 0 1px 2px rgba(60, 64, 67, 0.3), 0 1px 3px 1px rgba(60, 64, 67, 0.15);\n",
              "    fill: var(--button-hover-fill-color);\n",
              "  }\n",
              "\n",
              "  .colab-df-quickchart-complete:disabled,\n",
              "  .colab-df-quickchart-complete:disabled:hover {\n",
              "    background-color: var(--disabled-bg-color);\n",
              "    fill: var(--disabled-fill-color);\n",
              "    box-shadow: none;\n",
              "  }\n",
              "\n",
              "  .colab-df-spinner {\n",
              "    border: 2px solid var(--fill-color);\n",
              "    border-color: transparent;\n",
              "    border-bottom-color: var(--fill-color);\n",
              "    animation:\n",
              "      spin 1s steps(1) infinite;\n",
              "  }\n",
              "\n",
              "  @keyframes spin {\n",
              "    0% {\n",
              "      border-color: transparent;\n",
              "      border-bottom-color: var(--fill-color);\n",
              "      border-left-color: var(--fill-color);\n",
              "    }\n",
              "    20% {\n",
              "      border-color: transparent;\n",
              "      border-left-color: var(--fill-color);\n",
              "      border-top-color: var(--fill-color);\n",
              "    }\n",
              "    30% {\n",
              "      border-color: transparent;\n",
              "      border-left-color: var(--fill-color);\n",
              "      border-top-color: var(--fill-color);\n",
              "      border-right-color: var(--fill-color);\n",
              "    }\n",
              "    40% {\n",
              "      border-color: transparent;\n",
              "      border-right-color: var(--fill-color);\n",
              "      border-top-color: var(--fill-color);\n",
              "    }\n",
              "    60% {\n",
              "      border-color: transparent;\n",
              "      border-right-color: var(--fill-color);\n",
              "    }\n",
              "    80% {\n",
              "      border-color: transparent;\n",
              "      border-right-color: var(--fill-color);\n",
              "      border-bottom-color: var(--fill-color);\n",
              "    }\n",
              "    90% {\n",
              "      border-color: transparent;\n",
              "      border-bottom-color: var(--fill-color);\n",
              "    }\n",
              "  }\n",
              "</style>\n",
              "\n",
              "  <script>\n",
              "    async function quickchart(key) {\n",
              "      const quickchartButtonEl =\n",
              "        document.querySelector('#' + key + ' button');\n",
              "      quickchartButtonEl.disabled = true;  // To prevent multiple clicks.\n",
              "      quickchartButtonEl.classList.add('colab-df-spinner');\n",
              "      try {\n",
              "        const charts = await google.colab.kernel.invokeFunction(\n",
              "            'suggestCharts', [key], {});\n",
              "      } catch (error) {\n",
              "        console.error('Error during call to suggestCharts:', error);\n",
              "      }\n",
              "      quickchartButtonEl.classList.remove('colab-df-spinner');\n",
              "      quickchartButtonEl.classList.add('colab-df-quickchart-complete');\n",
              "    }\n",
              "    (() => {\n",
              "      let quickchartButtonEl =\n",
              "        document.querySelector('#df-34fbc057-5d5d-404c-8ab2-e5577a0485c4 button');\n",
              "      quickchartButtonEl.style.display =\n",
              "        google.colab.kernel.accessAllowed ? 'block' : 'none';\n",
              "    })();\n",
              "  </script>\n",
              "</div>\n",
              "\n",
              "    </div>\n",
              "  </div>\n"
            ],
            "application/vnd.google.colaboratory.intrinsic+json": {
              "type": "dataframe",
              "variable_name": "metadata",
              "summary": "{\n  \"name\": \"metadata\",\n  \"rows\": 5422,\n  \"fields\": [\n    {\n      \"column\": \"id\",\n      \"properties\": {\n        \"dtype\": \"number\",\n        \"std\": 158950,\n        \"min\": 11713,\n        \"max\": 565242,\n        \"num_unique_values\": 477,\n        \"samples\": [\n          71208,\n          323979,\n          321789\n        ],\n        \"semantic_type\": \"\",\n        \"description\": \"\"\n      }\n    },\n    {\n      \"column\": \"genus\",\n      \"properties\": {\n        \"dtype\": \"category\",\n        \"num_unique_values\": 5,\n        \"samples\": [\n          \"Mimus\",\n          \"Cardinalis\",\n          \"Turdus\"\n        ],\n        \"semantic_type\": \"\",\n        \"description\": \"\"\n      }\n    },\n    {\n      \"column\": \"species\",\n      \"properties\": {\n        \"dtype\": \"category\",\n        \"num_unique_values\": 5,\n        \"samples\": [\n          \"polyglottos\",\n          \"cardinalis\",\n          \"migratorius\"\n        ],\n        \"semantic_type\": \"\",\n        \"description\": \"\"\n      }\n    },\n    {\n      \"column\": \"subspecies\",\n      \"properties\": {\n        \"dtype\": \"category\",\n        \"num_unique_values\": 28,\n        \"samples\": [\n          \"fallax\",\n          \"cardinalis\",\n          \"propinquus\"\n        ],\n        \"semantic_type\": \"\",\n        \"description\": \"\"\n      }\n    },\n    {\n      \"column\": \"name\",\n      \"properties\": {\n        \"dtype\": \"category\",\n        \"num_unique_values\": 5,\n        \"samples\": [\n          \"Northern Mockingbird\",\n          \"Northern Cardinal\",\n          \"American Robin\"\n        ],\n        \"semantic_type\": \"\",\n        \"description\": \"\"\n      }\n    },\n    {\n      \"column\": \"recordist\",\n      \"properties\": {\n        \"dtype\": \"category\",\n        \"num_unique_values\": 98,\n        \"samples\": [\n          \"Davyd Betchkal\",\n          \"Russ Wigh\",\n          \"David Vander Pluym\"\n        ],\n        \"semantic_type\": \"\",\n        \"description\": \"\"\n      }\n    },\n    {\n      \"column\": \"country\",\n      \"properties\": {\n        \"dtype\": \"category\",\n        \"num_unique_values\": 1,\n        \"samples\": [\n          \"United States\"\n        ],\n        \"semantic_type\": \"\",\n        \"description\": \"\"\n      }\n    },\n    {\n      \"column\": \"location\",\n      \"properties\": {\n        \"dtype\": \"category\",\n        \"num_unique_values\": 304,\n        \"samples\": [\n          \"Scotch Plains, Union County, New Jersey\"\n        ],\n        \"semantic_type\": \"\",\n        \"description\": \"\"\n      }\n    },\n    {\n      \"column\": \"latitude\",\n      \"properties\": {\n        \"dtype\": \"number\",\n        \"std\": 5.999919059186263,\n        \"min\": 21.2995,\n        \"max\": 64.5035,\n        \"num_unique_values\": 303,\n        \"samples\": [\n          40.5874\n        ],\n        \"semantic_type\": \"\",\n        \"description\": \"\"\n      }\n    },\n    {\n      \"column\": \"longitude\",\n      \"properties\": {\n        \"dtype\": \"number\",\n        \"std\": 18.099531385998954,\n        \"min\": -165.4053,\n        \"max\": -68.375,\n        \"num_unique_values\": 301,\n        \"samples\": [\n          -70.3351\n        ],\n        \"semantic_type\": \"\",\n        \"description\": \"\"\n      }\n    },\n    {\n      \"column\": \"altitude\",\n      \"properties\": {\n        \"dtype\": \"category\",\n        \"num_unique_values\": 91,\n        \"samples\": [\n          \"360\"\n        ],\n        \"semantic_type\": \"\",\n        \"description\": \"\"\n      }\n    },\n    {\n      \"column\": \"sound_type\",\n      \"properties\": {\n        \"dtype\": \"category\",\n        \"num_unique_values\": 31,\n        \"samples\": [\n          \"Several different song types appear in this recording of part of a single bout.,\"\n        ],\n        \"semantic_type\": \"\",\n        \"description\": \"\"\n      }\n    },\n    {\n      \"column\": \"source_url\",\n      \"properties\": {\n        \"dtype\": \"category\",\n        \"num_unique_values\": 477,\n        \"samples\": [\n          \"//www.xeno-canto.org/71208\"\n        ],\n        \"semantic_type\": \"\",\n        \"description\": \"\"\n      }\n    },\n    {\n      \"column\": \"license\",\n      \"properties\": {\n        \"dtype\": \"category\",\n        \"num_unique_values\": 6,\n        \"samples\": [\n          \"//creativecommons.org/licenses/by-nc-sa/4.0/\"\n        ],\n        \"semantic_type\": \"\",\n        \"description\": \"\"\n      }\n    },\n    {\n      \"column\": \"time\",\n      \"properties\": {\n        \"dtype\": \"category\",\n        \"num_unique_values\": 247,\n        \"samples\": [\n          \"09:02\"\n        ],\n        \"semantic_type\": \"\",\n        \"description\": \"\"\n      }\n    },\n    {\n      \"column\": \"date\",\n      \"properties\": {\n        \"dtype\": \"category\",\n        \"num_unique_values\": 342,\n        \"samples\": [\n          \"2014-06-08\"\n        ],\n        \"semantic_type\": \"\",\n        \"description\": \"\"\n      }\n    },\n    {\n      \"column\": \"remarks\",\n      \"properties\": {\n        \"dtype\": \"category\",\n        \"num_unique_values\": 302,\n        \"samples\": [\n          \"Same individual as XC363141\"\n        ],\n        \"semantic_type\": \"\",\n        \"description\": \"\"\n      }\n    },\n    {\n      \"column\": \"filename\",\n      \"properties\": {\n        \"dtype\": \"string\",\n        \"num_unique_values\": 5422,\n        \"samples\": [\n          \"109034-2.wav\"\n        ],\n        \"semantic_type\": \"\",\n        \"description\": \"\"\n      }\n    }\n  ]\n}"
            }
          },
          "metadata": {},
          "execution_count": 4
        }
      ],
      "source": [
        "metadata = pd.read_csv('/content/drive/MyDrive/archive (17)/bird_songs_metadata.csv')\n",
        "metadata.head()"
      ]
    },
    {
      "cell_type": "code",
      "execution_count": 5,
      "metadata": {
        "colab": {
          "base_uri": "https://localhost:8080/"
        },
        "id": "gMtWJ-J-FKKZ",
        "outputId": "7853b6db-730d-44ba-f4c3-516d4c0166f3"
      },
      "outputs": [
        {
          "output_type": "execute_result",
          "data": {
            "text/plain": [
              "(['/content/drive/MyDrive/archive (17)/wavfiles/557838-0.wav',\n",
              "  '/content/drive/MyDrive/archive (17)/wavfiles/557838-1.wav',\n",
              "  '/content/drive/MyDrive/archive (17)/wavfiles/557838-4.wav',\n",
              "  '/content/drive/MyDrive/archive (17)/wavfiles/557838-5.wav',\n",
              "  '/content/drive/MyDrive/archive (17)/wavfiles/557838-6.wav'],\n",
              " ['bewickii', 'bewickii', 'bewickii', 'bewickii', 'bewickii'])"
            ]
          },
          "metadata": {},
          "execution_count": 5
        }
      ],
      "source": [
        "# Lists for storing the filepaths and labels\n",
        "file_paths = []\n",
        "labels = []\n",
        "\n",
        "audio_dir = '/content/drive/MyDrive/archive (17)/wavfiles/'\n",
        "\n",
        "for index, row in metadata.iterrows():\n",
        "    file_path = os.path.join(audio_dir, row['filename'])\n",
        "    if os.path.exists(file_path):\n",
        "        file_paths.append(file_path)\n",
        "        labels.append(row['species'])\n",
        "\n",
        "file_paths[:5], labels[:5]"
      ]
    },
    {
      "cell_type": "code",
      "execution_count": 6,
      "metadata": {
        "colab": {
          "base_uri": "https://localhost:8080/"
        },
        "id": "t5DW5kJFZcGC",
        "outputId": "cf558e48-7a0a-4bc8-b3ad-ce792eda704f"
      },
      "outputs": [
        {
          "output_type": "execute_result",
          "data": {
            "text/plain": [
              "array([3, 3, 3, 3, 3])"
            ]
          },
          "metadata": {},
          "execution_count": 6
        }
      ],
      "source": [
        "# Converting labels to numeric\n",
        "label_dict = {label: index for index, label in enumerate(set(labels))}\n",
        "y = np.array([label_dict[label] for label in labels])\n",
        "y[:5]"
      ]
    },
    {
      "cell_type": "code",
      "execution_count": 7,
      "metadata": {
        "id": "Of-la5W8FqBH"
      },
      "outputs": [],
      "source": [
        "# Function to read audio file\n",
        "def read_file(path):\n",
        "    y, _ = librosa.load(path, sr=22050)  # Set the sample rate to ensure consistency\n",
        "    return y\n",
        "\n",
        "# Function to convert to dB scale\n",
        "def spec_to_db(y):\n",
        "    y_db = librosa.power_to_db(y, ref=np.max)\n",
        "    #y_db = librosa.amplitude_to_db(y, ref=100)\n",
        "    return y_db\n",
        "\n",
        "# Map function that returns spectrograms\n",
        "def map_function(path_tensor, label):\n",
        "    # Load audio file\n",
        "    y = tf.numpy_function(read_file, inp=[path_tensor], Tout=tf.float32)\n",
        "\n",
        "    # Compute the Short-Time Fourier Transform (STFT)\n",
        "    spectrogram = tf.abs(tf.signal.stft(y, frame_length=512, frame_step=64))\n",
        "\n",
        "    mel_weights = tf.signal.linear_to_mel_weight_matrix(\n",
        "        num_mel_bins=128,\n",
        "        num_spectrogram_bins=tf.shape(spectrogram)[-1],\n",
        "        sample_rate=22050,\n",
        "        lower_edge_hertz=0.0,\n",
        "        upper_edge_hertz=8000.0)\n",
        "    mel_spectrogram = tf.matmul(spectrogram, mel_weights)\n",
        "\n",
        "    # Convert to dB scale\n",
        "    #log_mel_spectrogram = tf.numpy_function(spec_to_db, inp=[mel_spectrogram], Tout=tf.float32)\n",
        "\n",
        "    #spectrogram_db = tf.numpy_function(spec_to_db, inp = [spectrogram], Tout = tf.float32)\n",
        "    #spectrogram_db = spectrogram_db/80+1\n",
        "\n",
        "    return mel_spectrogram, label\n",
        "\n",
        "\n",
        "def make_dataset(labels, file_paths, shuffle):\n",
        "    dataset = tf.data.Dataset.from_tensor_slices((file_paths, labels))\n",
        "    if shuffle:\n",
        "        dataset = dataset.shuffle(buffer_size=dataset.cardinality(), reshuffle_each_iteration=True)\n",
        "    dataset = dataset.map(map_function, num_parallel_calls=tf.data.AUTOTUNE)\n",
        "    dataset = dataset.batch(batch_size=64, drop_remainder=True).prefetch(tf.data.AUTOTUNE)\n",
        "    return dataset"
      ]
    },
    {
      "cell_type": "code",
      "execution_count": 8,
      "metadata": {
        "colab": {
          "base_uri": "https://localhost:8080/"
        },
        "id": "XFkV-HIoN-u0",
        "outputId": "cbce46a5-3c7a-4d64-f0bb-e0a2dd884751"
      },
      "outputs": [
        {
          "output_type": "stream",
          "name": "stdout",
          "text": [
            "Shape of input data in training dataset: (64, 1026, 128)\n"
          ]
        }
      ],
      "source": [
        "file_paths_train, file_paths_test, y_train, y_test = train_test_split(\n",
        "    file_paths, y, test_size=0.20, random_state=42)\n",
        "\n",
        "dataset_train = make_dataset(y_train, file_paths_train, shuffle=True)\n",
        "dataset_test = make_dataset(y_test, file_paths_test, shuffle=False)\n",
        "\n",
        "for batch in dataset_train.take(1):\n",
        "    input_data_shape = batch[0].shape\n",
        "print(\"Shape of input data in training dataset:\", input_data_shape)"
      ]
    },
    {
      "cell_type": "code",
      "execution_count": 9,
      "metadata": {
        "id": "kRNCJEmsZ1w2"
      },
      "outputs": [],
      "source": [
        "def create_model():\n",
        "    inputs = Input((1026, 128), name = '0_Input_shape')\n",
        "\n",
        "    x = Conv1D(64,8,2, activation='relu', padding='same', name = '1_Conv1D')(inputs)\n",
        "    x = SpatialDropout1D(0.17, name = '2_SpatialDropout1D')(x)\n",
        "\n",
        "    x = Conv1D(64,8,2, activation='relu', padding='same', name = '3_Conv1d')(x)\n",
        "    x = SpatialDropout1D(0.17, name = '4_SpatialDropout1D')(x)\n",
        "\n",
        "    x = Conv1D(64,8,2, activation='relu', padding='same', name = '5_Conv1d')(x)\n",
        "    x = SpatialDropout1D(0.17, name = '6_SpatialDropout1D')(x)\n",
        "\n",
        "    x = Conv1D(64,8,2, activation='relu', padding='same', name = '7_Conv1d')(x)\n",
        "    x = SpatialDropout1D(0.17, name = '8_SpatialDropout1D')(x)\n",
        "\n",
        "    x = GlobalAveragePooling1D(name = '9_Global_avg_pooling')(x)\n",
        "    x = Dense(512, activation='relu', name='10_Dense')(x)\n",
        "    x = Dropout(0.5, name='11_Dropout')(x)\n",
        "    outputs = Dense(5, name='12_Dense')(x)\n",
        "    model = Model(inputs=inputs, outputs=outputs, name = 'Bird_audio_classification_model')\n",
        "\n",
        "    return model"
      ]
    },
    {
      "cell_type": "code",
      "execution_count": 15,
      "metadata": {
        "colab": {
          "base_uri": "https://localhost:8080/"
        },
        "id": "zVbv5ob-Z44_",
        "outputId": "2ee4e608-d21c-4d9e-9f83-384282b5bb8f"
      },
      "outputs": [
        {
          "output_type": "stream",
          "name": "stdout",
          "text": [
            "Model: \"Bird_audio_classification_model\"\n",
            "_________________________________________________________________\n",
            " Layer (type)                Output Shape              Param #   \n",
            "=================================================================\n",
            " 0_Input_shape (InputLayer)  [(None, 1026, 128)]       0         \n",
            "                                                                 \n",
            " 1_Conv1D (Conv1D)           (None, 513, 64)           65600     \n",
            "                                                                 \n",
            " 2_SpatialDropout1D (Spatia  (None, 513, 64)           0         \n",
            " lDropout1D)                                                     \n",
            "                                                                 \n",
            " 3_Conv1d (Conv1D)           (None, 257, 64)           32832     \n",
            "                                                                 \n",
            " 4_SpatialDropout1D (Spatia  (None, 257, 64)           0         \n",
            " lDropout1D)                                                     \n",
            "                                                                 \n",
            " 5_Conv1d (Conv1D)           (None, 129, 64)           32832     \n",
            "                                                                 \n",
            " 6_SpatialDropout1D (Spatia  (None, 129, 64)           0         \n",
            " lDropout1D)                                                     \n",
            "                                                                 \n",
            " 7_Conv1d (Conv1D)           (None, 65, 64)            32832     \n",
            "                                                                 \n",
            " 8_SpatialDropout1D (Spatia  (None, 65, 64)            0         \n",
            " lDropout1D)                                                     \n",
            "                                                                 \n",
            " 9_Global_avg_pooling (Glob  (None, 64)                0         \n",
            " alAveragePooling1D)                                             \n",
            "                                                                 \n",
            " 10_Dense (Dense)            (None, 512)               33280     \n",
            "                                                                 \n",
            " 11_Dropout (Dropout)        (None, 512)               0         \n",
            "                                                                 \n",
            " 12_Dense (Dense)            (None, 5)                 2565      \n",
            "                                                                 \n",
            "=================================================================\n",
            "Total params: 199941 (781.02 KB)\n",
            "Trainable params: 199941 (781.02 KB)\n",
            "Non-trainable params: 0 (0.00 Byte)\n",
            "_________________________________________________________________\n"
          ]
        }
      ],
      "source": [
        "model = create_model()\n",
        "model.summary()"
      ]
    },
    {
      "cell_type": "code",
      "execution_count": 16,
      "metadata": {
        "id": "J72MU2akZ75E"
      },
      "outputs": [],
      "source": [
        "lr_schedule = ExponentialDecay(initial_learning_rate=1e-3,\n",
        "                               decay_steps= 4000, decay_rate = 0.5, staircase=False, name=None)\n",
        "\n",
        "model.compile(optimizer = Adam(lr_schedule),\n",
        "              loss = SparseCategoricalCrossentropy(from_logits = True),\n",
        "              metrics = [ SparseCategoricalAccuracy()])"
      ]
    },
    {
      "cell_type": "code",
      "execution_count": 12,
      "metadata": {
        "id": "_oKesMdkaBWn"
      },
      "outputs": [],
      "source": [
        "# Creating callbacks\n",
        "logdir = 'tb_logs/model'\n",
        "tensorboard_callback = TensorBoard(log_dir=logdir)\n",
        "\n",
        "checkpoint_filepath = 'model_checkpoint/model'\n",
        "model_checkpoint_callback = ModelCheckpoint(\n",
        "    filepath=checkpoint_filepath,\n",
        "    save_weights_only=False,\n",
        "    monitor='val_sparse_categorical_accuracy',\n",
        "    mode='max',\n",
        "    save_best_only=True)"
      ]
    },
    {
      "cell_type": "code",
      "execution_count": 17,
      "metadata": {
        "colab": {
          "base_uri": "https://localhost:8080/"
        },
        "id": "4aRTTwLgaEM7",
        "outputId": "f4640593-617d-418d-d981-aa51610f3e22"
      },
      "outputs": [
        {
          "output_type": "stream",
          "name": "stdout",
          "text": [
            "Epoch 1/60\n",
            "67/67 [==============================] - 20s 266ms/step - loss: 1.2584 - sparse_categorical_accuracy: 0.4433 - val_loss: 1.0263 - val_sparse_categorical_accuracy: 0.5820\n",
            "Epoch 2/60\n",
            "67/67 [==============================] - 16s 242ms/step - loss: 0.9602 - sparse_categorical_accuracy: 0.6122 - val_loss: 0.8466 - val_sparse_categorical_accuracy: 0.6582\n",
            "Epoch 3/60\n",
            "67/67 [==============================] - 16s 242ms/step - loss: 0.8069 - sparse_categorical_accuracy: 0.6940 - val_loss: 0.6632 - val_sparse_categorical_accuracy: 0.7646\n",
            "Epoch 4/60\n",
            "67/67 [==============================] - 16s 243ms/step - loss: 0.6997 - sparse_categorical_accuracy: 0.7449 - val_loss: 0.5981 - val_sparse_categorical_accuracy: 0.7793\n",
            "Epoch 5/60\n",
            "67/67 [==============================] - 16s 241ms/step - loss: 0.6468 - sparse_categorical_accuracy: 0.7656 - val_loss: 0.5472 - val_sparse_categorical_accuracy: 0.8086\n",
            "Epoch 6/60\n",
            "67/67 [==============================] - 16s 241ms/step - loss: 0.5609 - sparse_categorical_accuracy: 0.8001 - val_loss: 0.5241 - val_sparse_categorical_accuracy: 0.8145\n",
            "Epoch 7/60\n",
            "67/67 [==============================] - 16s 242ms/step - loss: 0.5109 - sparse_categorical_accuracy: 0.8256 - val_loss: 0.4462 - val_sparse_categorical_accuracy: 0.8496\n",
            "Epoch 8/60\n",
            "67/67 [==============================] - 16s 243ms/step - loss: 0.4662 - sparse_categorical_accuracy: 0.8403 - val_loss: 0.4116 - val_sparse_categorical_accuracy: 0.8613\n",
            "Epoch 9/60\n",
            "67/67 [==============================] - 16s 242ms/step - loss: 0.4242 - sparse_categorical_accuracy: 0.8582 - val_loss: 0.4012 - val_sparse_categorical_accuracy: 0.8604\n",
            "Epoch 10/60\n",
            "67/67 [==============================] - 18s 270ms/step - loss: 0.3868 - sparse_categorical_accuracy: 0.8654 - val_loss: 0.3657 - val_sparse_categorical_accuracy: 0.8740\n",
            "Epoch 11/60\n",
            "67/67 [==============================] - 16s 242ms/step - loss: 0.3832 - sparse_categorical_accuracy: 0.8680 - val_loss: 0.3212 - val_sparse_categorical_accuracy: 0.8887\n",
            "Epoch 12/60\n",
            "67/67 [==============================] - 16s 244ms/step - loss: 0.3348 - sparse_categorical_accuracy: 0.8862 - val_loss: 0.2908 - val_sparse_categorical_accuracy: 0.9033\n",
            "Epoch 13/60\n",
            "67/67 [==============================] - 18s 272ms/step - loss: 0.3087 - sparse_categorical_accuracy: 0.8925 - val_loss: 0.3020 - val_sparse_categorical_accuracy: 0.8955\n",
            "Epoch 14/60\n",
            "67/67 [==============================] - 18s 273ms/step - loss: 0.3307 - sparse_categorical_accuracy: 0.8860 - val_loss: 0.3013 - val_sparse_categorical_accuracy: 0.8994\n",
            "Epoch 15/60\n",
            "67/67 [==============================] - 16s 240ms/step - loss: 0.2973 - sparse_categorical_accuracy: 0.9016 - val_loss: 0.2913 - val_sparse_categorical_accuracy: 0.9102\n",
            "Epoch 16/60\n",
            "67/67 [==============================] - 16s 244ms/step - loss: 0.2872 - sparse_categorical_accuracy: 0.9011 - val_loss: 0.2676 - val_sparse_categorical_accuracy: 0.9131\n",
            "Epoch 17/60\n",
            "67/67 [==============================] - 16s 240ms/step - loss: 0.2761 - sparse_categorical_accuracy: 0.9095 - val_loss: 0.2488 - val_sparse_categorical_accuracy: 0.9150\n",
            "Epoch 18/60\n",
            "67/67 [==============================] - 16s 245ms/step - loss: 0.2326 - sparse_categorical_accuracy: 0.9207 - val_loss: 0.2589 - val_sparse_categorical_accuracy: 0.9160\n",
            "Epoch 19/60\n",
            "67/67 [==============================] - 16s 245ms/step - loss: 0.2296 - sparse_categorical_accuracy: 0.9235 - val_loss: 0.2522 - val_sparse_categorical_accuracy: 0.9170\n",
            "Epoch 20/60\n",
            "67/67 [==============================] - 16s 241ms/step - loss: 0.2338 - sparse_categorical_accuracy: 0.9216 - val_loss: 0.2525 - val_sparse_categorical_accuracy: 0.9160\n",
            "Epoch 21/60\n",
            "67/67 [==============================] - 16s 242ms/step - loss: 0.2248 - sparse_categorical_accuracy: 0.9261 - val_loss: 0.2386 - val_sparse_categorical_accuracy: 0.9248\n",
            "Epoch 22/60\n",
            "67/67 [==============================] - 16s 244ms/step - loss: 0.2262 - sparse_categorical_accuracy: 0.9258 - val_loss: 0.2269 - val_sparse_categorical_accuracy: 0.9248\n",
            "Epoch 23/60\n",
            "67/67 [==============================] - 18s 275ms/step - loss: 0.2027 - sparse_categorical_accuracy: 0.9335 - val_loss: 0.2160 - val_sparse_categorical_accuracy: 0.9336\n",
            "Epoch 24/60\n",
            "67/67 [==============================] - 16s 242ms/step - loss: 0.1803 - sparse_categorical_accuracy: 0.9419 - val_loss: 0.2614 - val_sparse_categorical_accuracy: 0.9219\n",
            "Epoch 25/60\n",
            "67/67 [==============================] - 16s 244ms/step - loss: 0.2051 - sparse_categorical_accuracy: 0.9244 - val_loss: 0.2126 - val_sparse_categorical_accuracy: 0.9365\n",
            "Epoch 26/60\n",
            "67/67 [==============================] - 18s 272ms/step - loss: 0.1786 - sparse_categorical_accuracy: 0.9412 - val_loss: 0.2440 - val_sparse_categorical_accuracy: 0.9160\n",
            "Epoch 27/60\n",
            "67/67 [==============================] - 16s 243ms/step - loss: 0.1621 - sparse_categorical_accuracy: 0.9471 - val_loss: 0.2065 - val_sparse_categorical_accuracy: 0.9287\n",
            "Epoch 28/60\n",
            "67/67 [==============================] - 16s 245ms/step - loss: 0.1763 - sparse_categorical_accuracy: 0.9405 - val_loss: 0.2103 - val_sparse_categorical_accuracy: 0.9316\n",
            "Epoch 29/60\n",
            "67/67 [==============================] - 16s 245ms/step - loss: 0.1726 - sparse_categorical_accuracy: 0.9424 - val_loss: 0.1922 - val_sparse_categorical_accuracy: 0.9404\n",
            "Epoch 30/60\n",
            "67/67 [==============================] - 16s 241ms/step - loss: 0.1349 - sparse_categorical_accuracy: 0.9527 - val_loss: 0.2170 - val_sparse_categorical_accuracy: 0.9326\n",
            "Epoch 31/60\n",
            "67/67 [==============================] - 16s 244ms/step - loss: 0.1540 - sparse_categorical_accuracy: 0.9492 - val_loss: 0.1911 - val_sparse_categorical_accuracy: 0.9463\n",
            "Epoch 32/60\n",
            "67/67 [==============================] - 16s 244ms/step - loss: 0.1523 - sparse_categorical_accuracy: 0.9480 - val_loss: 0.2165 - val_sparse_categorical_accuracy: 0.9316\n",
            "Epoch 33/60\n",
            "67/67 [==============================] - 16s 242ms/step - loss: 0.1560 - sparse_categorical_accuracy: 0.9466 - val_loss: 0.1944 - val_sparse_categorical_accuracy: 0.9453\n",
            "Epoch 34/60\n",
            "67/67 [==============================] - 16s 242ms/step - loss: 0.1478 - sparse_categorical_accuracy: 0.9471 - val_loss: 0.1953 - val_sparse_categorical_accuracy: 0.9395\n",
            "Epoch 35/60\n",
            "67/67 [==============================] - 17s 247ms/step - loss: 0.1414 - sparse_categorical_accuracy: 0.9506 - val_loss: 0.1753 - val_sparse_categorical_accuracy: 0.9492\n",
            "Epoch 36/60\n",
            "67/67 [==============================] - 16s 244ms/step - loss: 0.1253 - sparse_categorical_accuracy: 0.9597 - val_loss: 0.1679 - val_sparse_categorical_accuracy: 0.9531\n",
            "Epoch 37/60\n",
            "67/67 [==============================] - 18s 277ms/step - loss: 0.1313 - sparse_categorical_accuracy: 0.9562 - val_loss: 0.1816 - val_sparse_categorical_accuracy: 0.9424\n",
            "Epoch 38/60\n",
            "67/67 [==============================] - 18s 274ms/step - loss: 0.1332 - sparse_categorical_accuracy: 0.9545 - val_loss: 0.1855 - val_sparse_categorical_accuracy: 0.9434\n",
            "Epoch 39/60\n",
            "67/67 [==============================] - 18s 272ms/step - loss: 0.1313 - sparse_categorical_accuracy: 0.9543 - val_loss: 0.1727 - val_sparse_categorical_accuracy: 0.9502\n",
            "Epoch 40/60\n",
            "67/67 [==============================] - 16s 244ms/step - loss: 0.1149 - sparse_categorical_accuracy: 0.9578 - val_loss: 0.1893 - val_sparse_categorical_accuracy: 0.9453\n",
            "Epoch 41/60\n",
            "67/67 [==============================] - 17s 248ms/step - loss: 0.1040 - sparse_categorical_accuracy: 0.9615 - val_loss: 0.1895 - val_sparse_categorical_accuracy: 0.9424\n",
            "Epoch 42/60\n",
            "67/67 [==============================] - 16s 243ms/step - loss: 0.1058 - sparse_categorical_accuracy: 0.9660 - val_loss: 0.1733 - val_sparse_categorical_accuracy: 0.9502\n",
            "Epoch 43/60\n",
            "67/67 [==============================] - 18s 276ms/step - loss: 0.1009 - sparse_categorical_accuracy: 0.9646 - val_loss: 0.1875 - val_sparse_categorical_accuracy: 0.9492\n",
            "Epoch 44/60\n",
            "67/67 [==============================] - 16s 243ms/step - loss: 0.0998 - sparse_categorical_accuracy: 0.9674 - val_loss: 0.1797 - val_sparse_categorical_accuracy: 0.9453\n",
            "Epoch 45/60\n",
            "67/67 [==============================] - 18s 276ms/step - loss: 0.1162 - sparse_categorical_accuracy: 0.9620 - val_loss: 0.2146 - val_sparse_categorical_accuracy: 0.9443\n",
            "Epoch 46/60\n",
            "67/67 [==============================] - 18s 266ms/step - loss: 0.1072 - sparse_categorical_accuracy: 0.9613 - val_loss: 0.1742 - val_sparse_categorical_accuracy: 0.9570\n",
            "Epoch 47/60\n",
            "67/67 [==============================] - 16s 244ms/step - loss: 0.0971 - sparse_categorical_accuracy: 0.9667 - val_loss: 0.1833 - val_sparse_categorical_accuracy: 0.9541\n",
            "Epoch 48/60\n",
            "67/67 [==============================] - 18s 271ms/step - loss: 0.0986 - sparse_categorical_accuracy: 0.9667 - val_loss: 0.2078 - val_sparse_categorical_accuracy: 0.9395\n",
            "Epoch 49/60\n",
            "67/67 [==============================] - 16s 241ms/step - loss: 0.0980 - sparse_categorical_accuracy: 0.9683 - val_loss: 0.1778 - val_sparse_categorical_accuracy: 0.9463\n",
            "Epoch 50/60\n",
            "67/67 [==============================] - 16s 244ms/step - loss: 0.1117 - sparse_categorical_accuracy: 0.9622 - val_loss: 0.1901 - val_sparse_categorical_accuracy: 0.9473\n",
            "Epoch 51/60\n",
            "67/67 [==============================] - 18s 273ms/step - loss: 0.0965 - sparse_categorical_accuracy: 0.9690 - val_loss: 0.1847 - val_sparse_categorical_accuracy: 0.9492\n",
            "Epoch 52/60\n",
            "67/67 [==============================] - 18s 267ms/step - loss: 0.0945 - sparse_categorical_accuracy: 0.9669 - val_loss: 0.1828 - val_sparse_categorical_accuracy: 0.9590\n",
            "Epoch 53/60\n",
            "67/67 [==============================] - 16s 241ms/step - loss: 0.0862 - sparse_categorical_accuracy: 0.9699 - val_loss: 0.1837 - val_sparse_categorical_accuracy: 0.9463\n",
            "Epoch 54/60\n",
            "67/67 [==============================] - 16s 246ms/step - loss: 0.0733 - sparse_categorical_accuracy: 0.9762 - val_loss: 0.1749 - val_sparse_categorical_accuracy: 0.9561\n",
            "Epoch 55/60\n",
            "67/67 [==============================] - 19s 281ms/step - loss: 0.0754 - sparse_categorical_accuracy: 0.9734 - val_loss: 0.1829 - val_sparse_categorical_accuracy: 0.9502\n",
            "Epoch 56/60\n",
            "67/67 [==============================] - 16s 243ms/step - loss: 0.0851 - sparse_categorical_accuracy: 0.9746 - val_loss: 0.2172 - val_sparse_categorical_accuracy: 0.9463\n",
            "Epoch 57/60\n",
            "67/67 [==============================] - 18s 276ms/step - loss: 0.0850 - sparse_categorical_accuracy: 0.9725 - val_loss: 0.1790 - val_sparse_categorical_accuracy: 0.9551\n",
            "Epoch 58/60\n",
            "67/67 [==============================] - 16s 246ms/step - loss: 0.0773 - sparse_categorical_accuracy: 0.9741 - val_loss: 0.1712 - val_sparse_categorical_accuracy: 0.9580\n",
            "Epoch 59/60\n",
            "67/67 [==============================] - 18s 276ms/step - loss: 0.0697 - sparse_categorical_accuracy: 0.9776 - val_loss: 0.1995 - val_sparse_categorical_accuracy: 0.9561\n",
            "Epoch 60/60\n",
            "67/67 [==============================] - 16s 243ms/step - loss: 0.0611 - sparse_categorical_accuracy: 0.9802 - val_loss: 0.1796 - val_sparse_categorical_accuracy: 0.9590\n"
          ]
        }
      ],
      "source": [
        "training = model.fit(dataset_train, validation_data = dataset_test, epochs=60,\n",
        "                    callbacks=[tensorboard_callback,model_checkpoint_callback])\n"
      ]
    },
    {
      "cell_type": "code",
      "source": [
        "train_loss_df = pd.read_csv(\"/content/train_loss.csv\")\n",
        "val_loss_df = pd.read_csv(\"/content/val_loss.csv\")\n",
        "\n",
        "plt.figure(figsize=(10, 6))\n",
        "plt.plot(train_loss_df['Step'], train_loss_df['Value'], label='Train Loss', color='blue')\n",
        "plt.plot(val_loss_df['Step'], val_loss_df['Value'], label='Val Loss', color='red')\n",
        "plt.xlabel('Epoch')\n",
        "plt.ylabel('Loss')\n",
        "plt.legend()\n",
        "plt.show()"
      ],
      "metadata": {
        "colab": {
          "base_uri": "https://localhost:8080/",
          "height": 542
        },
        "id": "_MZJk6RwVu0s",
        "outputId": "a86e017f-dd1b-4c6f-d845-a5dccf58f619"
      },
      "execution_count": 26,
      "outputs": [
        {
          "output_type": "display_data",
          "data": {
            "text/plain": [
              "<Figure size 1000x600 with 1 Axes>"
            ],
            "image/png": "[encoded data removed]"
          },
          "metadata": {}
        }
      ]
    },
    {
      "cell_type": "code",
      "execution_count": 22,
      "metadata": {
        "colab": {
          "base_uri": "https://localhost:8080/"
        },
        "id": "aR72G-I-Cmzy",
        "outputId": "394fbbc9-60e8-4436-eee0-e52bf5e14ba0"
      },
      "outputs": [
        {
          "output_type": "stream",
          "name": "stdout",
          "text": [
            "16/16 [==============================] - 4s 199ms/step\n"
          ]
        }
      ],
      "source": [
        "y_logits = model.predict(dataset_test)\n",
        "y_prob = tf.nn.softmax(y_logits, axis=1)\n",
        "y_pred = tf.argmax(y_logits, axis=1)\n",
        "y_true = tf.concat(list(dataset_test.map(lambda s,lab: lab)), axis=0)"
      ]
    },
    {
      "cell_type": "code",
      "source": [
        "f1 = f1_score(y_true, y_pred, average='macro')\n",
        "precision = precision_score(y_true, y_pred, average='macro')\n",
        "recall = recall_score(y_true, y_pred, average='macro')\n",
        "auc = roc_auc_score(y_true, y_prob, average='macro', multi_class='ovo')\n",
        "print(f\"F1: {f1} | Precision: {precision} | Recall: {recall} | AUC: {auc}\")"
      ],
      "metadata": {
        "colab": {
          "base_uri": "https://localhost:8080/"
        },
        "id": "LkTcanSuVaWn",
        "outputId": "1ec9c307-8e39-4129-b394-3cfce78a73f0"
      },
      "execution_count": 23,
      "outputs": [
        {
          "output_type": "stream",
          "name": "stdout",
          "text": [
            "F1: 0.9594888853908966 | Precision: 0.9605069627743766 | Recall: 0.9587756206603573 | AUC: 0.9959998246213567\n"
          ]
        }
      ]
    },
    {
      "cell_type": "code",
      "source": [
        "confusion_mtx = tf.math.confusion_matrix(y_true, y_pred)\n",
        "plt.figure(figsize=(10, 8))\n",
        "sns.heatmap(confusion_mtx,\n",
        "            xticklabels=['bewickii','polyglottos','migratorius','melodia','cardinalis'],\n",
        "            yticklabels=['bewickii','polyglottos','migratorius','melodia','cardinalis'],\n",
        "            annot=True, fmt='g', cmap = 'Blues')\n",
        "plt.xlabel('Prediction')\n",
        "plt.ylabel('Label')\n",
        "plt.show()"
      ],
      "metadata": {
        "colab": {
          "base_uri": "https://localhost:8080/",
          "height": 696
        },
        "id": "uRI9jUfaVdgL",
        "outputId": "7944b420-b498-4299-e2aa-ae09af5ffb91"
      },
      "execution_count": 24,
      "outputs": [
        {
          "output_type": "display_data",
          "data": {
            "text/plain": [
              "<Figure size 1000x800 with 2 Axes>"
            ],
            "image/png": "[encoded data removed]"
          },
          "metadata": {}
        }
      ]
    }
  ],
  "metadata": {
    "accelerator": "GPU",
    "colab": {
      "gpuType": "V100",
      "machine_shape": "hm",
      "provenance": []
    },
    "kernelspec": {
      "display_name": "Python 3 (ipykernel)",
      "language": "python",
      "name": "python3"
    },
    "language_info": {
      "codemirror_mode": {
        "name": "ipython",
        "version": 3
      },
      "file_extension": ".py",
      "mimetype": "text/x-python",
      "name": "python",
      "nbconvert_exporter": "python",
      "pygments_lexer": "ipython3",
      "version": "3.11.4"
    }
  },
  "nbformat": 4,
  "nbformat_minor": 0
}